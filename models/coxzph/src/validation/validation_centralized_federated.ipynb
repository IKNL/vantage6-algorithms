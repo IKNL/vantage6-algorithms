{
 "cells": [
  {
   "cell_type": "markdown",
   "id": "fa8c2599",
   "metadata": {},
   "source": [
    "<img src=\"https://github.com/IKNL/guidelines/blob/master/resources/logos/iknl_nl.png?raw=true\" width=200 align=\"right\">\n",
    "\n",
    "# `validation_centralized_federated`\n",
    "In this notebook, we validate our proposed federated GLM by comparing its performance against that of `R`'s `glm()` (i.e., centralized).\n",
    "\n",
    "The families that are shown in this notebook are: \n",
    "\n",
    "* `gaussian(link = \"identity\")`: Linear regression\n",
    "* `poisson(link = \"log\")`: Poisson regression\n",
    "* `binomial(link = \"logit\")`: Logistic regression\n",
    "\n",
    "\n",
    "## Requirements\n",
    "In order to be able to run it properly, make sure that the following libraries are installed:\n",
    "\n",
    "* `vtg` - Basic `vantage6` tools. These will allow you to use the mock client. They can be installed with the command:\n",
    "\n",
    "   `devtools::install_github('IKNL/vtg')`\n",
    "   \n",
    "   \n",
    "   \n",
    "* `vtg.glm` - The actual federated GLM algorithm. It can be installed with the command:\n",
    "\n",
    "   `devtools::install_github(repo='IKNL/vantage6-algorithms', ref='glm', subdir='models/glm/src')`"
   ]
  },
  {
   "cell_type": "markdown",
   "id": "e1f3a141",
   "metadata": {},
   "source": [
    "## Preliminaries"
   ]
  },
  {
   "cell_type": "code",
   "execution_count": 1,
   "id": "8834e674",
   "metadata": {},
   "outputs": [
    {
     "name": "stderr",
     "output_type": "stream",
     "text": [
      "\n",
      "Please cite as: \n",
      "\n",
      "\n",
      " Hlavac, Marek (2022). stargazer: Well-Formatted Regression and Summary Statistics Tables.\n",
      "\n",
      " R package version 5.2.3. https://CRAN.R-project.org/package=stargazer \n",
      "\n",
      "\n"
     ]
    }
   ],
   "source": [
    "# Imports\n",
    "library('stargazer')"
   ]
  },
  {
   "cell_type": "markdown",
   "id": "d1f7583e",
   "metadata": {},
   "source": [
    "## Data\n",
    "The `.csv` files for the data can be generated running the accompanying (Python) script `create_data.py`. Each family (i.e., model type) has its corresponding data. In all cases, they represent a horizontally-partitioned scenario (i.e., all parties have the same features from different individuals)."
   ]
  },
  {
   "cell_type": "markdown",
   "id": "03297f64",
   "metadata": {},
   "source": [
    "## Validation\n",
    "\n",
    "#### The `validate()` function\n",
    "This function compares the centralized and federated results. The most important values (coefficients, standard errors, $p$- and $z$-values are printed to the console using `stargazer`. Additionally, it checks if other values (such as conversion, formula, family, etc.) are equal between them (shown as `TRUE`) as a sanity check."
   ]
  },
  {
   "cell_type": "code",
   "execution_count": 2,
   "id": "1a7fe65b",
   "metadata": {},
   "outputs": [],
   "source": [
    "validate <- function(results_centralized, results_federated_plain){\n",
    "  \n",
    "  results_centralized_summary <- summary.glm(results_centralized)\n",
    "  results_federated <- vtg.glm::as.GLM(results_federated_plain)\n",
    "  \n",
    "  precision <- 10\n",
    "  options(digits=precision)\n",
    "  my_round <- function(x) {round(x, digits = 10)}\n",
    "  \n",
    "  validation_result <- list()\n",
    "    \n",
    "  # Coefficients\n",
    "  coeffs_centralized = sapply(results_centralized$coefficients, my_round, USE.NAMES = TRUE)    \n",
    "  coeffs_federated = sapply(results_federated_plain$coefficients, my_round, USE.NAMES = TRUE)\n",
    "  \n",
    "  df = data.frame(coeff_c = c(coeffs_centralized),\n",
    "                  coeff_f = c(coeffs_federated))  \n",
    "    \n",
    "  # Standard error\n",
    "  stderr_centralized = sapply(results_centralized_summary$coefficients[, 'Std. Error'], my_round, USE.NAMES = TRUE)\n",
    "  stderr_federated = sapply(results_federated_plain$Std.Error, my_round, USE.NAMES = TRUE)\n",
    "    \n",
    "  df['stderr_c'] <- c(stderr_centralized)\n",
    "  df['stderr_f'] <- c(stderr_federated)\n",
    "  \n",
    "\n",
    "  if(results_centralized_summary$family$family %in% c('poisson', 'binomial')) {letter='z'} \n",
    "  else if(results_centralized_summary$family$family=='gaussian') {letter='t'}\n",
    "  \n",
    "  # p-value\n",
    "  pval_centralized = sapply(results_centralized_summary$coefficients[, sprintf(\"Pr(>|%s|)\", letter)], my_round, USE.NAMES = TRUE)\n",
    "  pval_federated = sapply(results_federated_plain$pvalue, my_round, USE.NAMES = TRUE)\n",
    "   \n",
    "  df['pvalues_c'] <- c(pval_centralized)\n",
    "  df['pvalues_f'] <- c(pval_federated)\n",
    "    \n",
    "    \n",
    "  # z-value\n",
    "  zval_centralized = sapply(results_centralized_summary$coefficients[, sprintf(\"%s value\", letter)], my_round, USE.NAMES = TRUE)\n",
    "  zval_federated = sapply(results_federated_plain$zvalue, my_round, USE.NAMES = TRUE)\n",
    "  \n",
    "  df['zvalues_c'] <- c(zval_centralized)\n",
    "  df['zvalues_f'] <- c(zval_federated)\n",
    "    \n",
    "  print(\"LaTeX\")\n",
    "  stargazer(df, type=\"latex\", summary=FALSE)\n",
    "  print(\"Text\")\n",
    "  stargazer(df, type=\"text\", summary=FALSE)\n",
    "    \n",
    "    \n",
    "  # Converged\n",
    "  validation_result['converged'] = results_federated_plain$converged==results_centralized$converged\n",
    "  print(validation_result['converged'])\n",
    "    \n",
    "  # Dispersion\n",
    "  FL_dispersion = sapply(results_federated_plain$dispersion, my_round, USE.NAMES = TRUE)\n",
    "  central_dispersion = sapply(results_centralized_summary$dispersion, my_round, USE.NAMES = TRUE)\n",
    "  validation_result['dispersion'] = FL_dispersion==central_dispersion\n",
    "  \n",
    "  # Formula\n",
    "  validation_result['formula'] = results_federated_plain$formula==results_centralized$formula\n",
    "  \n",
    "  # Family\n",
    "  FL_family = jsonlite::toJSON(results_federated_plain$family, auto_unbox = TRUE, force = T)\n",
    "  central_family = jsonlite::toJSON(results_centralized$family, auto_unbox = TRUE, force = T)\n",
    "  validation_result['family'] = FL_family==central_family\n",
    "  \n",
    "  # null.deviance\n",
    "  FL_nulldeviance = sapply(results_federated_plain$null.deviance, my_round, USE.NAMES = TRUE)\n",
    "  central_nulldeviance = sapply(results_centralized$null.deviance, my_round, USE.NAMES = TRUE)\n",
    "  validation_result['null.deviance'] = FL_nulldeviance==central_nulldeviance\n",
    "  \n",
    "  # DoF\n",
    "  FL_dof = sapply(results_federated$df.residual, my_round, USE.NAMES = TRUE)\n",
    "  central_dof = sapply(results_centralized$df.residual, my_round, USE.NAMES = TRUE)\n",
    "  validation_result['df.residual'] = FL_dof==central_dof\n",
    "  \n",
    "  # null.dof\n",
    "  FL_null = sapply(results_federated$df.null, my_round, USE.NAMES = TRUE)\n",
    "  central_null = sapply(results_centralized$df.null, my_round, USE.NAMES = TRUE)\n",
    "  validation_result['df.null'] = FL_null==central_null\n",
    "    \n",
    "  validation_result\n",
    "}"
   ]
  },
  {
   "cell_type": "markdown",
   "id": "99369775",
   "metadata": {},
   "source": [
    "### Linear\n",
    "#### Centralized analysis"
   ]
  },
  {
   "cell_type": "code",
   "execution_count": 3,
   "id": "09eb4d91",
   "metadata": {},
   "outputs": [],
   "source": [
    "# Housekeeping\n",
    "if(exists('results_centralized')){\n",
    "    rm(results_centralized)\n",
    "}\n",
    "if(exists('results_federated_plain')){\n",
    "    rm(results_federated_plain)\n",
    "}\n",
    "\n",
    "datasets <- list(\n",
    "  read.csv('../data/linear_party1.csv'),\n",
    "  read.csv('../data/linear_party2.csv'),\n",
    "  read.csv('../data/linear_party3.csv')\n",
    ")\n",
    "datasets_combined <- do.call(rbind.data.frame, datasets)\n",
    "\n",
    "results_centralized <- glm(data=datasets_combined, formula = y ~ x1 + x2, family=gaussian(link = 'identity'))"
   ]
  },
  {
   "cell_type": "markdown",
   "id": "647a0283",
   "metadata": {},
   "source": [
    "#### Federated analysis"
   ]
  },
  {
   "cell_type": "code",
   "execution_count": 4,
   "id": "66c050b9",
   "metadata": {},
   "outputs": [
    {
     "name": "stderr",
     "output_type": "stream",
     "text": [
      "-----------------------------------------\n",
      "  Welcome to the vantage6 Infrastructure\n",
      "-----------------------------------------\n",
      "\n",
      "\n"
     ]
    },
    {
     "name": "stdout",
     "output_type": "stream",
     "text": [
      "INFO  [18:25:41.984]  \n",
      "INFO  [18:25:42.013] ############################################### \n",
      "INFO  [18:25:42.021] # Starting iteration 0 \n",
      "INFO  [18:25:42.024] ############################################### \n",
      "INFO  [18:25:42.026]  \n",
      "INFO  [18:25:42.029] 0.1 - RPC Node Beta \n",
      "\u001b[90mDEBUG\u001b[39m [18:25:42.032] ** Mocking call to \"node_beta\" ** \n",
      "\u001b[90mDEBUG\u001b[39m [18:25:42.035] Regular call \n",
      "\u001b[90mDEBUG\u001b[39m [18:25:42.039] there are 3 datasets ..  \n"
     ]
    },
    {
     "name": "stderr",
     "output_type": "stream",
     "text": [
      "Warning message in if (family == \"rs.poi\") eval(as.name(dstar), data) else dstar:\n",
      "\"the condition has length > 1 and only the first element will be used\"\n"
     ]
    },
    {
     "name": "stdout",
     "output_type": "stream",
     "text": [
      "\u001b[90mDEBUG\u001b[39m [18:25:42.107] Log for site 1: \n",
      "\u001b[90mDEBUG\u001b[39m [18:25:42.109] Running a (mere) regular container. \n",
      "Calling RPC_node_beta \n",
      "\u001b[90mDEBUG\u001b[39m [18:25:42.046] Initializing node beta... \n",
      "\u001b[90mDEBUG\u001b[39m [18:25:42.056] First iteration. Initializing variables. \n",
      "\u001b[90mDEBUG\u001b[39m [18:25:42.059] Calculating the Betas.  \n"
     ]
    },
    {
     "name": "stderr",
     "output_type": "stream",
     "text": [
      "Warning message in if (family == \"rs.poi\") eval(as.name(dstar), data) else dstar:\n",
      "\"the condition has length > 1 and only the first element will be used\"\n"
     ]
    },
    {
     "name": "stdout",
     "output_type": "stream",
     "text": [
      "\u001b[90mDEBUG\u001b[39m [18:25:42.124] Log for site 2: \n",
      "\u001b[90mDEBUG\u001b[39m [18:25:42.126] Running a (mere) regular container. \n",
      "Calling RPC_node_beta \n",
      "\u001b[90mDEBUG\u001b[39m [18:25:42.112] Initializing node beta... \n",
      "\u001b[90mDEBUG\u001b[39m [18:25:42.118] First iteration. Initializing variables. \n",
      "\u001b[90mDEBUG\u001b[39m [18:25:42.121] Calculating the Betas.  \n"
     ]
    },
    {
     "name": "stderr",
     "output_type": "stream",
     "text": [
      "Warning message in if (family == \"rs.poi\") eval(as.name(dstar), data) else dstar:\n",
      "\"the condition has length > 1 and only the first element will be used\"\n"
     ]
    },
    {
     "name": "stdout",
     "output_type": "stream",
     "text": [
      "\u001b[90mDEBUG\u001b[39m [18:25:42.143] Log for site 3: \n",
      "\u001b[90mDEBUG\u001b[39m [18:25:42.146] Running a (mere) regular container. \n",
      "Calling RPC_node_beta \n",
      "\u001b[90mDEBUG\u001b[39m [18:25:42.129] Initializing node beta... \n",
      "\u001b[90mDEBUG\u001b[39m [18:25:42.135] First iteration. Initializing variables. \n",
      "\u001b[90mDEBUG\u001b[39m [18:25:42.139] Calculating the Betas.  \n",
      "\u001b[90mDEBUG\u001b[39m [18:25:42.148]   - [DONE] \n",
      "INFO  [18:25:42.151] 0.2 - Master beta \n",
      "\u001b[90mDEBUG\u001b[39m [18:25:42.153] Initializing master Beta... \n",
      "\u001b[90mDEBUG\u001b[39m [18:25:42.156] Merging node calculation to update new Betas. \n",
      "\u001b[90mDEBUG\u001b[39m [18:25:42.159] Updating the Betas. \n",
      "\u001b[90mDEBUG\u001b[39m [18:25:42.179]   - [DONE] \n",
      "INFO  [18:25:42.182] 0.3 - RPC Node Deviance \n",
      "\u001b[90mDEBUG\u001b[39m [18:25:42.192] ** Mocking call to \"node_deviance\" ** \n",
      "\u001b[90mDEBUG\u001b[39m [18:25:42.226] Regular call \n",
      "\u001b[90mDEBUG\u001b[39m [18:25:42.229] there are 3 datasets ..  \n"
     ]
    },
    {
     "name": "stderr",
     "output_type": "stream",
     "text": [
      "Warning message in if (family == \"rs.poi\") eval(as.name(dstar), data) else dstar:\n",
      "\"the condition has length > 1 and only the first element will be used\"\n"
     ]
    },
    {
     "name": "stdout",
     "output_type": "stream",
     "text": [
      "\u001b[90mDEBUG\u001b[39m [18:25:42.249] Log for site 1: \n",
      "\u001b[90mDEBUG\u001b[39m [18:25:42.255] Running a (mere) regular container. \n",
      "Calling RPC_node_deviance \n",
      "\u001b[90mDEBUG\u001b[39m [18:25:42.232] Starting node deviance. \n",
      "\u001b[90mDEBUG\u001b[39m [18:25:42.237] First iteration. Initializing variables. \n",
      "\u001b[90mDEBUG\u001b[39m [18:25:42.243] Updating the variables for node deviance.  \n"
     ]
    },
    {
     "name": "stderr",
     "output_type": "stream",
     "text": [
      "Warning message in if (family == \"rs.poi\") eval(as.name(dstar), data) else dstar:\n",
      "\"the condition has length > 1 and only the first element will be used\"\n"
     ]
    },
    {
     "name": "stdout",
     "output_type": "stream",
     "text": [
      "\u001b[90mDEBUG\u001b[39m [18:25:42.272] Log for site 2: \n",
      "\u001b[90mDEBUG\u001b[39m [18:25:42.275] Running a (mere) regular container. \n",
      "Calling RPC_node_deviance \n",
      "\u001b[90mDEBUG\u001b[39m [18:25:42.259] Starting node deviance. \n",
      "\u001b[90mDEBUG\u001b[39m [18:25:42.267] First iteration. Initializing variables. \n",
      "\u001b[90mDEBUG\u001b[39m [18:25:42.269] Updating the variables for node deviance.  \n"
     ]
    },
    {
     "name": "stderr",
     "output_type": "stream",
     "text": [
      "Warning message in if (family == \"rs.poi\") eval(as.name(dstar), data) else dstar:\n",
      "\"the condition has length > 1 and only the first element will be used\"\n"
     ]
    },
    {
     "name": "stdout",
     "output_type": "stream",
     "text": [
      "\u001b[90mDEBUG\u001b[39m [18:25:42.291] Log for site 3: \n",
      "\u001b[90mDEBUG\u001b[39m [18:25:42.293] Running a (mere) regular container. \n",
      "Calling RPC_node_deviance \n",
      "\u001b[90mDEBUG\u001b[39m [18:25:42.278] Starting node deviance. \n",
      "\u001b[90mDEBUG\u001b[39m [18:25:42.283] First iteration. Initializing variables. \n",
      "\u001b[90mDEBUG\u001b[39m [18:25:42.286] Updating the variables for node deviance.  \n",
      "\u001b[90mDEBUG\u001b[39m [18:25:42.299]   - [DONE] \n",
      "INFO  [18:25:42.301] 0.4 - Master deviance \n",
      "\u001b[90mDEBUG\u001b[39m [18:25:42.304] Starting master deviance. \n",
      "\u001b[90mDEBUG\u001b[39m [18:25:42.307]   - [DONE] \n",
      "INFO  [18:25:42.310] 0.5 - Termination conditions \n",
      "\u001b[90mDEBUG\u001b[39m [18:25:42.312]   - [DONE] \n",
      "INFO  [18:25:42.315]  \n",
      "INFO  [18:25:42.317] ############################################### \n",
      "INFO  [18:25:42.322] # Starting iteration 1 \n",
      "INFO  [18:25:42.324] ############################################### \n",
      "INFO  [18:25:42.326]  \n",
      "INFO  [18:25:42.329] 1.1 - RPC Node Beta \n",
      "\u001b[90mDEBUG\u001b[39m [18:25:42.331] ** Mocking call to \"node_beta\" ** \n",
      "\u001b[90mDEBUG\u001b[39m [18:25:42.334] Regular call \n",
      "\u001b[90mDEBUG\u001b[39m [18:25:42.337] there are 3 datasets ..  \n"
     ]
    },
    {
     "name": "stderr",
     "output_type": "stream",
     "text": [
      "Warning message in if (family == \"rs.poi\") eval(as.name(dstar), data) else dstar:\n",
      "\"the condition has length > 1 and only the first element will be used\"\n"
     ]
    },
    {
     "name": "stdout",
     "output_type": "stream",
     "text": [
      "\u001b[90mDEBUG\u001b[39m [18:25:42.348] Log for site 1: \n",
      "\u001b[90mDEBUG\u001b[39m [18:25:42.352] Running a (mere) regular container. \n",
      "Calling RPC_node_beta \n",
      "\u001b[90mDEBUG\u001b[39m [18:25:42.339] Initializing node beta... \n",
      "\u001b[90mDEBUG\u001b[39m [18:25:42.345] Calculating the Betas.  \n"
     ]
    },
    {
     "name": "stderr",
     "output_type": "stream",
     "text": [
      "Warning message in if (family == \"rs.poi\") eval(as.name(dstar), data) else dstar:\n",
      "\"the condition has length > 1 and only the first element will be used\"\n"
     ]
    },
    {
     "name": "stdout",
     "output_type": "stream",
     "text": [
      "\u001b[90mDEBUG\u001b[39m [18:25:42.365] Log for site 2: \n",
      "\u001b[90mDEBUG\u001b[39m [18:25:42.367] Running a (mere) regular container. \n",
      "Calling RPC_node_beta \n",
      "\u001b[90mDEBUG\u001b[39m [18:25:42.356] Initializing node beta... \n",
      "\u001b[90mDEBUG\u001b[39m [18:25:42.362] Calculating the Betas.  \n"
     ]
    },
    {
     "name": "stderr",
     "output_type": "stream",
     "text": [
      "Warning message in if (family == \"rs.poi\") eval(as.name(dstar), data) else dstar:\n",
      "\"the condition has length > 1 and only the first element will be used\"\n"
     ]
    },
    {
     "name": "stdout",
     "output_type": "stream",
     "text": [
      "\u001b[90mDEBUG\u001b[39m [18:25:42.380] Log for site 3: \n",
      "\u001b[90mDEBUG\u001b[39m [18:25:42.382] Running a (mere) regular container. \n",
      "Calling RPC_node_beta \n",
      "\u001b[90mDEBUG\u001b[39m [18:25:42.370] Initializing node beta... \n",
      "\u001b[90mDEBUG\u001b[39m [18:25:42.377] Calculating the Betas.  \n",
      "\u001b[90mDEBUG\u001b[39m [18:25:42.384]   - [DONE] \n",
      "INFO  [18:25:42.387] 1.2 - Master beta \n",
      "\u001b[90mDEBUG\u001b[39m [18:25:42.390] Initializing master Beta... \n",
      "\u001b[90mDEBUG\u001b[39m [18:25:42.393] Merging node calculation to update new Betas. \n",
      "\u001b[90mDEBUG\u001b[39m [18:25:42.396] Updating the Betas. \n",
      "\u001b[90mDEBUG\u001b[39m [18:25:42.399]   - [DONE] \n",
      "INFO  [18:25:42.401] 1.3 - RPC Node Deviance \n",
      "\u001b[90mDEBUG\u001b[39m [18:25:42.403] ** Mocking call to \"node_deviance\" ** \n",
      "\u001b[90mDEBUG\u001b[39m [18:25:42.406] Regular call \n",
      "\u001b[90mDEBUG\u001b[39m [18:25:42.409] there are 3 datasets ..  \n"
     ]
    },
    {
     "name": "stderr",
     "output_type": "stream",
     "text": [
      "Warning message in if (family == \"rs.poi\") eval(as.name(dstar), data) else dstar:\n",
      "\"the condition has length > 1 and only the first element will be used\"\n"
     ]
    },
    {
     "name": "stdout",
     "output_type": "stream",
     "text": [
      "\u001b[90mDEBUG\u001b[39m [18:25:42.422] Log for site 1: \n",
      "\u001b[90mDEBUG\u001b[39m [18:25:42.424] Running a (mere) regular container. \n",
      "Calling RPC_node_deviance \n",
      "\u001b[90mDEBUG\u001b[39m [18:25:42.413] Starting node deviance. \n",
      "\u001b[90mDEBUG\u001b[39m [18:25:42.419] Updating the variables for node deviance.  \n"
     ]
    },
    {
     "name": "stderr",
     "output_type": "stream",
     "text": [
      "Warning message in if (family == \"rs.poi\") eval(as.name(dstar), data) else dstar:\n",
      "\"the condition has length > 1 and only the first element will be used\"\n"
     ]
    },
    {
     "name": "stdout",
     "output_type": "stream",
     "text": [
      "\u001b[90mDEBUG\u001b[39m [18:25:42.437] Log for site 2: \n",
      "\u001b[90mDEBUG\u001b[39m [18:25:42.440] Running a (mere) regular container. \n",
      "Calling RPC_node_deviance \n",
      "\u001b[90mDEBUG\u001b[39m [18:25:42.427] Starting node deviance. \n",
      "\u001b[90mDEBUG\u001b[39m [18:25:42.435] Updating the variables for node deviance.  \n"
     ]
    },
    {
     "name": "stderr",
     "output_type": "stream",
     "text": [
      "Warning message in if (family == \"rs.poi\") eval(as.name(dstar), data) else dstar:\n",
      "\"the condition has length > 1 and only the first element will be used\"\n"
     ]
    },
    {
     "name": "stdout",
     "output_type": "stream",
     "text": [
      "\u001b[90mDEBUG\u001b[39m [18:25:42.452] Log for site 3: \n",
      "\u001b[90mDEBUG\u001b[39m [18:25:42.455] Running a (mere) regular container. \n",
      "Calling RPC_node_deviance \n",
      "\u001b[90mDEBUG\u001b[39m [18:25:42.443] Starting node deviance. \n",
      "\u001b[90mDEBUG\u001b[39m [18:25:42.450] Updating the variables for node deviance.  \n",
      "\u001b[90mDEBUG\u001b[39m [18:25:42.458]   - [DONE] \n",
      "INFO  [18:25:42.461] 1.4 - Master deviance \n",
      "\u001b[90mDEBUG\u001b[39m [18:25:42.463] Starting master deviance. \n",
      "\u001b[90mDEBUG\u001b[39m [18:25:42.466]   - [DONE] \n",
      "INFO  [18:25:42.468] 1.5 - Termination conditions \n",
      "\u001b[90mDEBUG\u001b[39m [18:25:42.470]   - [CONVERGED] \n",
      "\u001b[90mDEBUG\u001b[39m [18:25:42.474] Preparing output \n"
     ]
    }
   ],
   "source": [
    "client <- vtg::MockClient$new(datasets, 'vtg.glm')\n",
    "results_federated_plain <- vtg.glm::dglm(client, formula = y ~ x1 + x2, family=gaussian(link = 'identity'), tol=1e-08, maxit=25)"
   ]
  },
  {
   "cell_type": "markdown",
   "id": "cc419ba5",
   "metadata": {},
   "source": [
    "#### Comparison"
   ]
  },
  {
   "cell_type": "code",
   "execution_count": 5,
   "id": "0db84e0f",
   "metadata": {
    "scrolled": false
   },
   "outputs": [
    {
     "name": "stdout",
     "output_type": "stream",
     "text": [
      "[1] \"LaTeX\"\n",
      "\n",
      "% Table created by stargazer v.5.2.3 by Marek Hlavac, Social Policy Institute. E-mail: marek.hlavac at gmail.com\n",
      "% Date and time: Mon, May 09, 2022 - 18:25:42\n",
      "\\begin{table}[!htbp] \\centering \n",
      "  \\caption{} \n",
      "  \\label{} \n",
      "\\begin{tabular}{@{\\extracolsep{5pt}} ccccccccc} \n",
      "\\\\[-1.8ex]\\hline \n",
      "\\hline \\\\[-1.8ex] \n",
      " & coeff\\_c & coeff\\_f & stderr\\_c & stderr\\_f & pvalues\\_c & pvalues\\_f & zvalues\\_c & zvalues\\_f \\\\ \n",
      "\\hline \\\\[-1.8ex] \n",
      "(Intercept) & $0.029$ & $0.029$ & $0.045$ & $0.045$ & $0.512$ & $0.512$ & $0.656$ & $0.656$ \\\\ \n",
      "x1 & $0.231$ & $0.231$ & $0.018$ & $0.018$ & $0$ & $0$ & $12.694$ & $12.694$ \\\\ \n",
      "x2 & $0.494$ & $0.494$ & $0.019$ & $0.019$ & $0$ & $0$ & $26.633$ & $26.633$ \\\\ \n",
      "\\hline \\\\[-1.8ex] \n",
      "\\end{tabular} \n",
      "\\end{table} \n",
      "[1] \"Text\"\n",
      "\n",
      "=====================================================================================\n",
      "            coeff_c coeff_f stderr_c stderr_f pvalues_c pvalues_f zvalues_c zvalues_f\n",
      "-------------------------------------------------------------------------------------\n",
      "(Intercept)  0.029   0.029   0.045    0.045     0.512     0.512     0.656     0.656  \n",
      "x1           0.231   0.231   0.018    0.018       0         0      12.694    12.694  \n",
      "x2           0.494   0.494   0.019    0.019       0         0      26.633    26.633  \n",
      "-------------------------------------------------------------------------------------\n",
      "$converged\n",
      "[1] TRUE\n",
      "\n",
      "$converged\n",
      "[1] TRUE\n",
      "\n",
      "$dispersion\n",
      "[1] TRUE\n",
      "\n",
      "$formula\n",
      "[1] TRUE\n",
      "\n",
      "$family\n",
      "[1] TRUE\n",
      "\n",
      "$null.deviance\n",
      "[1] TRUE\n",
      "\n",
      "$df.residual\n",
      "[1] TRUE\n",
      "\n",
      "$df.null\n",
      "[1] TRUE\n",
      "\n"
     ]
    }
   ],
   "source": [
    "val_linear_res = validate(results_centralized, results_federated_plain)\n",
    "print(val_linear_res)"
   ]
  },
  {
   "cell_type": "markdown",
   "id": "2f0c0bc1",
   "metadata": {},
   "source": [
    "### Poisson\n",
    "#### Centralized"
   ]
  },
  {
   "cell_type": "code",
   "execution_count": 6,
   "id": "e1d28882",
   "metadata": {},
   "outputs": [],
   "source": [
    "# Housekeeping\n",
    "if(exists('results_centralized')){\n",
    "    rm(results_centralized)\n",
    "}\n",
    "if(exists('results_federated_plain')){\n",
    "    rm(results_federated_plain)\n",
    "}\n",
    "\n",
    "datasets <- list(\n",
    "  read.csv('../data/poisson_party1.csv'),\n",
    "  read.csv('../data/poisson_party2.csv'),\n",
    "  read.csv('../data/poisson_party3.csv')\n",
    ")\n",
    "datasets_combined <- do.call(rbind.data.frame, datasets)\n",
    "\n",
    "results_centralized <- glm(data=datasets_combined, formula = y ~ x1 + x2, family=poisson(link = \"log\"))"
   ]
  },
  {
   "cell_type": "markdown",
   "id": "06a56f81",
   "metadata": {},
   "source": [
    "#### Federated"
   ]
  },
  {
   "cell_type": "code",
   "execution_count": 7,
   "id": "a3960653",
   "metadata": {},
   "outputs": [
    {
     "name": "stdout",
     "output_type": "stream",
     "text": [
      "\u001b[90mDEBUG\u001b[39m [18:25:42.739] Initializing... \n",
      "INFO  [18:25:42.742]  \n",
      "INFO  [18:25:42.744] ############################################### \n",
      "INFO  [18:25:42.747] # Starting iteration 0 \n",
      "INFO  [18:25:42.749] ############################################### \n",
      "INFO  [18:25:42.752]  \n",
      "INFO  [18:25:42.754] 0.1 - RPC Node Beta \n",
      "\u001b[90mDEBUG\u001b[39m [18:25:42.755] ** Mocking call to \"node_beta\" ** \n",
      "\u001b[90mDEBUG\u001b[39m [18:25:42.758] Regular call \n",
      "\u001b[90mDEBUG\u001b[39m [18:25:42.764] there are 3 datasets ..  \n"
     ]
    },
    {
     "name": "stderr",
     "output_type": "stream",
     "text": [
      "Warning message in if (family == \"rs.poi\") eval(as.name(dstar), data) else dstar:\n",
      "\"the condition has length > 1 and only the first element will be used\"\n"
     ]
    },
    {
     "name": "stdout",
     "output_type": "stream",
     "text": [
      "\u001b[90mDEBUG\u001b[39m [18:25:42.779] Log for site 1: \n",
      "\u001b[90mDEBUG\u001b[39m [18:25:42.782] Running a (mere) regular container. \n",
      "Calling RPC_node_beta \n",
      "\u001b[90mDEBUG\u001b[39m [18:25:42.766] Initializing node beta... \n",
      "\u001b[90mDEBUG\u001b[39m [18:25:42.773] First iteration. Initializing variables. \n",
      "\u001b[90mDEBUG\u001b[39m [18:25:42.776] Calculating the Betas.  \n"
     ]
    },
    {
     "name": "stderr",
     "output_type": "stream",
     "text": [
      "Warning message in if (family == \"rs.poi\") eval(as.name(dstar), data) else dstar:\n",
      "\"the condition has length > 1 and only the first element will be used\"\n"
     ]
    },
    {
     "name": "stdout",
     "output_type": "stream",
     "text": [
      "\u001b[90mDEBUG\u001b[39m [18:25:42.796] Log for site 2: \n",
      "\u001b[90mDEBUG\u001b[39m [18:25:42.799] Running a (mere) regular container. \n",
      "Calling RPC_node_beta \n",
      "\u001b[90mDEBUG\u001b[39m [18:25:42.784] Initializing node beta... \n",
      "\u001b[90mDEBUG\u001b[39m [18:25:42.790] First iteration. Initializing variables. \n",
      "\u001b[90mDEBUG\u001b[39m [18:25:42.793] Calculating the Betas.  \n"
     ]
    },
    {
     "name": "stderr",
     "output_type": "stream",
     "text": [
      "Warning message in if (family == \"rs.poi\") eval(as.name(dstar), data) else dstar:\n",
      "\"the condition has length > 1 and only the first element will be used\"\n"
     ]
    },
    {
     "name": "stdout",
     "output_type": "stream",
     "text": [
      "\u001b[90mDEBUG\u001b[39m [18:25:42.816] Log for site 3: \n",
      "\u001b[90mDEBUG\u001b[39m [18:25:42.818] Running a (mere) regular container. \n",
      "Calling RPC_node_beta \n",
      "\u001b[90mDEBUG\u001b[39m [18:25:42.801] Initializing node beta... \n",
      "\u001b[90mDEBUG\u001b[39m [18:25:42.810] First iteration. Initializing variables. \n",
      "\u001b[90mDEBUG\u001b[39m [18:25:42.813] Calculating the Betas.  \n",
      "\u001b[90mDEBUG\u001b[39m [18:25:42.820]   - [DONE] \n",
      "INFO  [18:25:42.823] 0.2 - Master beta \n",
      "\u001b[90mDEBUG\u001b[39m [18:25:42.826] Initializing master Beta... \n",
      "\u001b[90mDEBUG\u001b[39m [18:25:42.828] Merging node calculation to update new Betas. \n",
      "\u001b[90mDEBUG\u001b[39m [18:25:42.831] Updating the Betas. \n",
      "\u001b[90mDEBUG\u001b[39m [18:25:42.833]   - [DONE] \n",
      "INFO  [18:25:42.836] 0.3 - RPC Node Deviance \n",
      "\u001b[90mDEBUG\u001b[39m [18:25:42.839] ** Mocking call to \"node_deviance\" ** \n",
      "\u001b[90mDEBUG\u001b[39m [18:25:42.843] Regular call \n",
      "\u001b[90mDEBUG\u001b[39m [18:25:42.846] there are 3 datasets ..  \n"
     ]
    },
    {
     "name": "stderr",
     "output_type": "stream",
     "text": [
      "Warning message in if (family == \"rs.poi\") eval(as.name(dstar), data) else dstar:\n",
      "\"the condition has length > 1 and only the first element will be used\"\n"
     ]
    },
    {
     "name": "stdout",
     "output_type": "stream",
     "text": [
      "\u001b[90mDEBUG\u001b[39m [18:25:42.863] Log for site 1: \n",
      "\u001b[90mDEBUG\u001b[39m [18:25:42.865] Running a (mere) regular container. \n",
      "Calling RPC_node_deviance \n",
      "\u001b[90mDEBUG\u001b[39m [18:25:42.849] Starting node deviance. \n",
      "\u001b[90mDEBUG\u001b[39m [18:25:42.858] First iteration. Initializing variables. \n",
      "\u001b[90mDEBUG\u001b[39m [18:25:42.860] Updating the variables for node deviance.  \n"
     ]
    },
    {
     "name": "stderr",
     "output_type": "stream",
     "text": [
      "Warning message in if (family == \"rs.poi\") eval(as.name(dstar), data) else dstar:\n",
      "\"the condition has length > 1 and only the first element will be used\"\n"
     ]
    },
    {
     "name": "stdout",
     "output_type": "stream",
     "text": [
      "\u001b[90mDEBUG\u001b[39m [18:25:42.878] Log for site 2: \n",
      "\u001b[90mDEBUG\u001b[39m [18:25:42.880] Running a (mere) regular container. \n",
      "Calling RPC_node_deviance \n",
      "\u001b[90mDEBUG\u001b[39m [18:25:42.867] Starting node deviance. \n",
      "\u001b[90mDEBUG\u001b[39m [18:25:42.873] First iteration. Initializing variables. \n",
      "\u001b[90mDEBUG\u001b[39m [18:25:42.875] Updating the variables for node deviance.  \n"
     ]
    },
    {
     "name": "stderr",
     "output_type": "stream",
     "text": [
      "Warning message in if (family == \"rs.poi\") eval(as.name(dstar), data) else dstar:\n",
      "\"the condition has length > 1 and only the first element will be used\"\n"
     ]
    },
    {
     "name": "stdout",
     "output_type": "stream",
     "text": [
      "\u001b[90mDEBUG\u001b[39m [18:25:42.897] Log for site 3: \n",
      "\u001b[90mDEBUG\u001b[39m [18:25:42.899] Running a (mere) regular container. \n",
      "Calling RPC_node_deviance \n",
      "\u001b[90mDEBUG\u001b[39m [18:25:42.882] Starting node deviance. \n",
      "\u001b[90mDEBUG\u001b[39m [18:25:42.889] First iteration. Initializing variables. \n",
      "\u001b[90mDEBUG\u001b[39m [18:25:42.894] Updating the variables for node deviance.  \n",
      "\u001b[90mDEBUG\u001b[39m [18:25:42.901]   - [DONE] \n",
      "INFO  [18:25:42.904] 0.4 - Master deviance \n",
      "\u001b[90mDEBUG\u001b[39m [18:25:42.906] Starting master deviance. \n",
      "\u001b[90mDEBUG\u001b[39m [18:25:42.909]   - [DONE] \n",
      "INFO  [18:25:42.912] 0.5 - Termination conditions \n",
      "\u001b[90mDEBUG\u001b[39m [18:25:42.914]   - [DONE] \n",
      "INFO  [18:25:42.917]  \n",
      "INFO  [18:25:42.919] ############################################### \n",
      "INFO  [18:25:42.922] # Starting iteration 1 \n",
      "INFO  [18:25:42.925] ############################################### \n",
      "INFO  [18:25:42.927]  \n",
      "INFO  [18:25:42.929] 1.1 - RPC Node Beta \n",
      "\u001b[90mDEBUG\u001b[39m [18:25:42.932] ** Mocking call to \"node_beta\" ** \n",
      "\u001b[90mDEBUG\u001b[39m [18:25:42.934] Regular call \n",
      "\u001b[90mDEBUG\u001b[39m [18:25:42.938] there are 3 datasets ..  \n"
     ]
    },
    {
     "name": "stderr",
     "output_type": "stream",
     "text": [
      "Warning message in if (family == \"rs.poi\") eval(as.name(dstar), data) else dstar:\n",
      "\"the condition has length > 1 and only the first element will be used\"\n"
     ]
    },
    {
     "name": "stdout",
     "output_type": "stream",
     "text": [
      "\u001b[90mDEBUG\u001b[39m [18:25:42.951] Log for site 1: \n",
      "\u001b[90mDEBUG\u001b[39m [18:25:42.953] Running a (mere) regular container. \n",
      "Calling RPC_node_beta \n",
      "\u001b[90mDEBUG\u001b[39m [18:25:42.942] Initializing node beta... \n",
      "\u001b[90mDEBUG\u001b[39m [18:25:42.948] Calculating the Betas.  \n"
     ]
    },
    {
     "name": "stderr",
     "output_type": "stream",
     "text": [
      "Warning message in if (family == \"rs.poi\") eval(as.name(dstar), data) else dstar:\n",
      "\"the condition has length > 1 and only the first element will be used\"\n"
     ]
    },
    {
     "name": "stdout",
     "output_type": "stream",
     "text": [
      "\u001b[90mDEBUG\u001b[39m [18:25:42.965] Log for site 2: \n",
      "\u001b[90mDEBUG\u001b[39m [18:25:42.967] Running a (mere) regular container. \n",
      "Calling RPC_node_beta \n",
      "\u001b[90mDEBUG\u001b[39m [18:25:42.956] Initializing node beta... \n",
      "\u001b[90mDEBUG\u001b[39m [18:25:42.961] Calculating the Betas.  \n"
     ]
    },
    {
     "name": "stderr",
     "output_type": "stream",
     "text": [
      "Warning message in if (family == \"rs.poi\") eval(as.name(dstar), data) else dstar:\n",
      "\"the condition has length > 1 and only the first element will be used\"\n"
     ]
    },
    {
     "name": "stdout",
     "output_type": "stream",
     "text": [
      "\u001b[90mDEBUG\u001b[39m [18:25:42.978] Log for site 3: \n",
      "\u001b[90mDEBUG\u001b[39m [18:25:42.981] Running a (mere) regular container. \n",
      "Calling RPC_node_beta \n",
      "\u001b[90mDEBUG\u001b[39m [18:25:42.969] Initializing node beta... \n",
      "\u001b[90mDEBUG\u001b[39m [18:25:42.975] Calculating the Betas.  \n",
      "\u001b[90mDEBUG\u001b[39m [18:25:42.983]   - [DONE] \n",
      "INFO  [18:25:42.986] 1.2 - Master beta \n",
      "\u001b[90mDEBUG\u001b[39m [18:25:42.989] Initializing master Beta... \n",
      "\u001b[90mDEBUG\u001b[39m [18:25:42.991] Merging node calculation to update new Betas. \n",
      "\u001b[90mDEBUG\u001b[39m [18:25:42.994] Updating the Betas. \n",
      "\u001b[90mDEBUG\u001b[39m [18:25:42.997]   - [DONE] \n",
      "INFO  [18:25:42.999] 1.3 - RPC Node Deviance \n",
      "\u001b[90mDEBUG\u001b[39m [18:25:43.001] ** Mocking call to \"node_deviance\" ** \n",
      "\u001b[90mDEBUG\u001b[39m [18:25:43.004] Regular call \n",
      "\u001b[90mDEBUG\u001b[39m [18:25:43.006] there are 3 datasets ..  \n"
     ]
    },
    {
     "name": "stderr",
     "output_type": "stream",
     "text": [
      "Warning message in if (family == \"rs.poi\") eval(as.name(dstar), data) else dstar:\n",
      "\"the condition has length > 1 and only the first element will be used\"\n"
     ]
    },
    {
     "name": "stdout",
     "output_type": "stream",
     "text": [
      "\u001b[90mDEBUG\u001b[39m [18:25:43.022] Log for site 1: \n",
      "\u001b[90mDEBUG\u001b[39m [18:25:43.024] Running a (mere) regular container. \n",
      "Calling RPC_node_deviance \n",
      "\u001b[90mDEBUG\u001b[39m [18:25:43.009] Starting node deviance. \n",
      "\u001b[90mDEBUG\u001b[39m [18:25:43.015] Updating the variables for node deviance.  \n"
     ]
    },
    {
     "name": "stderr",
     "output_type": "stream",
     "text": [
      "Warning message in if (family == \"rs.poi\") eval(as.name(dstar), data) else dstar:\n",
      "\"the condition has length > 1 and only the first element will be used\"\n"
     ]
    },
    {
     "name": "stdout",
     "output_type": "stream",
     "text": [
      "\u001b[90mDEBUG\u001b[39m [18:25:43.035] Log for site 2: \n",
      "\u001b[90mDEBUG\u001b[39m [18:25:43.038] Running a (mere) regular container. \n",
      "Calling RPC_node_deviance \n",
      "\u001b[90mDEBUG\u001b[39m [18:25:43.027] Starting node deviance. \n",
      "\u001b[90mDEBUG\u001b[39m [18:25:43.032] Updating the variables for node deviance.  \n"
     ]
    },
    {
     "name": "stderr",
     "output_type": "stream",
     "text": [
      "Warning message in if (family == \"rs.poi\") eval(as.name(dstar), data) else dstar:\n",
      "\"the condition has length > 1 and only the first element will be used\"\n"
     ]
    },
    {
     "name": "stdout",
     "output_type": "stream",
     "text": [
      "\u001b[90mDEBUG\u001b[39m [18:25:43.052] Log for site 3: \n",
      "\u001b[90mDEBUG\u001b[39m [18:25:43.054] Running a (mere) regular container. \n",
      "Calling RPC_node_deviance \n",
      "\u001b[90mDEBUG\u001b[39m [18:25:43.041] Starting node deviance. \n",
      "\u001b[90mDEBUG\u001b[39m [18:25:43.049] Updating the variables for node deviance.  \n",
      "\u001b[90mDEBUG\u001b[39m [18:25:43.057]   - [DONE] \n",
      "INFO  [18:25:43.060] 1.4 - Master deviance \n",
      "\u001b[90mDEBUG\u001b[39m [18:25:43.062] Starting master deviance. \n",
      "\u001b[90mDEBUG\u001b[39m [18:25:43.065]   - [DONE] \n",
      "INFO  [18:25:43.067] 1.5 - Termination conditions \n",
      "\u001b[90mDEBUG\u001b[39m [18:25:43.069]   - [DONE] \n",
      "INFO  [18:25:43.072]  \n",
      "INFO  [18:25:43.075] ############################################### \n",
      "INFO  [18:25:43.077] # Starting iteration 2 \n",
      "INFO  [18:25:43.080] ############################################### \n",
      "INFO  [18:25:43.082]  \n",
      "INFO  [18:25:43.084] 2.1 - RPC Node Beta \n",
      "\u001b[90mDEBUG\u001b[39m [18:25:43.086] ** Mocking call to \"node_beta\" ** \n",
      "\u001b[90mDEBUG\u001b[39m [18:25:43.089] Regular call \n",
      "\u001b[90mDEBUG\u001b[39m [18:25:43.092] there are 3 datasets ..  \n"
     ]
    },
    {
     "name": "stderr",
     "output_type": "stream",
     "text": [
      "Warning message in if (family == \"rs.poi\") eval(as.name(dstar), data) else dstar:\n",
      "\"the condition has length > 1 and only the first element will be used\"\n"
     ]
    },
    {
     "name": "stdout",
     "output_type": "stream",
     "text": [
      "\u001b[90mDEBUG\u001b[39m [18:25:43.103] Log for site 1: \n",
      "\u001b[90mDEBUG\u001b[39m [18:25:43.121] Running a (mere) regular container. \n",
      "Calling RPC_node_beta \n",
      "\u001b[90mDEBUG\u001b[39m [18:25:43.095] Initializing node beta... \n",
      "\u001b[90mDEBUG\u001b[39m [18:25:43.100] Calculating the Betas.  \n"
     ]
    },
    {
     "name": "stderr",
     "output_type": "stream",
     "text": [
      "Warning message in if (family == \"rs.poi\") eval(as.name(dstar), data) else dstar:\n",
      "\"the condition has length > 1 and only the first element will be used\"\n"
     ]
    },
    {
     "name": "stdout",
     "output_type": "stream",
     "text": [
      "\u001b[90mDEBUG\u001b[39m [18:25:43.132] Log for site 2: \n",
      "\u001b[90mDEBUG\u001b[39m [18:25:43.134] Running a (mere) regular container. \n",
      "Calling RPC_node_beta \n",
      "\u001b[90mDEBUG\u001b[39m [18:25:43.124] Initializing node beta... \n",
      "\u001b[90mDEBUG\u001b[39m [18:25:43.129] Calculating the Betas.  \n"
     ]
    },
    {
     "name": "stderr",
     "output_type": "stream",
     "text": [
      "Warning message in if (family == \"rs.poi\") eval(as.name(dstar), data) else dstar:\n",
      "\"the condition has length > 1 and only the first element will be used\"\n"
     ]
    },
    {
     "name": "stdout",
     "output_type": "stream",
     "text": [
      "\u001b[90mDEBUG\u001b[39m [18:25:43.146] Log for site 3: \n",
      "\u001b[90mDEBUG\u001b[39m [18:25:43.148] Running a (mere) regular container. \n",
      "Calling RPC_node_beta \n",
      "\u001b[90mDEBUG\u001b[39m [18:25:43.137] Initializing node beta... \n",
      "\u001b[90mDEBUG\u001b[39m [18:25:43.143] Calculating the Betas.  \n",
      "\u001b[90mDEBUG\u001b[39m [18:25:43.150]   - [DONE] \n",
      "INFO  [18:25:43.152] 2.2 - Master beta \n",
      "\u001b[90mDEBUG\u001b[39m [18:25:43.155] Initializing master Beta... \n",
      "\u001b[90mDEBUG\u001b[39m [18:25:43.157] Merging node calculation to update new Betas. \n",
      "\u001b[90mDEBUG\u001b[39m [18:25:43.160] Updating the Betas. \n",
      "\u001b[90mDEBUG\u001b[39m [18:25:43.162]   - [DONE] \n",
      "INFO  [18:25:43.164] 2.3 - RPC Node Deviance \n",
      "\u001b[90mDEBUG\u001b[39m [18:25:43.166] ** Mocking call to \"node_deviance\" ** \n",
      "\u001b[90mDEBUG\u001b[39m [18:25:43.170] Regular call \n",
      "\u001b[90mDEBUG\u001b[39m [18:25:43.173] there are 3 datasets ..  \n"
     ]
    },
    {
     "name": "stderr",
     "output_type": "stream",
     "text": [
      "Warning message in if (family == \"rs.poi\") eval(as.name(dstar), data) else dstar:\n",
      "\"the condition has length > 1 and only the first element will be used\"\n"
     ]
    },
    {
     "name": "stdout",
     "output_type": "stream",
     "text": [
      "\u001b[90mDEBUG\u001b[39m [18:25:43.184] Log for site 1: \n",
      "\u001b[90mDEBUG\u001b[39m [18:25:43.186] Running a (mere) regular container. \n",
      "Calling RPC_node_deviance \n",
      "\u001b[90mDEBUG\u001b[39m [18:25:43.175] Starting node deviance. \n",
      "\u001b[90mDEBUG\u001b[39m [18:25:43.181] Updating the variables for node deviance.  \n"
     ]
    },
    {
     "name": "stderr",
     "output_type": "stream",
     "text": [
      "Warning message in if (family == \"rs.poi\") eval(as.name(dstar), data) else dstar:\n",
      "\"the condition has length > 1 and only the first element will be used\"\n"
     ]
    },
    {
     "name": "stdout",
     "output_type": "stream",
     "text": [
      "\u001b[90mDEBUG\u001b[39m [18:25:43.197] Log for site 2: \n",
      "\u001b[90mDEBUG\u001b[39m [18:25:43.203] Running a (mere) regular container. \n",
      "Calling RPC_node_deviance \n",
      "\u001b[90mDEBUG\u001b[39m [18:25:43.188] Starting node deviance. \n",
      "\u001b[90mDEBUG\u001b[39m [18:25:43.194] Updating the variables for node deviance.  \n"
     ]
    },
    {
     "name": "stderr",
     "output_type": "stream",
     "text": [
      "Warning message in if (family == \"rs.poi\") eval(as.name(dstar), data) else dstar:\n",
      "\"the condition has length > 1 and only the first element will be used\"\n"
     ]
    },
    {
     "name": "stdout",
     "output_type": "stream",
     "text": [
      "\u001b[90mDEBUG\u001b[39m [18:25:43.215] Log for site 3: \n",
      "\u001b[90mDEBUG\u001b[39m [18:25:43.217] Running a (mere) regular container. \n",
      "Calling RPC_node_deviance \n",
      "\u001b[90mDEBUG\u001b[39m [18:25:43.206] Starting node deviance. \n",
      "\u001b[90mDEBUG\u001b[39m [18:25:43.212] Updating the variables for node deviance.  \n",
      "\u001b[90mDEBUG\u001b[39m [18:25:43.219]   - [DONE] \n",
      "INFO  [18:25:43.222] 2.4 - Master deviance \n",
      "\u001b[90mDEBUG\u001b[39m [18:25:43.224] Starting master deviance. \n",
      "\u001b[90mDEBUG\u001b[39m [18:25:43.226]   - [DONE] \n",
      "INFO  [18:25:43.228] 2.5 - Termination conditions \n",
      "\u001b[90mDEBUG\u001b[39m [18:25:43.230]   - [DONE] \n",
      "INFO  [18:25:43.233]  \n",
      "INFO  [18:25:43.235] ############################################### \n",
      "INFO  [18:25:43.238] # Starting iteration 3 \n",
      "INFO  [18:25:43.241] ############################################### \n",
      "INFO  [18:25:43.243]  \n",
      "INFO  [18:25:43.245] 3.1 - RPC Node Beta \n",
      "\u001b[90mDEBUG\u001b[39m [18:25:43.248] ** Mocking call to \"node_beta\" ** \n",
      "\u001b[90mDEBUG\u001b[39m [18:25:43.250] Regular call \n",
      "\u001b[90mDEBUG\u001b[39m [18:25:43.252] there are 3 datasets ..  \n"
     ]
    },
    {
     "name": "stderr",
     "output_type": "stream",
     "text": [
      "Warning message in if (family == \"rs.poi\") eval(as.name(dstar), data) else dstar:\n",
      "\"the condition has length > 1 and only the first element will be used\"\n"
     ]
    },
    {
     "name": "stdout",
     "output_type": "stream",
     "text": [
      "\u001b[90mDEBUG\u001b[39m [18:25:43.263] Log for site 1: \n",
      "\u001b[90mDEBUG\u001b[39m [18:25:43.266] Running a (mere) regular container. \n",
      "Calling RPC_node_beta \n",
      "\u001b[90mDEBUG\u001b[39m [18:25:43.255] Initializing node beta... \n",
      "\u001b[90mDEBUG\u001b[39m [18:25:43.260] Calculating the Betas.  \n"
     ]
    },
    {
     "name": "stderr",
     "output_type": "stream",
     "text": [
      "Warning message in if (family == \"rs.poi\") eval(as.name(dstar), data) else dstar:\n",
      "\"the condition has length > 1 and only the first element will be used\"\n"
     ]
    },
    {
     "name": "stdout",
     "output_type": "stream",
     "text": [
      "\u001b[90mDEBUG\u001b[39m [18:25:43.277] Log for site 2: \n",
      "\u001b[90mDEBUG\u001b[39m [18:25:43.280] Running a (mere) regular container. \n",
      "Calling RPC_node_beta \n",
      "\u001b[90mDEBUG\u001b[39m [18:25:43.269] Initializing node beta... \n",
      "\u001b[90mDEBUG\u001b[39m [18:25:43.274] Calculating the Betas.  \n"
     ]
    },
    {
     "name": "stderr",
     "output_type": "stream",
     "text": [
      "Warning message in if (family == \"rs.poi\") eval(as.name(dstar), data) else dstar:\n",
      "\"the condition has length > 1 and only the first element will be used\"\n"
     ]
    },
    {
     "name": "stdout",
     "output_type": "stream",
     "text": [
      "\u001b[90mDEBUG\u001b[39m [18:25:43.294] Log for site 3: \n",
      "\u001b[90mDEBUG\u001b[39m [18:25:43.296] Running a (mere) regular container. \n",
      "Calling RPC_node_beta \n",
      "\u001b[90mDEBUG\u001b[39m [18:25:43.285] Initializing node beta... \n",
      "\u001b[90mDEBUG\u001b[39m [18:25:43.291] Calculating the Betas.  \n",
      "\u001b[90mDEBUG\u001b[39m [18:25:43.299]   - [DONE] \n",
      "INFO  [18:25:43.302] 3.2 - Master beta \n",
      "\u001b[90mDEBUG\u001b[39m [18:25:43.304] Initializing master Beta... \n",
      "\u001b[90mDEBUG\u001b[39m [18:25:43.307] Merging node calculation to update new Betas. \n",
      "\u001b[90mDEBUG\u001b[39m [18:25:43.309] Updating the Betas. \n",
      "\u001b[90mDEBUG\u001b[39m [18:25:43.311]   - [DONE] \n",
      "INFO  [18:25:43.314] 3.3 - RPC Node Deviance \n",
      "\u001b[90mDEBUG\u001b[39m [18:25:43.316] ** Mocking call to \"node_deviance\" ** \n",
      "\u001b[90mDEBUG\u001b[39m [18:25:43.319] Regular call \n",
      "\u001b[90mDEBUG\u001b[39m [18:25:43.321] there are 3 datasets ..  \n"
     ]
    },
    {
     "name": "stderr",
     "output_type": "stream",
     "text": [
      "Warning message in if (family == \"rs.poi\") eval(as.name(dstar), data) else dstar:\n",
      "\"the condition has length > 1 and only the first element will be used\"\n"
     ]
    },
    {
     "name": "stdout",
     "output_type": "stream",
     "text": [
      "\u001b[90mDEBUG\u001b[39m [18:25:43.332] Log for site 1: \n",
      "\u001b[90mDEBUG\u001b[39m [18:25:43.335] Running a (mere) regular container. \n",
      "Calling RPC_node_deviance \n",
      "\u001b[90mDEBUG\u001b[39m [18:25:43.324] Starting node deviance. \n",
      "\u001b[90mDEBUG\u001b[39m [18:25:43.330] Updating the variables for node deviance.  \n"
     ]
    },
    {
     "name": "stderr",
     "output_type": "stream",
     "text": [
      "Warning message in if (family == \"rs.poi\") eval(as.name(dstar), data) else dstar:\n",
      "\"the condition has length > 1 and only the first element will be used\"\n"
     ]
    },
    {
     "name": "stdout",
     "output_type": "stream",
     "text": [
      "\u001b[90mDEBUG\u001b[39m [18:25:43.347] Log for site 2: \n",
      "\u001b[90mDEBUG\u001b[39m [18:25:43.349] Running a (mere) regular container. \n",
      "Calling RPC_node_deviance \n",
      "\u001b[90mDEBUG\u001b[39m [18:25:43.337] Starting node deviance. \n",
      "\u001b[90mDEBUG\u001b[39m [18:25:43.344] Updating the variables for node deviance.  \n"
     ]
    },
    {
     "name": "stderr",
     "output_type": "stream",
     "text": [
      "Warning message in if (family == \"rs.poi\") eval(as.name(dstar), data) else dstar:\n",
      "\"the condition has length > 1 and only the first element will be used\"\n"
     ]
    },
    {
     "name": "stdout",
     "output_type": "stream",
     "text": [
      "\u001b[90mDEBUG\u001b[39m [18:25:43.362] Log for site 3: \n",
      "\u001b[90mDEBUG\u001b[39m [18:25:43.365] Running a (mere) regular container. \n",
      "Calling RPC_node_deviance \n",
      "\u001b[90mDEBUG\u001b[39m [18:25:43.351] Starting node deviance. \n",
      "\u001b[90mDEBUG\u001b[39m [18:25:43.357] Updating the variables for node deviance.  \n",
      "\u001b[90mDEBUG\u001b[39m [18:25:43.369]   - [DONE] \n",
      "INFO  [18:25:43.372] 3.4 - Master deviance \n",
      "\u001b[90mDEBUG\u001b[39m [18:25:43.375] Starting master deviance. \n",
      "\u001b[90mDEBUG\u001b[39m [18:25:43.377]   - [DONE] \n",
      "INFO  [18:25:43.379] 3.5 - Termination conditions \n",
      "\u001b[90mDEBUG\u001b[39m [18:25:43.382]   - [DONE] \n",
      "INFO  [18:25:43.384]  \n",
      "INFO  [18:25:43.386] ############################################### \n",
      "INFO  [18:25:43.388] # Starting iteration 4 \n",
      "INFO  [18:25:43.391] ############################################### \n",
      "INFO  [18:25:43.394]  \n",
      "INFO  [18:25:43.396] 4.1 - RPC Node Beta \n",
      "\u001b[90mDEBUG\u001b[39m [18:25:43.398] ** Mocking call to \"node_beta\" ** \n",
      "\u001b[90mDEBUG\u001b[39m [18:25:43.400] Regular call \n",
      "\u001b[90mDEBUG\u001b[39m [18:25:43.403] there are 3 datasets ..  \n"
     ]
    },
    {
     "name": "stderr",
     "output_type": "stream",
     "text": [
      "Warning message in if (family == \"rs.poi\") eval(as.name(dstar), data) else dstar:\n",
      "\"the condition has length > 1 and only the first element will be used\"\n"
     ]
    },
    {
     "name": "stdout",
     "output_type": "stream",
     "text": [
      "\u001b[90mDEBUG\u001b[39m [18:25:43.416] Log for site 1: \n",
      "\u001b[90mDEBUG\u001b[39m [18:25:43.418] Running a (mere) regular container. \n",
      "Calling RPC_node_beta \n",
      "\u001b[90mDEBUG\u001b[39m [18:25:43.406] Initializing node beta... \n",
      "\u001b[90mDEBUG\u001b[39m [18:25:43.412] Calculating the Betas.  \n"
     ]
    },
    {
     "name": "stderr",
     "output_type": "stream",
     "text": [
      "Warning message in if (family == \"rs.poi\") eval(as.name(dstar), data) else dstar:\n",
      "\"the condition has length > 1 and only the first element will be used\"\n"
     ]
    },
    {
     "name": "stdout",
     "output_type": "stream",
     "text": [
      "\u001b[90mDEBUG\u001b[39m [18:25:43.429] Log for site 2: \n",
      "\u001b[90mDEBUG\u001b[39m [18:25:43.431] Running a (mere) regular container. \n",
      "Calling RPC_node_beta \n",
      "\u001b[90mDEBUG\u001b[39m [18:25:43.420] Initializing node beta... \n",
      "\u001b[90mDEBUG\u001b[39m [18:25:43.426] Calculating the Betas.  \n"
     ]
    },
    {
     "name": "stderr",
     "output_type": "stream",
     "text": [
      "Warning message in if (family == \"rs.poi\") eval(as.name(dstar), data) else dstar:\n",
      "\"the condition has length > 1 and only the first element will be used\"\n"
     ]
    },
    {
     "name": "stdout",
     "output_type": "stream",
     "text": [
      "\u001b[90mDEBUG\u001b[39m [18:25:43.451] Log for site 3: \n",
      "\u001b[90mDEBUG\u001b[39m [18:25:43.456] Running a (mere) regular container. \n",
      "Calling RPC_node_beta \n",
      "\u001b[90mDEBUG\u001b[39m [18:25:43.434] Initializing node beta... \n",
      "\u001b[90mDEBUG\u001b[39m [18:25:43.444] Calculating the Betas.  \n",
      "\u001b[90mDEBUG\u001b[39m [18:25:43.459]   - [DONE] \n",
      "INFO  [18:25:43.465] 4.2 - Master beta \n",
      "\u001b[90mDEBUG\u001b[39m [18:25:43.470] Initializing master Beta... \n",
      "\u001b[90mDEBUG\u001b[39m [18:25:43.476] Merging node calculation to update new Betas. \n",
      "\u001b[90mDEBUG\u001b[39m [18:25:43.482] Updating the Betas. \n",
      "\u001b[90mDEBUG\u001b[39m [18:25:43.486]   - [DONE] \n",
      "INFO  [18:25:43.489] 4.3 - RPC Node Deviance \n",
      "\u001b[90mDEBUG\u001b[39m [18:25:43.492] ** Mocking call to \"node_deviance\" ** \n",
      "\u001b[90mDEBUG\u001b[39m [18:25:43.495] Regular call \n",
      "\u001b[90mDEBUG\u001b[39m [18:25:43.498] there are 3 datasets ..  \n"
     ]
    },
    {
     "name": "stderr",
     "output_type": "stream",
     "text": [
      "Warning message in if (family == \"rs.poi\") eval(as.name(dstar), data) else dstar:\n",
      "\"the condition has length > 1 and only the first element will be used\"\n"
     ]
    },
    {
     "name": "stdout",
     "output_type": "stream",
     "text": [
      "\u001b[90mDEBUG\u001b[39m [18:25:43.512] Log for site 1: \n",
      "\u001b[90mDEBUG\u001b[39m [18:25:43.515] Running a (mere) regular container. \n",
      "Calling RPC_node_deviance \n",
      "\u001b[90mDEBUG\u001b[39m [18:25:43.501] Starting node deviance. \n",
      "\u001b[90mDEBUG\u001b[39m [18:25:43.509] Updating the variables for node deviance.  \n"
     ]
    },
    {
     "name": "stderr",
     "output_type": "stream",
     "text": [
      "Warning message in if (family == \"rs.poi\") eval(as.name(dstar), data) else dstar:\n",
      "\"the condition has length > 1 and only the first element will be used\"\n"
     ]
    },
    {
     "name": "stdout",
     "output_type": "stream",
     "text": [
      "\u001b[90mDEBUG\u001b[39m [18:25:43.530] Log for site 2: \n",
      "\u001b[90mDEBUG\u001b[39m [18:25:43.533] Running a (mere) regular container. \n",
      "Calling RPC_node_deviance \n",
      "\u001b[90mDEBUG\u001b[39m [18:25:43.519] Starting node deviance. \n",
      "\u001b[90mDEBUG\u001b[39m [18:25:43.526] Updating the variables for node deviance.  \n"
     ]
    },
    {
     "name": "stderr",
     "output_type": "stream",
     "text": [
      "Warning message in if (family == \"rs.poi\") eval(as.name(dstar), data) else dstar:\n",
      "\"the condition has length > 1 and only the first element will be used\"\n"
     ]
    },
    {
     "name": "stdout",
     "output_type": "stream",
     "text": [
      "\u001b[90mDEBUG\u001b[39m [18:25:43.547] Log for site 3: \n",
      "\u001b[90mDEBUG\u001b[39m [18:25:43.550] Running a (mere) regular container. \n",
      "Calling RPC_node_deviance \n",
      "\u001b[90mDEBUG\u001b[39m [18:25:43.536] Starting node deviance. \n",
      "\u001b[90mDEBUG\u001b[39m [18:25:43.543] Updating the variables for node deviance.  \n",
      "\u001b[90mDEBUG\u001b[39m [18:25:43.553]   - [DONE] \n",
      "INFO  [18:25:43.557] 4.4 - Master deviance \n",
      "\u001b[90mDEBUG\u001b[39m [18:25:43.559] Starting master deviance. \n",
      "\u001b[90mDEBUG\u001b[39m [18:25:43.563]   - [DONE] \n",
      "INFO  [18:25:43.565] 4.5 - Termination conditions \n",
      "\u001b[90mDEBUG\u001b[39m [18:25:43.568]   - [CONVERGED] \n",
      "\u001b[90mDEBUG\u001b[39m [18:25:43.571] Preparing output \n"
     ]
    }
   ],
   "source": [
    "client <- vtg::MockClient$new(datasets, \"vtg.glm\")\n",
    "results_federated_plain <- vtg.glm::dglm(client, formula = y ~ x1 + x2, family=poisson(link = \"log\"), tol=1e-08, maxit=25)"
   ]
  },
  {
   "cell_type": "markdown",
   "id": "0e93dd6e",
   "metadata": {},
   "source": [
    "#### Comparison"
   ]
  },
  {
   "cell_type": "code",
   "execution_count": 8,
   "id": "fa3ccef3",
   "metadata": {
    "scrolled": false
   },
   "outputs": [
    {
     "name": "stdout",
     "output_type": "stream",
     "text": [
      "[1] \"LaTeX\"\n",
      "\n",
      "% Table created by stargazer v.5.2.3 by Marek Hlavac, Social Policy Institute. E-mail: marek.hlavac at gmail.com\n",
      "% Date and time: Mon, May 09, 2022 - 18:25:43\n",
      "\\begin{table}[!htbp] \\centering \n",
      "  \\caption{} \n",
      "  \\label{} \n",
      "\\begin{tabular}{@{\\extracolsep{5pt}} ccccccccc} \n",
      "\\\\[-1.8ex]\\hline \n",
      "\\hline \\\\[-1.8ex] \n",
      " & coeff\\_c & coeff\\_f & stderr\\_c & stderr\\_f & pvalues\\_c & pvalues\\_f & zvalues\\_c & zvalues\\_f \\\\ \n",
      "\\hline \\\\[-1.8ex] \n",
      "(Intercept) & $0.470$ & $0.470$ & $0.021$ & $0.021$ & $0$ & $0$ & $22.124$ & $22.124$ \\\\ \n",
      "x1 & $0.214$ & $0.214$ & $0.007$ & $0.007$ & $0$ & $0$ & $29.585$ & $29.585$ \\\\ \n",
      "x2 & $0.524$ & $0.524$ & $0.007$ & $0.007$ & $0$ & $0$ & $74.560$ & $74.560$ \\\\ \n",
      "\\hline \\\\[-1.8ex] \n",
      "\\end{tabular} \n",
      "\\end{table} \n",
      "[1] \"Text\"\n",
      "\n",
      "=====================================================================================\n",
      "            coeff_c coeff_f stderr_c stderr_f pvalues_c pvalues_f zvalues_c zvalues_f\n",
      "-------------------------------------------------------------------------------------\n",
      "(Intercept)  0.470   0.470   0.021    0.021       0         0      22.124    22.124  \n",
      "x1           0.214   0.214   0.007    0.007       0         0      29.585    29.585  \n",
      "x2           0.524   0.524   0.007    0.007       0         0      74.560    74.560  \n",
      "-------------------------------------------------------------------------------------\n",
      "$converged\n",
      "[1] TRUE\n",
      "\n",
      "$converged\n",
      "[1] TRUE\n",
      "\n",
      "$dispersion\n",
      "[1] TRUE\n",
      "\n",
      "$formula\n",
      "[1] TRUE\n",
      "\n",
      "$family\n",
      "[1] TRUE\n",
      "\n",
      "$null.deviance\n",
      "[1] TRUE\n",
      "\n",
      "$df.residual\n",
      "[1] TRUE\n",
      "\n",
      "$df.null\n",
      "[1] TRUE\n",
      "\n"
     ]
    }
   ],
   "source": [
    "val_poisson_res = validate(results_centralized, results_federated_plain)\n",
    "print(val_poisson_res)"
   ]
  },
  {
   "cell_type": "markdown",
   "id": "fa33f77f",
   "metadata": {},
   "source": [
    "### Logistic\n",
    "\n",
    "#### Centralized"
   ]
  },
  {
   "cell_type": "code",
   "execution_count": 9,
   "id": "c54b091e",
   "metadata": {},
   "outputs": [],
   "source": [
    "# Housekeeping\n",
    "if(exists('results_centralized')){\n",
    "    rm(results_centralized)\n",
    "}\n",
    "if(exists('results_federated_plain')){\n",
    "    rm(results_federated_plain)\n",
    "}\n",
    "\n",
    "datasets <- list(\n",
    "  read.csv('../data/logistic_party1.csv'),\n",
    "  read.csv('../data/logistic_party2.csv'),\n",
    "  read.csv('../data/logistic_party3.csv')\n",
    ")\n",
    "datasets_combined <- do.call(rbind.data.frame, datasets)\n",
    "results_centralized <- glm(data=datasets_combined, formula = y ~ x1 + x2, family=binomial(link = \"logit\"))"
   ]
  },
  {
   "cell_type": "markdown",
   "id": "c222f9f8",
   "metadata": {},
   "source": [
    "#### Federated"
   ]
  },
  {
   "cell_type": "code",
   "execution_count": 10,
   "id": "065f1f9f",
   "metadata": {},
   "outputs": [
    {
     "name": "stdout",
     "output_type": "stream",
     "text": [
      "\u001b[90mDEBUG\u001b[39m [18:25:43.790] Initializing... \n",
      "INFO  [18:25:43.794]  \n",
      "INFO  [18:25:43.799] ############################################### \n",
      "INFO  [18:25:43.802] # Starting iteration 0 \n",
      "INFO  [18:25:43.805] ############################################### \n",
      "INFO  [18:25:43.808]  \n",
      "INFO  [18:25:43.812] 0.1 - RPC Node Beta \n",
      "\u001b[90mDEBUG\u001b[39m [18:25:43.815] ** Mocking call to \"node_beta\" ** \n",
      "\u001b[90mDEBUG\u001b[39m [18:25:43.822] Regular call \n",
      "\u001b[90mDEBUG\u001b[39m [18:25:43.825] there are 3 datasets ..  \n"
     ]
    },
    {
     "name": "stderr",
     "output_type": "stream",
     "text": [
      "Warning message in if (family == \"rs.poi\") eval(as.name(dstar), data) else dstar:\n",
      "\"the condition has length > 1 and only the first element will be used\"\n"
     ]
    },
    {
     "name": "stdout",
     "output_type": "stream",
     "text": [
      "\u001b[90mDEBUG\u001b[39m [18:25:43.845] Log for site 1: \n",
      "\u001b[90mDEBUG\u001b[39m [18:25:43.848] Running a (mere) regular container. \n",
      "Calling RPC_node_beta \n",
      "\u001b[90mDEBUG\u001b[39m [18:25:43.828] Initializing node beta... \n",
      "\u001b[90mDEBUG\u001b[39m [18:25:43.836] First iteration. Initializing variables. \n",
      "\u001b[90mDEBUG\u001b[39m [18:25:43.841] Calculating the Betas.  \n"
     ]
    },
    {
     "name": "stderr",
     "output_type": "stream",
     "text": [
      "Warning message in if (family == \"rs.poi\") eval(as.name(dstar), data) else dstar:\n",
      "\"the condition has length > 1 and only the first element will be used\"\n"
     ]
    },
    {
     "name": "stdout",
     "output_type": "stream",
     "text": [
      "\u001b[90mDEBUG\u001b[39m [18:25:43.874] Log for site 2: \n",
      "\u001b[90mDEBUG\u001b[39m [18:25:43.878] Running a (mere) regular container. \n",
      "Calling RPC_node_beta \n",
      "\u001b[90mDEBUG\u001b[39m [18:25:43.851] Initializing node beta... \n",
      "\u001b[90mDEBUG\u001b[39m [18:25:43.862] First iteration. Initializing variables. \n",
      "\u001b[90mDEBUG\u001b[39m [18:25:43.870] Calculating the Betas.  \n"
     ]
    },
    {
     "name": "stderr",
     "output_type": "stream",
     "text": [
      "Warning message in if (family == \"rs.poi\") eval(as.name(dstar), data) else dstar:\n",
      "\"the condition has length > 1 and only the first element will be used\"\n"
     ]
    },
    {
     "name": "stdout",
     "output_type": "stream",
     "text": [
      "\u001b[90mDEBUG\u001b[39m [18:25:43.899] Log for site 3: \n",
      "\u001b[90mDEBUG\u001b[39m [18:25:43.902] Running a (mere) regular container. \n",
      "Calling RPC_node_beta \n",
      "\u001b[90mDEBUG\u001b[39m [18:25:43.881] Initializing node beta... \n",
      "\u001b[90mDEBUG\u001b[39m [18:25:43.889] First iteration. Initializing variables. \n",
      "\u001b[90mDEBUG\u001b[39m [18:25:43.895] Calculating the Betas.  \n",
      "\u001b[90mDEBUG\u001b[39m [18:25:43.906]   - [DONE] \n",
      "INFO  [18:25:43.909] 0.2 - Master beta \n",
      "\u001b[90mDEBUG\u001b[39m [18:25:43.913] Initializing master Beta... \n",
      "\u001b[90mDEBUG\u001b[39m [18:25:43.916] Merging node calculation to update new Betas. \n",
      "\u001b[90mDEBUG\u001b[39m [18:25:43.919] Updating the Betas. \n",
      "\u001b[90mDEBUG\u001b[39m [18:25:43.924]   - [DONE] \n",
      "INFO  [18:25:43.927] 0.3 - RPC Node Deviance \n",
      "\u001b[90mDEBUG\u001b[39m [18:25:43.930] ** Mocking call to \"node_deviance\" ** \n",
      "\u001b[90mDEBUG\u001b[39m [18:25:43.932] Regular call \n",
      "\u001b[90mDEBUG\u001b[39m [18:25:43.935] there are 3 datasets ..  \n"
     ]
    },
    {
     "name": "stderr",
     "output_type": "stream",
     "text": [
      "Warning message in if (family == \"rs.poi\") eval(as.name(dstar), data) else dstar:\n",
      "\"the condition has length > 1 and only the first element will be used\"\n"
     ]
    },
    {
     "name": "stdout",
     "output_type": "stream",
     "text": [
      "\u001b[90mDEBUG\u001b[39m [18:25:43.952] Log for site 1: \n",
      "\u001b[90mDEBUG\u001b[39m [18:25:43.955] Running a (mere) regular container. \n",
      "Calling RPC_node_deviance \n",
      "\u001b[90mDEBUG\u001b[39m [18:25:43.942] Starting node deviance. \n",
      "\u001b[90mDEBUG\u001b[39m [18:25:43.947] First iteration. Initializing variables. \n",
      "\u001b[90mDEBUG\u001b[39m [18:25:43.949] Updating the variables for node deviance.  \n"
     ]
    },
    {
     "name": "stderr",
     "output_type": "stream",
     "text": [
      "Warning message in if (family == \"rs.poi\") eval(as.name(dstar), data) else dstar:\n",
      "\"the condition has length > 1 and only the first element will be used\"\n"
     ]
    },
    {
     "name": "stdout",
     "output_type": "stream",
     "text": [
      "\u001b[90mDEBUG\u001b[39m [18:25:43.970] Log for site 2: \n",
      "\u001b[90mDEBUG\u001b[39m [18:25:43.973] Running a (mere) regular container. \n",
      "Calling RPC_node_deviance \n",
      "\u001b[90mDEBUG\u001b[39m [18:25:43.959] Starting node deviance. \n",
      "\u001b[90mDEBUG\u001b[39m [18:25:43.964] First iteration. Initializing variables. \n",
      "\u001b[90mDEBUG\u001b[39m [18:25:43.967] Updating the variables for node deviance.  \n"
     ]
    },
    {
     "name": "stderr",
     "output_type": "stream",
     "text": [
      "Warning message in if (family == \"rs.poi\") eval(as.name(dstar), data) else dstar:\n",
      "\"the condition has length > 1 and only the first element will be used\"\n"
     ]
    },
    {
     "name": "stdout",
     "output_type": "stream",
     "text": [
      "\u001b[90mDEBUG\u001b[39m [18:25:43.989] Log for site 3: \n",
      "\u001b[90mDEBUG\u001b[39m [18:25:43.992] Running a (mere) regular container. \n",
      "Calling RPC_node_deviance \n",
      "\u001b[90mDEBUG\u001b[39m [18:25:43.976] Starting node deviance. \n",
      "\u001b[90mDEBUG\u001b[39m [18:25:43.982] First iteration. Initializing variables. \n",
      "\u001b[90mDEBUG\u001b[39m [18:25:43.985] Updating the variables for node deviance.  \n",
      "\u001b[90mDEBUG\u001b[39m [18:25:43.995]   - [DONE] \n",
      "INFO  [18:25:43.997] 0.4 - Master deviance \n",
      "\u001b[90mDEBUG\u001b[39m [18:25:43.999] Starting master deviance. \n",
      "\u001b[90mDEBUG\u001b[39m [18:25:44.002]   - [DONE] \n",
      "INFO  [18:25:44.004] 0.5 - Termination conditions \n",
      "\u001b[90mDEBUG\u001b[39m [18:25:44.007]   - [DONE] \n",
      "INFO  [18:25:44.010]  \n",
      "INFO  [18:25:44.014] ############################################### \n",
      "INFO  [18:25:44.015] # Starting iteration 1 \n",
      "INFO  [18:25:44.018] ############################################### \n",
      "INFO  [18:25:44.021]  \n",
      "INFO  [18:25:44.025] 1.1 - RPC Node Beta \n",
      "\u001b[90mDEBUG\u001b[39m [18:25:44.030] ** Mocking call to \"node_beta\" ** \n",
      "\u001b[90mDEBUG\u001b[39m [18:25:44.032] Regular call \n",
      "\u001b[90mDEBUG\u001b[39m [18:25:44.035] there are 3 datasets ..  \n"
     ]
    },
    {
     "name": "stderr",
     "output_type": "stream",
     "text": [
      "Warning message in if (family == \"rs.poi\") eval(as.name(dstar), data) else dstar:\n",
      "\"the condition has length > 1 and only the first element will be used\"\n"
     ]
    },
    {
     "name": "stdout",
     "output_type": "stream",
     "text": [
      "\u001b[90mDEBUG\u001b[39m [18:25:44.049] Log for site 1: \n",
      "\u001b[90mDEBUG\u001b[39m [18:25:44.052] Running a (mere) regular container. \n",
      "Calling RPC_node_beta \n",
      "\u001b[90mDEBUG\u001b[39m [18:25:44.037] Initializing node beta... \n",
      "\u001b[90mDEBUG\u001b[39m [18:25:44.045] Calculating the Betas.  \n"
     ]
    },
    {
     "name": "stderr",
     "output_type": "stream",
     "text": [
      "Warning message in if (family == \"rs.poi\") eval(as.name(dstar), data) else dstar:\n",
      "\"the condition has length > 1 and only the first element will be used\"\n"
     ]
    },
    {
     "name": "stdout",
     "output_type": "stream",
     "text": [
      "\u001b[90mDEBUG\u001b[39m [18:25:44.064] Log for site 2: \n",
      "\u001b[90mDEBUG\u001b[39m [18:25:44.066] Running a (mere) regular container. \n",
      "Calling RPC_node_beta \n",
      "\u001b[90mDEBUG\u001b[39m [18:25:44.055] Initializing node beta... \n",
      "\u001b[90mDEBUG\u001b[39m [18:25:44.061] Calculating the Betas.  \n"
     ]
    },
    {
     "name": "stderr",
     "output_type": "stream",
     "text": [
      "Warning message in if (family == \"rs.poi\") eval(as.name(dstar), data) else dstar:\n",
      "\"the condition has length > 1 and only the first element will be used\"\n"
     ]
    },
    {
     "name": "stdout",
     "output_type": "stream",
     "text": [
      "\u001b[90mDEBUG\u001b[39m [18:25:44.079] Log for site 3: \n",
      "\u001b[90mDEBUG\u001b[39m [18:25:44.082] Running a (mere) regular container. \n",
      "Calling RPC_node_beta \n",
      "\u001b[90mDEBUG\u001b[39m [18:25:44.068] Initializing node beta... \n",
      "\u001b[90mDEBUG\u001b[39m [18:25:44.076] Calculating the Betas.  \n",
      "\u001b[90mDEBUG\u001b[39m [18:25:44.085]   - [DONE] \n",
      "INFO  [18:25:44.087] 1.2 - Master beta \n",
      "\u001b[90mDEBUG\u001b[39m [18:25:44.090] Initializing master Beta... \n",
      "\u001b[90mDEBUG\u001b[39m [18:25:44.093] Merging node calculation to update new Betas. \n",
      "\u001b[90mDEBUG\u001b[39m [18:25:44.095] Updating the Betas. \n",
      "\u001b[90mDEBUG\u001b[39m [18:25:44.098]   - [DONE] \n",
      "INFO  [18:25:44.100] 1.3 - RPC Node Deviance \n",
      "\u001b[90mDEBUG\u001b[39m [18:25:44.102] ** Mocking call to \"node_deviance\" ** \n",
      "\u001b[90mDEBUG\u001b[39m [18:25:44.105] Regular call \n",
      "\u001b[90mDEBUG\u001b[39m [18:25:44.109] there are 3 datasets ..  \n"
     ]
    },
    {
     "name": "stderr",
     "output_type": "stream",
     "text": [
      "Warning message in if (family == \"rs.poi\") eval(as.name(dstar), data) else dstar:\n",
      "\"the condition has length > 1 and only the first element will be used\"\n"
     ]
    },
    {
     "name": "stdout",
     "output_type": "stream",
     "text": [
      "\u001b[90mDEBUG\u001b[39m [18:25:44.128] Log for site 1: \n",
      "\u001b[90mDEBUG\u001b[39m [18:25:44.130] Running a (mere) regular container. \n",
      "Calling RPC_node_deviance \n",
      "\u001b[90mDEBUG\u001b[39m [18:25:44.113] Starting node deviance. \n",
      "\u001b[90mDEBUG\u001b[39m [18:25:44.125] Updating the variables for node deviance.  \n"
     ]
    },
    {
     "name": "stderr",
     "output_type": "stream",
     "text": [
      "Warning message in if (family == \"rs.poi\") eval(as.name(dstar), data) else dstar:\n",
      "\"the condition has length > 1 and only the first element will be used\"\n"
     ]
    },
    {
     "name": "stdout",
     "output_type": "stream",
     "text": [
      "\u001b[90mDEBUG\u001b[39m [18:25:44.142] Log for site 2: \n",
      "\u001b[90mDEBUG\u001b[39m [18:25:44.147] Running a (mere) regular container. \n",
      "Calling RPC_node_deviance \n",
      "\u001b[90mDEBUG\u001b[39m [18:25:44.133] Starting node deviance. \n",
      "\u001b[90mDEBUG\u001b[39m [18:25:44.139] Updating the variables for node deviance.  \n"
     ]
    },
    {
     "name": "stderr",
     "output_type": "stream",
     "text": [
      "Warning message in if (family == \"rs.poi\") eval(as.name(dstar), data) else dstar:\n",
      "\"the condition has length > 1 and only the first element will be used\"\n"
     ]
    },
    {
     "name": "stdout",
     "output_type": "stream",
     "text": [
      "\u001b[90mDEBUG\u001b[39m [18:25:44.162] Log for site 3: \n",
      "\u001b[90mDEBUG\u001b[39m [18:25:44.164] Running a (mere) regular container. \n",
      "Calling RPC_node_deviance \n",
      "\u001b[90mDEBUG\u001b[39m [18:25:44.151] Starting node deviance. \n",
      "\u001b[90mDEBUG\u001b[39m [18:25:44.159] Updating the variables for node deviance.  \n",
      "\u001b[90mDEBUG\u001b[39m [18:25:44.167]   - [DONE] \n",
      "INFO  [18:25:44.169] 1.4 - Master deviance \n",
      "\u001b[90mDEBUG\u001b[39m [18:25:44.171] Starting master deviance. \n",
      "\u001b[90mDEBUG\u001b[39m [18:25:44.175]   - [DONE] \n",
      "INFO  [18:25:44.179] 1.5 - Termination conditions \n",
      "\u001b[90mDEBUG\u001b[39m [18:25:44.183]   - [DONE] \n",
      "INFO  [18:25:44.185]  \n",
      "INFO  [18:25:44.188] ############################################### \n",
      "INFO  [18:25:44.194] # Starting iteration 2 \n",
      "INFO  [18:25:44.197] ############################################### \n",
      "INFO  [18:25:44.200]  \n",
      "INFO  [18:25:44.202] 2.1 - RPC Node Beta \n",
      "\u001b[90mDEBUG\u001b[39m [18:25:44.206] ** Mocking call to \"node_beta\" ** \n",
      "\u001b[90mDEBUG\u001b[39m [18:25:44.213] Regular call \n",
      "\u001b[90mDEBUG\u001b[39m [18:25:44.220] there are 3 datasets ..  \n"
     ]
    },
    {
     "name": "stderr",
     "output_type": "stream",
     "text": [
      "Warning message in if (family == \"rs.poi\") eval(as.name(dstar), data) else dstar:\n",
      "\"the condition has length > 1 and only the first element will be used\"\n"
     ]
    },
    {
     "name": "stdout",
     "output_type": "stream",
     "text": [
      "\u001b[90mDEBUG\u001b[39m [18:25:44.248] Log for site 1: \n",
      "\u001b[90mDEBUG\u001b[39m [18:25:44.251] Running a (mere) regular container. \n",
      "Calling RPC_node_beta \n",
      "\u001b[90mDEBUG\u001b[39m [18:25:44.227] Initializing node beta... \n",
      "\u001b[90mDEBUG\u001b[39m [18:25:44.241] Calculating the Betas.  \n"
     ]
    },
    {
     "name": "stderr",
     "output_type": "stream",
     "text": [
      "Warning message in if (family == \"rs.poi\") eval(as.name(dstar), data) else dstar:\n",
      "\"the condition has length > 1 and only the first element will be used\"\n"
     ]
    },
    {
     "name": "stdout",
     "output_type": "stream",
     "text": [
      "\u001b[90mDEBUG\u001b[39m [18:25:44.276] Log for site 2: \n",
      "\u001b[90mDEBUG\u001b[39m [18:25:44.279] Running a (mere) regular container. \n",
      "Calling RPC_node_beta \n",
      "\u001b[90mDEBUG\u001b[39m [18:25:44.256] Initializing node beta... \n",
      "\u001b[90mDEBUG\u001b[39m [18:25:44.271] Calculating the Betas.  \n"
     ]
    },
    {
     "name": "stderr",
     "output_type": "stream",
     "text": [
      "Warning message in if (family == \"rs.poi\") eval(as.name(dstar), data) else dstar:\n",
      "\"the condition has length > 1 and only the first element will be used\"\n"
     ]
    },
    {
     "name": "stdout",
     "output_type": "stream",
     "text": [
      "\u001b[90mDEBUG\u001b[39m [18:25:44.294] Log for site 3: \n",
      "\u001b[90mDEBUG\u001b[39m [18:25:44.297] Running a (mere) regular container. \n",
      "Calling RPC_node_beta \n",
      "\u001b[90mDEBUG\u001b[39m [18:25:44.282] Initializing node beta... \n",
      "\u001b[90mDEBUG\u001b[39m [18:25:44.290] Calculating the Betas.  \n",
      "\u001b[90mDEBUG\u001b[39m [18:25:44.301]   - [DONE] \n",
      "INFO  [18:25:44.304] 2.2 - Master beta \n",
      "\u001b[90mDEBUG\u001b[39m [18:25:44.308] Initializing master Beta... \n",
      "\u001b[90mDEBUG\u001b[39m [18:25:44.311] Merging node calculation to update new Betas. \n",
      "\u001b[90mDEBUG\u001b[39m [18:25:44.314] Updating the Betas. \n",
      "\u001b[90mDEBUG\u001b[39m [18:25:44.317]   - [DONE] \n",
      "INFO  [18:25:44.320] 2.3 - RPC Node Deviance \n",
      "\u001b[90mDEBUG\u001b[39m [18:25:44.323] ** Mocking call to \"node_deviance\" ** \n",
      "\u001b[90mDEBUG\u001b[39m [18:25:44.327] Regular call \n",
      "\u001b[90mDEBUG\u001b[39m [18:25:44.330] there are 3 datasets ..  \n"
     ]
    },
    {
     "name": "stderr",
     "output_type": "stream",
     "text": [
      "Warning message in if (family == \"rs.poi\") eval(as.name(dstar), data) else dstar:\n",
      "\"the condition has length > 1 and only the first element will be used\"\n"
     ]
    },
    {
     "name": "stdout",
     "output_type": "stream",
     "text": [
      "\u001b[90mDEBUG\u001b[39m [18:25:44.344] Log for site 1: \n",
      "\u001b[90mDEBUG\u001b[39m [18:25:44.346] Running a (mere) regular container. \n",
      "Calling RPC_node_deviance \n",
      "\u001b[90mDEBUG\u001b[39m [18:25:44.334] Starting node deviance. \n",
      "\u001b[90mDEBUG\u001b[39m [18:25:44.340] Updating the variables for node deviance.  \n"
     ]
    },
    {
     "name": "stderr",
     "output_type": "stream",
     "text": [
      "Warning message in if (family == \"rs.poi\") eval(as.name(dstar), data) else dstar:\n",
      "\"the condition has length > 1 and only the first element will be used\"\n"
     ]
    },
    {
     "name": "stdout",
     "output_type": "stream",
     "text": [
      "\u001b[90mDEBUG\u001b[39m [18:25:44.360] Log for site 2: \n",
      "\u001b[90mDEBUG\u001b[39m [18:25:44.362] Running a (mere) regular container. \n",
      "Calling RPC_node_deviance \n",
      "\u001b[90mDEBUG\u001b[39m [18:25:44.348] Starting node deviance. \n",
      "\u001b[90mDEBUG\u001b[39m [18:25:44.354] Updating the variables for node deviance.  \n"
     ]
    },
    {
     "name": "stderr",
     "output_type": "stream",
     "text": [
      "Warning message in if (family == \"rs.poi\") eval(as.name(dstar), data) else dstar:\n",
      "\"the condition has length > 1 and only the first element will be used\"\n"
     ]
    },
    {
     "name": "stdout",
     "output_type": "stream",
     "text": [
      "\u001b[90mDEBUG\u001b[39m [18:25:44.374] Log for site 3: \n",
      "\u001b[90mDEBUG\u001b[39m [18:25:44.376] Running a (mere) regular container. \n",
      "Calling RPC_node_deviance \n",
      "\u001b[90mDEBUG\u001b[39m [18:25:44.365] Starting node deviance. \n",
      "\u001b[90mDEBUG\u001b[39m [18:25:44.371] Updating the variables for node deviance.  \n",
      "\u001b[90mDEBUG\u001b[39m [18:25:44.379]   - [DONE] \n",
      "INFO  [18:25:44.381] 2.4 - Master deviance \n",
      "\u001b[90mDEBUG\u001b[39m [18:25:44.383] Starting master deviance. \n",
      "\u001b[90mDEBUG\u001b[39m [18:25:44.385]   - [DONE] \n",
      "INFO  [18:25:44.387] 2.5 - Termination conditions \n",
      "\u001b[90mDEBUG\u001b[39m [18:25:44.390]   - [DONE] \n",
      "INFO  [18:25:44.392]  \n",
      "INFO  [18:25:44.394] ############################################### \n",
      "INFO  [18:25:44.397] # Starting iteration 3 \n",
      "INFO  [18:25:44.399] ############################################### \n",
      "INFO  [18:25:44.401]  \n",
      "INFO  [18:25:44.404] 3.1 - RPC Node Beta \n",
      "\u001b[90mDEBUG\u001b[39m [18:25:44.406] ** Mocking call to \"node_beta\" ** \n",
      "\u001b[90mDEBUG\u001b[39m [18:25:44.409] Regular call \n",
      "\u001b[90mDEBUG\u001b[39m [18:25:44.412] there are 3 datasets ..  \n"
     ]
    },
    {
     "name": "stderr",
     "output_type": "stream",
     "text": [
      "Warning message in if (family == \"rs.poi\") eval(as.name(dstar), data) else dstar:\n",
      "\"the condition has length > 1 and only the first element will be used\"\n"
     ]
    },
    {
     "name": "stdout",
     "output_type": "stream",
     "text": [
      "\u001b[90mDEBUG\u001b[39m [18:25:44.423] Log for site 1: \n",
      "\u001b[90mDEBUG\u001b[39m [18:25:44.425] Running a (mere) regular container. \n",
      "Calling RPC_node_beta \n",
      "\u001b[90mDEBUG\u001b[39m [18:25:44.414] Initializing node beta... \n",
      "\u001b[90mDEBUG\u001b[39m [18:25:44.420] Calculating the Betas.  \n"
     ]
    },
    {
     "name": "stderr",
     "output_type": "stream",
     "text": [
      "Warning message in if (family == \"rs.poi\") eval(as.name(dstar), data) else dstar:\n",
      "\"the condition has length > 1 and only the first element will be used\"\n"
     ]
    },
    {
     "name": "stdout",
     "output_type": "stream",
     "text": [
      "\u001b[90mDEBUG\u001b[39m [18:25:44.436] Log for site 2: \n",
      "\u001b[90mDEBUG\u001b[39m [18:25:44.443] Running a (mere) regular container. \n",
      "Calling RPC_node_beta \n",
      "\u001b[90mDEBUG\u001b[39m [18:25:44.427] Initializing node beta... \n",
      "\u001b[90mDEBUG\u001b[39m [18:25:44.434] Calculating the Betas.  \n"
     ]
    },
    {
     "name": "stderr",
     "output_type": "stream",
     "text": [
      "Warning message in if (family == \"rs.poi\") eval(as.name(dstar), data) else dstar:\n",
      "\"the condition has length > 1 and only the first element will be used\"\n"
     ]
    },
    {
     "name": "stdout",
     "output_type": "stream",
     "text": [
      "\u001b[90mDEBUG\u001b[39m [18:25:44.454] Log for site 3: \n",
      "\u001b[90mDEBUG\u001b[39m [18:25:44.456] Running a (mere) regular container. \n",
      "Calling RPC_node_beta \n",
      "\u001b[90mDEBUG\u001b[39m [18:25:44.445] Initializing node beta... \n",
      "\u001b[90mDEBUG\u001b[39m [18:25:44.451] Calculating the Betas.  \n",
      "\u001b[90mDEBUG\u001b[39m [18:25:44.459]   - [DONE] \n",
      "INFO  [18:25:44.461] 3.2 - Master beta \n",
      "\u001b[90mDEBUG\u001b[39m [18:25:44.464] Initializing master Beta... \n",
      "\u001b[90mDEBUG\u001b[39m [18:25:44.466] Merging node calculation to update new Betas. \n",
      "\u001b[90mDEBUG\u001b[39m [18:25:44.469] Updating the Betas. \n",
      "\u001b[90mDEBUG\u001b[39m [18:25:44.471]   - [DONE] \n",
      "INFO  [18:25:44.474] 3.3 - RPC Node Deviance \n",
      "\u001b[90mDEBUG\u001b[39m [18:25:44.477] ** Mocking call to \"node_deviance\" ** \n",
      "\u001b[90mDEBUG\u001b[39m [18:25:44.479] Regular call \n",
      "\u001b[90mDEBUG\u001b[39m [18:25:44.482] there are 3 datasets ..  \n"
     ]
    },
    {
     "name": "stderr",
     "output_type": "stream",
     "text": [
      "Warning message in if (family == \"rs.poi\") eval(as.name(dstar), data) else dstar:\n",
      "\"the condition has length > 1 and only the first element will be used\"\n"
     ]
    },
    {
     "name": "stdout",
     "output_type": "stream",
     "text": [
      "\u001b[90mDEBUG\u001b[39m [18:25:44.495] Log for site 1: \n",
      "\u001b[90mDEBUG\u001b[39m [18:25:44.497] Running a (mere) regular container. \n",
      "Calling RPC_node_deviance \n",
      "\u001b[90mDEBUG\u001b[39m [18:25:44.484] Starting node deviance. \n",
      "\u001b[90mDEBUG\u001b[39m [18:25:44.492] Updating the variables for node deviance.  \n"
     ]
    },
    {
     "name": "stderr",
     "output_type": "stream",
     "text": [
      "Warning message in if (family == \"rs.poi\") eval(as.name(dstar), data) else dstar:\n",
      "\"the condition has length > 1 and only the first element will be used\"\n"
     ]
    },
    {
     "name": "stdout",
     "output_type": "stream",
     "text": [
      "\u001b[90mDEBUG\u001b[39m [18:25:44.509] Log for site 2: \n",
      "\u001b[90mDEBUG\u001b[39m [18:25:44.511] Running a (mere) regular container. \n",
      "Calling RPC_node_deviance \n",
      "\u001b[90mDEBUG\u001b[39m [18:25:44.500] Starting node deviance. \n",
      "\u001b[90mDEBUG\u001b[39m [18:25:44.506] Updating the variables for node deviance.  \n"
     ]
    },
    {
     "name": "stderr",
     "output_type": "stream",
     "text": [
      "Warning message in if (family == \"rs.poi\") eval(as.name(dstar), data) else dstar:\n",
      "\"the condition has length > 1 and only the first element will be used\"\n"
     ]
    },
    {
     "name": "stdout",
     "output_type": "stream",
     "text": [
      "\u001b[90mDEBUG\u001b[39m [18:25:44.522] Log for site 3: \n",
      "\u001b[90mDEBUG\u001b[39m [18:25:44.527] Running a (mere) regular container. \n",
      "Calling RPC_node_deviance \n",
      "\u001b[90mDEBUG\u001b[39m [18:25:44.513] Starting node deviance. \n",
      "\u001b[90mDEBUG\u001b[39m [18:25:44.519] Updating the variables for node deviance.  \n",
      "\u001b[90mDEBUG\u001b[39m [18:25:44.530]   - [DONE] \n",
      "INFO  [18:25:44.532] 3.4 - Master deviance \n",
      "\u001b[90mDEBUG\u001b[39m [18:25:44.534] Starting master deviance. \n",
      "\u001b[90mDEBUG\u001b[39m [18:25:44.537]   - [DONE] \n",
      "INFO  [18:25:44.542] 3.5 - Termination conditions \n",
      "\u001b[90mDEBUG\u001b[39m [18:25:44.548]   - [DONE] \n",
      "INFO  [18:25:44.553]  \n",
      "INFO  [18:25:44.557] ############################################### \n",
      "INFO  [18:25:44.559] # Starting iteration 4 \n",
      "INFO  [18:25:44.562] ############################################### \n",
      "INFO  [18:25:44.564]  \n",
      "INFO  [18:25:44.567] 4.1 - RPC Node Beta \n",
      "\u001b[90mDEBUG\u001b[39m [18:25:44.570] ** Mocking call to \"node_beta\" ** \n",
      "\u001b[90mDEBUG\u001b[39m [18:25:44.574] Regular call \n",
      "\u001b[90mDEBUG\u001b[39m [18:25:44.580] there are 3 datasets ..  \n"
     ]
    },
    {
     "name": "stderr",
     "output_type": "stream",
     "text": [
      "Warning message in if (family == \"rs.poi\") eval(as.name(dstar), data) else dstar:\n",
      "\"the condition has length > 1 and only the first element will be used\"\n"
     ]
    },
    {
     "name": "stdout",
     "output_type": "stream",
     "text": [
      "\u001b[90mDEBUG\u001b[39m [18:25:44.603] Log for site 1: \n",
      "\u001b[90mDEBUG\u001b[39m [18:25:44.605] Running a (mere) regular container. \n",
      "Calling RPC_node_beta \n",
      "\u001b[90mDEBUG\u001b[39m [18:25:44.586] Initializing node beta... \n",
      "\u001b[90mDEBUG\u001b[39m [18:25:44.599] Calculating the Betas.  \n"
     ]
    },
    {
     "name": "stderr",
     "output_type": "stream",
     "text": [
      "Warning message in if (family == \"rs.poi\") eval(as.name(dstar), data) else dstar:\n",
      "\"the condition has length > 1 and only the first element will be used\"\n"
     ]
    },
    {
     "name": "stdout",
     "output_type": "stream",
     "text": [
      "\u001b[90mDEBUG\u001b[39m [18:25:44.623] Log for site 2: \n",
      "\u001b[90mDEBUG\u001b[39m [18:25:44.626] Running a (mere) regular container. \n",
      "Calling RPC_node_beta \n",
      "\u001b[90mDEBUG\u001b[39m [18:25:44.610] Initializing node beta... \n",
      "\u001b[90mDEBUG\u001b[39m [18:25:44.619] Calculating the Betas.  \n"
     ]
    },
    {
     "name": "stderr",
     "output_type": "stream",
     "text": [
      "Warning message in if (family == \"rs.poi\") eval(as.name(dstar), data) else dstar:\n",
      "\"the condition has length > 1 and only the first element will be used\"\n"
     ]
    },
    {
     "name": "stdout",
     "output_type": "stream",
     "text": [
      "\u001b[90mDEBUG\u001b[39m [18:25:44.642] Log for site 3: \n",
      "\u001b[90mDEBUG\u001b[39m [18:25:44.645] Running a (mere) regular container. \n",
      "Calling RPC_node_beta \n",
      "\u001b[90mDEBUG\u001b[39m [18:25:44.629] Initializing node beta... \n",
      "\u001b[90mDEBUG\u001b[39m [18:25:44.639] Calculating the Betas.  \n",
      "\u001b[90mDEBUG\u001b[39m [18:25:44.651]   - [DONE] \n",
      "INFO  [18:25:44.654] 4.2 - Master beta \n",
      "\u001b[90mDEBUG\u001b[39m [18:25:44.657] Initializing master Beta... \n",
      "\u001b[90mDEBUG\u001b[39m [18:25:44.659] Merging node calculation to update new Betas. \n",
      "\u001b[90mDEBUG\u001b[39m [18:25:44.662] Updating the Betas. \n",
      "\u001b[90mDEBUG\u001b[39m [18:25:44.665]   - [DONE] \n",
      "INFO  [18:25:44.667] 4.3 - RPC Node Deviance \n",
      "\u001b[90mDEBUG\u001b[39m [18:25:44.670] ** Mocking call to \"node_deviance\" ** \n",
      "\u001b[90mDEBUG\u001b[39m [18:25:44.675] Regular call \n",
      "\u001b[90mDEBUG\u001b[39m [18:25:44.682] there are 3 datasets ..  \n"
     ]
    },
    {
     "name": "stderr",
     "output_type": "stream",
     "text": [
      "Warning message in if (family == \"rs.poi\") eval(as.name(dstar), data) else dstar:\n",
      "\"the condition has length > 1 and only the first element will be used\"\n"
     ]
    },
    {
     "name": "stdout",
     "output_type": "stream",
     "text": [
      "\u001b[90mDEBUG\u001b[39m [18:25:44.699] Log for site 1: \n",
      "\u001b[90mDEBUG\u001b[39m [18:25:44.702] Running a (mere) regular container. \n",
      "Calling RPC_node_deviance \n",
      "\u001b[90mDEBUG\u001b[39m [18:25:44.685] Starting node deviance. \n",
      "\u001b[90mDEBUG\u001b[39m [18:25:44.695] Updating the variables for node deviance.  \n"
     ]
    },
    {
     "name": "stderr",
     "output_type": "stream",
     "text": [
      "Warning message in if (family == \"rs.poi\") eval(as.name(dstar), data) else dstar:\n",
      "\"the condition has length > 1 and only the first element will be used\"\n"
     ]
    },
    {
     "name": "stdout",
     "output_type": "stream",
     "text": [
      "\u001b[90mDEBUG\u001b[39m [18:25:44.721] Log for site 2: \n",
      "\u001b[90mDEBUG\u001b[39m [18:25:44.725] Running a (mere) regular container. \n",
      "Calling RPC_node_deviance \n",
      "\u001b[90mDEBUG\u001b[39m [18:25:44.705] Starting node deviance. \n",
      "\u001b[90mDEBUG\u001b[39m [18:25:44.718] Updating the variables for node deviance.  \n"
     ]
    },
    {
     "name": "stderr",
     "output_type": "stream",
     "text": [
      "Warning message in if (family == \"rs.poi\") eval(as.name(dstar), data) else dstar:\n",
      "\"the condition has length > 1 and only the first element will be used\"\n"
     ]
    },
    {
     "name": "stdout",
     "output_type": "stream",
     "text": [
      "\u001b[90mDEBUG\u001b[39m [18:25:44.750] Log for site 3: \n",
      "\u001b[90mDEBUG\u001b[39m [18:25:44.754] Running a (mere) regular container. \n",
      "Calling RPC_node_deviance \n",
      "\u001b[90mDEBUG\u001b[39m [18:25:44.730] Starting node deviance. \n",
      "\u001b[90mDEBUG\u001b[39m [18:25:44.744] Updating the variables for node deviance.  \n",
      "\u001b[90mDEBUG\u001b[39m [18:25:44.757]   - [DONE] \n",
      "INFO  [18:25:44.761] 4.4 - Master deviance \n",
      "\u001b[90mDEBUG\u001b[39m [18:25:44.763] Starting master deviance. \n",
      "\u001b[90mDEBUG\u001b[39m [18:25:44.766]   - [DONE] \n",
      "INFO  [18:25:44.769] 4.5 - Termination conditions \n",
      "\u001b[90mDEBUG\u001b[39m [18:25:44.780]   - [DONE] \n",
      "INFO  [18:25:44.788]  \n",
      "INFO  [18:25:44.795] ############################################### \n",
      "INFO  [18:25:44.799] # Starting iteration 5 \n",
      "INFO  [18:25:44.802] ############################################### \n",
      "INFO  [18:25:44.806]  \n",
      "INFO  [18:25:44.814] 5.1 - RPC Node Beta \n",
      "\u001b[90mDEBUG\u001b[39m [18:25:44.819] ** Mocking call to \"node_beta\" ** \n",
      "\u001b[90mDEBUG\u001b[39m [18:25:44.826] Regular call \n",
      "\u001b[90mDEBUG\u001b[39m [18:25:44.831] there are 3 datasets ..  \n"
     ]
    },
    {
     "name": "stderr",
     "output_type": "stream",
     "text": [
      "Warning message in if (family == \"rs.poi\") eval(as.name(dstar), data) else dstar:\n",
      "\"the condition has length > 1 and only the first element will be used\"\n"
     ]
    },
    {
     "name": "stdout",
     "output_type": "stream",
     "text": [
      "\u001b[90mDEBUG\u001b[39m [18:25:44.846] Log for site 1: \n",
      "\u001b[90mDEBUG\u001b[39m [18:25:44.849] Running a (mere) regular container. \n",
      "Calling RPC_node_beta \n",
      "\u001b[90mDEBUG\u001b[39m [18:25:44.834] Initializing node beta... \n",
      "\u001b[90mDEBUG\u001b[39m [18:25:44.842] Calculating the Betas.  \n"
     ]
    },
    {
     "name": "stderr",
     "output_type": "stream",
     "text": [
      "Warning message in if (family == \"rs.poi\") eval(as.name(dstar), data) else dstar:\n",
      "\"the condition has length > 1 and only the first element will be used\"\n"
     ]
    },
    {
     "name": "stdout",
     "output_type": "stream",
     "text": [
      "\u001b[90mDEBUG\u001b[39m [18:25:44.866] Log for site 2: \n",
      "\u001b[90mDEBUG\u001b[39m [18:25:44.871] Running a (mere) regular container. \n",
      "Calling RPC_node_beta \n",
      "\u001b[90mDEBUG\u001b[39m [18:25:44.852] Initializing node beta... \n",
      "\u001b[90mDEBUG\u001b[39m [18:25:44.862] Calculating the Betas.  \n"
     ]
    },
    {
     "name": "stderr",
     "output_type": "stream",
     "text": [
      "Warning message in if (family == \"rs.poi\") eval(as.name(dstar), data) else dstar:\n",
      "\"the condition has length > 1 and only the first element will be used\"\n"
     ]
    },
    {
     "name": "stdout",
     "output_type": "stream",
     "text": [
      "\u001b[90mDEBUG\u001b[39m [18:25:44.885] Log for site 3: \n",
      "\u001b[90mDEBUG\u001b[39m [18:25:44.888] Running a (mere) regular container. \n",
      "Calling RPC_node_beta \n",
      "\u001b[90mDEBUG\u001b[39m [18:25:44.876] Initializing node beta... \n",
      "\u001b[90mDEBUG\u001b[39m [18:25:44.882] Calculating the Betas.  \n",
      "\u001b[90mDEBUG\u001b[39m [18:25:44.891]   - [DONE] \n",
      "INFO  [18:25:44.893] 5.2 - Master beta \n",
      "\u001b[90mDEBUG\u001b[39m [18:25:44.896] Initializing master Beta... \n",
      "\u001b[90mDEBUG\u001b[39m [18:25:44.898] Merging node calculation to update new Betas. \n",
      "\u001b[90mDEBUG\u001b[39m [18:25:44.901] Updating the Betas. \n",
      "\u001b[90mDEBUG\u001b[39m [18:25:44.904]   - [DONE] \n",
      "INFO  [18:25:44.912] 5.3 - RPC Node Deviance \n",
      "\u001b[90mDEBUG\u001b[39m [18:25:44.914] ** Mocking call to \"node_deviance\" ** \n",
      "\u001b[90mDEBUG\u001b[39m [18:25:44.917] Regular call \n",
      "\u001b[90mDEBUG\u001b[39m [18:25:44.920] there are 3 datasets ..  \n"
     ]
    },
    {
     "name": "stderr",
     "output_type": "stream",
     "text": [
      "Warning message in if (family == \"rs.poi\") eval(as.name(dstar), data) else dstar:\n",
      "\"the condition has length > 1 and only the first element will be used\"\n"
     ]
    },
    {
     "name": "stdout",
     "output_type": "stream",
     "text": [
      "\u001b[90mDEBUG\u001b[39m [18:25:44.936] Log for site 1: \n",
      "\u001b[90mDEBUG\u001b[39m [18:25:44.939] Running a (mere) regular container. \n",
      "Calling RPC_node_deviance \n",
      "\u001b[90mDEBUG\u001b[39m [18:25:44.923] Starting node deviance. \n",
      "\u001b[90mDEBUG\u001b[39m [18:25:44.930] Updating the variables for node deviance.  \n"
     ]
    },
    {
     "name": "stderr",
     "output_type": "stream",
     "text": [
      "Warning message in if (family == \"rs.poi\") eval(as.name(dstar), data) else dstar:\n",
      "\"the condition has length > 1 and only the first element will be used\"\n"
     ]
    },
    {
     "name": "stdout",
     "output_type": "stream",
     "text": [
      "\u001b[90mDEBUG\u001b[39m [18:25:44.953] Log for site 2: \n",
      "\u001b[90mDEBUG\u001b[39m [18:25:44.956] Running a (mere) regular container. \n",
      "Calling RPC_node_deviance \n",
      "\u001b[90mDEBUG\u001b[39m [18:25:44.943] Starting node deviance. \n",
      "\u001b[90mDEBUG\u001b[39m [18:25:44.950] Updating the variables for node deviance.  \n"
     ]
    },
    {
     "name": "stderr",
     "output_type": "stream",
     "text": [
      "Warning message in if (family == \"rs.poi\") eval(as.name(dstar), data) else dstar:\n",
      "\"the condition has length > 1 and only the first element will be used\"\n"
     ]
    },
    {
     "name": "stdout",
     "output_type": "stream",
     "text": [
      "\u001b[90mDEBUG\u001b[39m [18:25:44.970] Log for site 3: \n",
      "\u001b[90mDEBUG\u001b[39m [18:25:44.972] Running a (mere) regular container. \n",
      "Calling RPC_node_deviance \n",
      "\u001b[90mDEBUG\u001b[39m [18:25:44.959] Starting node deviance. \n",
      "\u001b[90mDEBUG\u001b[39m [18:25:44.967] Updating the variables for node deviance.  \n",
      "\u001b[90mDEBUG\u001b[39m [18:25:44.976]   - [DONE] \n",
      "INFO  [18:25:44.979] 5.4 - Master deviance \n",
      "\u001b[90mDEBUG\u001b[39m [18:25:44.981] Starting master deviance. \n",
      "\u001b[90mDEBUG\u001b[39m [18:25:44.984]   - [DONE] \n",
      "INFO  [18:25:44.986] 5.5 - Termination conditions \n",
      "\u001b[90mDEBUG\u001b[39m [18:25:44.989]   - [CONVERGED] \n",
      "\u001b[90mDEBUG\u001b[39m [18:25:44.991] Preparing output \n"
     ]
    }
   ],
   "source": [
    "client <- vtg::MockClient$new(datasets, \"vtg.glm\")\n",
    "results_federated_plain <- vtg.glm::dglm(client, formula = y ~ x1 + x2, family=binomial(link = \"logit\"), tol=1e-08, maxit=25)"
   ]
  },
  {
   "cell_type": "markdown",
   "id": "3644c015",
   "metadata": {},
   "source": [
    "#### Comparison"
   ]
  },
  {
   "cell_type": "code",
   "execution_count": 11,
   "id": "73bb87fa",
   "metadata": {
    "scrolled": false
   },
   "outputs": [
    {
     "name": "stdout",
     "output_type": "stream",
     "text": [
      "[1] \"LaTeX\"\n",
      "\n",
      "% Table created by stargazer v.5.2.3 by Marek Hlavac, Social Policy Institute. E-mail: marek.hlavac at gmail.com\n",
      "% Date and time: Mon, May 09, 2022 - 18:25:45\n",
      "\\begin{table}[!htbp] \\centering \n",
      "  \\caption{} \n",
      "  \\label{} \n",
      "\\begin{tabular}{@{\\extracolsep{5pt}} ccccccccc} \n",
      "\\\\[-1.8ex]\\hline \n",
      "\\hline \\\\[-1.8ex] \n",
      " & coeff\\_c & coeff\\_f & stderr\\_c & stderr\\_f & pvalues\\_c & pvalues\\_f & zvalues\\_c & zvalues\\_f \\\\ \n",
      "\\hline \\\\[-1.8ex] \n",
      "(Intercept) & $0.388$ & $0.388$ & $0.065$ & $0.065$ & $0$ & $0$ & $5.986$ & $5.986$ \\\\ \n",
      "x1 & $2.511$ & $2.511$ & $0.093$ & $0.093$ & $0$ & $0$ & $27.133$ & $27.133$ \\\\ \n",
      "x2 & $$-$0.438$ & $$-$0.438$ & $0.049$ & $0.049$ & $0$ & $0$ & $$-$8.920$ & $$-$8.920$ \\\\ \n",
      "\\hline \\\\[-1.8ex] \n",
      "\\end{tabular} \n",
      "\\end{table} \n",
      "[1] \"Text\"\n",
      "\n",
      "=====================================================================================\n",
      "            coeff_c coeff_f stderr_c stderr_f pvalues_c pvalues_f zvalues_c zvalues_f\n",
      "-------------------------------------------------------------------------------------\n",
      "(Intercept)  0.388   0.388   0.065    0.065       0         0       5.986     5.986  \n",
      "x1           2.511   2.511   0.093    0.093       0         0      27.133    27.133  \n",
      "x2          -0.438  -0.438   0.049    0.049       0         0      -8.920    -8.920  \n",
      "-------------------------------------------------------------------------------------\n",
      "$converged\n",
      "[1] TRUE\n",
      "\n",
      "$converged\n",
      "[1] TRUE\n",
      "\n",
      "$dispersion\n",
      "[1] TRUE\n",
      "\n",
      "$formula\n",
      "[1] TRUE\n",
      "\n",
      "$family\n",
      "[1] TRUE\n",
      "\n",
      "$null.deviance\n",
      "[1] TRUE\n",
      "\n",
      "$df.residual\n",
      "[1] TRUE\n",
      "\n",
      "$df.null\n",
      "[1] TRUE\n",
      "\n"
     ]
    }
   ],
   "source": [
    "val_binomial_res = validate(results_centralized, results_federated_plain)\n",
    "print(val_binomial_res)"
   ]
  },
  {
   "cell_type": "markdown",
   "id": "7de66e09",
   "metadata": {},
   "source": [
    "## References\n",
    "For more information, please refer to our paper:\n",
    "\n",
    "> M. Cellamare, A.J. van Gestel, H. Alradhi, F. Martin, A. Moncada-Torres. \"A Federated Generalized Linear Model for Privacy-Preserving Analysis\". Under review"
   ]
  }
 ],
 "metadata": {
  "kernelspec": {
   "display_name": "R",
   "language": "R",
   "name": "ir"
  },
  "language_info": {
   "codemirror_mode": "r",
   "file_extension": ".r",
   "mimetype": "text/x-r-source",
   "name": "R",
   "pygments_lexer": "r",
   "version": "4.1.3"
  }
 },
 "nbformat": 4,
 "nbformat_minor": 5
}
