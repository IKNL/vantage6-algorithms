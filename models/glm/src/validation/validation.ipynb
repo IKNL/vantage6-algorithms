{
 "cells": [
  {
   "cell_type": "markdown",
   "id": "fa8c2599",
   "metadata": {},
   "source": [
    "<img src=\"https://github.com/IKNL/guidelines/blob/master/resources/logos/iknl_nl.png?raw=true\" width=200 align=\"right\">\n",
    "\n",
    "# `validation`\n",
    "In this notebook, we validate our proposed federated GLM by comparing its performance against that of `R`'s `glm()` (i.e., centralized).\n",
    "\n",
    "The families that are shown in this notebook are: \n",
    "\n",
    "* `gaussian(link = \"identity\")`: Linear regression\n",
    "* `poisson(link = \"log\")`: Poisson regression\n",
    "* `binomial(link = \"logit\")`: Logistic regression\n",
    "* `rs.poi`: Custom GLM relative survival model with Poisson error\n",
    "\n",
    "\n",
    "## Requirements\n",
    "In order to be able to run it properly, make sure that the following libraries are installed:\n",
    "\n",
    "* `vtg` - Basic `vantage6` tools. These will allow you to use the mock client. They can be installed with the command:\n",
    "\n",
    "   `devtools::install_github('IKNL/vtg')`\n",
    "   \n",
    "   \n",
    "   \n",
    "* `vtg.glm` - The actual federated GLM algorithm. It can be installed with the command:\n",
    "\n",
    "   `devtools::install_github(repo='IKNL/vantage6-algorithms', ref='glm', subdir='models/glm/src')`"
   ]
  },
  {
   "cell_type": "markdown",
   "id": "e1f3a141",
   "metadata": {},
   "source": [
    "## Preliminaries"
   ]
  },
  {
   "cell_type": "code",
   "execution_count": 1,
   "id": "8834e674",
   "metadata": {},
   "outputs": [
    {
     "name": "stderr",
     "output_type": "stream",
     "text": [
      "\n",
      "Please cite as: \n",
      "\n",
      "\n",
      " Hlavac, Marek (2022). stargazer: Well-Formatted Regression and Summary Statistics Tables.\n",
      "\n",
      " R package version 5.2.3. https://CRAN.R-project.org/package=stargazer \n",
      "\n",
      "\n"
     ]
    }
   ],
   "source": [
    "# Imports\n",
    "library('stargazer')"
   ]
  },
  {
   "cell_type": "markdown",
   "id": "d1f7583e",
   "metadata": {},
   "source": [
    "## Data\n",
    "The `.csv` files for the data can be generated running the accompanying (Python) script `create_data.py`. Each family (i.e., model type) has its corresponding data. In all cases, they represent a horizontally-partitioned scenario (i.e., all parties have the same features from different individuals)."
   ]
  },
  {
   "cell_type": "markdown",
   "id": "03297f64",
   "metadata": {},
   "source": [
    "## Validation\n",
    "\n",
    "#### The `validate()` function\n",
    "This function compares the centralized and federated results. The most important values (coefficients, standard errors, $p$- and $z$-values are printed to the console using `stargazer`. Additionally, it check if other values (such as conversion, formula, family, etc.) are equal between them (shown as `TRUE`) as a sanity check."
   ]
  },
  {
   "cell_type": "code",
   "execution_count": 2,
   "id": "1a7fe65b",
   "metadata": {},
   "outputs": [],
   "source": [
    "validate <- function(results_centralized, results_federated_plain){\n",
    "  \n",
    "  results_centralized_summary <- summary.glm(results_centralized)\n",
    "  results_federated <- vtg.glm::as.GLM(results_federated_plain)\n",
    "  \n",
    "  precision <- 10\n",
    "  options(digits=precision)\n",
    "  my_round <- function(x) {round(x, digits = 10)}\n",
    "  \n",
    "  validation_result <- list()\n",
    "    \n",
    "  # Coefficients\n",
    "  coeffs_centralized = sapply(results_centralized$coefficients, my_round, USE.NAMES = TRUE)    \n",
    "  coeffs_federated = sapply(results_federated_plain$coefficients, my_round, USE.NAMES = TRUE)\n",
    "  \n",
    "  df = data.frame(coeff_c = c(coeffs_centralized),\n",
    "                  coeff_f = c(coeffs_federated))  \n",
    "    \n",
    "  # Standard error\n",
    "  stderr_centralized = sapply(results_centralized_summary$coefficients[, 'Std. Error'], my_round, USE.NAMES = TRUE)\n",
    "  stderr_federated = sapply(results_federated_plain$Std.Error, my_round, USE.NAMES = TRUE)\n",
    "    \n",
    "  df['stderr_c'] <- c(stderr_centralized)\n",
    "  df['stderr_f'] <- c(stderr_federated)\n",
    "  \n",
    "\n",
    "  if(results_centralized_summary$family$family %in% c('poisson', 'binomial')) {letter='z'} \n",
    "  else if(results_centralized_summary$family$family=='gaussian') {letter='t'}\n",
    "  \n",
    "  # p-value\n",
    "  pval_centralized = sapply(results_centralized_summary$coefficients[, sprintf(\"Pr(>|%s|)\", letter)], my_round, USE.NAMES = TRUE)\n",
    "  pval_federated = sapply(results_federated_plain$pvalue, my_round, USE.NAMES = TRUE)\n",
    "   \n",
    "  df['pvalues_c'] <- c(pval_centralized)\n",
    "  df['pvalues_f'] <- c(pval_federated)\n",
    "    \n",
    "    \n",
    "  # z-value\n",
    "  zval_centralized = sapply(results_centralized_summary$coefficients[, sprintf(\"%s value\", letter)], my_round, USE.NAMES = TRUE)\n",
    "  zval_federated = sapply(results_federated_plain$zvalue, my_round, USE.NAMES = TRUE)\n",
    "  \n",
    "  df['zvalues_c'] <- c(zval_centralized)\n",
    "  df['zvalues_f'] <- c(zval_federated)\n",
    "    \n",
    "  print(\"LaTeX\")\n",
    "  stargazer(df, type=\"latex\", summary=FALSE)\n",
    "  print(\"Text\")\n",
    "  stargazer(df, type=\"text\", summary=FALSE)\n",
    "    \n",
    "    \n",
    "  # Converged\n",
    "  validation_result['converged'] = results_federated_plain$converged==results_centralized$converged\n",
    "  print(validation_result['converged'])\n",
    "    \n",
    "  # Dispersion\n",
    "  FL_dispersion = sapply(results_federated_plain$dispersion, my_round, USE.NAMES = TRUE)\n",
    "  central_dispersion = sapply(results_centralized_summary$dispersion, my_round, USE.NAMES = TRUE)\n",
    "  validation_result['dispersion'] = FL_dispersion==central_dispersion\n",
    "  \n",
    "  # Formula\n",
    "  validation_result['formula'] = results_federated_plain$formula==results_centralized$formula\n",
    "  \n",
    "  # Family\n",
    "  FL_family = jsonlite::toJSON(results_federated_plain$family, auto_unbox = TRUE, force = T)\n",
    "  central_family = jsonlite::toJSON(results_centralized$family, auto_unbox = TRUE, force = T)\n",
    "  validation_result['family'] = FL_family==central_family\n",
    "  \n",
    "  # null.deviance\n",
    "  FL_nulldeviance = sapply(results_federated_plain$null.deviance, my_round, USE.NAMES = TRUE)\n",
    "  central_nulldeviance = sapply(results_centralized$null.deviance, my_round, USE.NAMES = TRUE)\n",
    "  validation_result['null.deviance'] = FL_nulldeviance==central_nulldeviance\n",
    "  \n",
    "  # DoF\n",
    "  FL_dof = sapply(results_federated$df.residual, my_round, USE.NAMES = TRUE)\n",
    "  central_dof = sapply(results_centralized$df.residual, my_round, USE.NAMES = TRUE)\n",
    "  validation_result['df.residual'] = FL_dof==central_dof\n",
    "  \n",
    "  # null.dof\n",
    "  FL_null = sapply(results_federated$df.null, my_round, USE.NAMES = TRUE)\n",
    "  central_null = sapply(results_centralized$df.null, my_round, USE.NAMES = TRUE)\n",
    "  validation_result['df.null'] = FL_null==central_null\n",
    "    \n",
    "  validation_result\n",
    "}"
   ]
  },
  {
   "cell_type": "markdown",
   "id": "99369775",
   "metadata": {},
   "source": [
    "### Linear\n",
    "#### Centralized analysis"
   ]
  },
  {
   "cell_type": "code",
   "execution_count": 3,
   "id": "09eb4d91",
   "metadata": {},
   "outputs": [],
   "source": [
    "# Housekeeping\n",
    "if(exists('results_centralized')){\n",
    "    rm(results_centralized)\n",
    "}\n",
    "if(exists('results_federated_plain')){\n",
    "    rm(results_federated_plain)\n",
    "}\n",
    "\n",
    "datasets <- list(\n",
    "  read.csv('../data/linear_party1.csv'),\n",
    "  read.csv('../data/linear_party2.csv'),\n",
    "  read.csv('../data/linear_party3.csv')\n",
    ")\n",
    "datasets_combined <- do.call(rbind.data.frame, datasets)\n",
    "\n",
    "results_centralized <- glm(data=datasets_combined, formula = y ~ x1 + x2, family=gaussian(link = 'identity'))"
   ]
  },
  {
   "cell_type": "markdown",
   "id": "647a0283",
   "metadata": {},
   "source": [
    "#### Federated analysis"
   ]
  },
  {
   "cell_type": "code",
   "execution_count": 4,
   "id": "66c050b9",
   "metadata": {},
   "outputs": [
    {
     "name": "stderr",
     "output_type": "stream",
     "text": [
      "-----------------------------------------\n",
      "  Welcome to the vantage6 Infrastructure\n",
      "-----------------------------------------\n",
      "\n",
      "\n"
     ]
    },
    {
     "name": "stdout",
     "output_type": "stream",
     "text": [
      "INFO  [11:56:30.386]  \n",
      "INFO  [11:56:30.416] ############################################### \n",
      "INFO  [11:56:30.425] # Starting iteration 0 \n",
      "INFO  [11:56:30.427] ############################################### \n",
      "INFO  [11:56:30.429]  \n",
      "INFO  [11:56:30.431] 0.1 - RPC Node Beta \n",
      "\u001b[90mDEBUG\u001b[39m [11:56:30.434] ** Mocking call to \"node_beta\" ** \n",
      "\u001b[90mDEBUG\u001b[39m [11:56:30.437] Regular call \n",
      "\u001b[90mDEBUG\u001b[39m [11:56:30.439] there are 3 datasets ..  \n"
     ]
    },
    {
     "name": "stderr",
     "output_type": "stream",
     "text": [
      "Warning message in if (family == \"rs.poi\") eval(as.name(dstar), data) else dstar:\n",
      "\"the condition has length > 1 and only the first element will be used\"\n"
     ]
    },
    {
     "name": "stdout",
     "output_type": "stream",
     "text": [
      "\u001b[90mDEBUG\u001b[39m [11:56:30.468] Log for site 1: \n",
      "\u001b[90mDEBUG\u001b[39m [11:56:30.471] Running a (mere) regular container. \n",
      "Calling RPC_node_beta \n",
      "\u001b[90mDEBUG\u001b[39m [11:56:30.447] Initializing node beta... \n",
      "\u001b[90mDEBUG\u001b[39m [11:56:30.454] First iteration. Initializing variables. \n",
      "\u001b[90mDEBUG\u001b[39m [11:56:30.457] Calculating the Betas.  \n"
     ]
    },
    {
     "name": "stderr",
     "output_type": "stream",
     "text": [
      "Warning message in if (family == \"rs.poi\") eval(as.name(dstar), data) else dstar:\n",
      "\"the condition has length > 1 and only the first element will be used\"\n"
     ]
    },
    {
     "name": "stdout",
     "output_type": "stream",
     "text": [
      "\u001b[90mDEBUG\u001b[39m [11:56:30.486] Log for site 2: \n",
      "\u001b[90mDEBUG\u001b[39m [11:56:30.490] Running a (mere) regular container. \n",
      "Calling RPC_node_beta \n",
      "\u001b[90mDEBUG\u001b[39m [11:56:30.473] Initializing node beta... \n",
      "\u001b[90mDEBUG\u001b[39m [11:56:30.479] First iteration. Initializing variables. \n",
      "\u001b[90mDEBUG\u001b[39m [11:56:30.483] Calculating the Betas.  \n"
     ]
    },
    {
     "name": "stderr",
     "output_type": "stream",
     "text": [
      "Warning message in if (family == \"rs.poi\") eval(as.name(dstar), data) else dstar:\n",
      "\"the condition has length > 1 and only the first element will be used\"\n"
     ]
    },
    {
     "name": "stdout",
     "output_type": "stream",
     "text": [
      "\u001b[90mDEBUG\u001b[39m [11:56:30.506] Log for site 3: \n",
      "\u001b[90mDEBUG\u001b[39m [11:56:30.509] Running a (mere) regular container. \n",
      "Calling RPC_node_beta \n",
      "\u001b[90mDEBUG\u001b[39m [11:56:30.494] Initializing node beta... \n",
      "\u001b[90mDEBUG\u001b[39m [11:56:30.501] First iteration. Initializing variables. \n",
      "\u001b[90mDEBUG\u001b[39m [11:56:30.504] Calculating the Betas.  \n",
      "\u001b[90mDEBUG\u001b[39m [11:56:30.512]   - [DONE] \n",
      "INFO  [11:56:30.514] 0.2 - Master beta \n",
      "\u001b[90mDEBUG\u001b[39m [11:56:30.517] Initializing master Beta... \n",
      "\u001b[90mDEBUG\u001b[39m [11:56:30.520] Merging node calculation to update new Betas. \n",
      "\u001b[90mDEBUG\u001b[39m [11:56:30.522] Updating the Betas. \n",
      "\u001b[90mDEBUG\u001b[39m [11:56:30.526]   - [DONE] \n",
      "INFO  [11:56:30.529] 0.3 - RPC Node Deviance \n",
      "\u001b[90mDEBUG\u001b[39m [11:56:30.539] ** Mocking call to \"node_deviance\" ** \n",
      "\u001b[90mDEBUG\u001b[39m [11:56:30.569] Regular call \n",
      "\u001b[90mDEBUG\u001b[39m [11:56:30.572] there are 3 datasets ..  \n"
     ]
    },
    {
     "name": "stderr",
     "output_type": "stream",
     "text": [
      "Warning message in if (family == \"rs.poi\") eval(as.name(dstar), data) else dstar:\n",
      "\"the condition has length > 1 and only the first element will be used\"\n"
     ]
    },
    {
     "name": "stdout",
     "output_type": "stream",
     "text": [
      "\u001b[90mDEBUG\u001b[39m [11:56:30.586] Log for site 1: \n",
      "\u001b[90mDEBUG\u001b[39m [11:56:30.589] Running a (mere) regular container. \n",
      "Calling RPC_node_deviance \n",
      "\u001b[90mDEBUG\u001b[39m [11:56:30.575] Starting node deviance. \n",
      "\u001b[90mDEBUG\u001b[39m [11:56:30.581] First iteration. Initializing variables. \n",
      "\u001b[90mDEBUG\u001b[39m [11:56:30.584] Updating the variables for node deviance.  \n"
     ]
    },
    {
     "name": "stderr",
     "output_type": "stream",
     "text": [
      "Warning message in if (family == \"rs.poi\") eval(as.name(dstar), data) else dstar:\n",
      "\"the condition has length > 1 and only the first element will be used\"\n"
     ]
    },
    {
     "name": "stdout",
     "output_type": "stream",
     "text": [
      "\u001b[90mDEBUG\u001b[39m [11:56:30.603] Log for site 2: \n",
      "\u001b[90mDEBUG\u001b[39m [11:56:30.605] Running a (mere) regular container. \n",
      "Calling RPC_node_deviance \n",
      "\u001b[90mDEBUG\u001b[39m [11:56:30.592] Starting node deviance. \n",
      "\u001b[90mDEBUG\u001b[39m [11:56:30.597] First iteration. Initializing variables. \n",
      "\u001b[90mDEBUG\u001b[39m [11:56:30.600] Updating the variables for node deviance.  \n"
     ]
    },
    {
     "name": "stderr",
     "output_type": "stream",
     "text": [
      "Warning message in if (family == \"rs.poi\") eval(as.name(dstar), data) else dstar:\n",
      "\"the condition has length > 1 and only the first element will be used\"\n"
     ]
    },
    {
     "name": "stdout",
     "output_type": "stream",
     "text": [
      "\u001b[90mDEBUG\u001b[39m [11:56:30.621] Log for site 3: \n",
      "\u001b[90mDEBUG\u001b[39m [11:56:30.624] Running a (mere) regular container. \n",
      "Calling RPC_node_deviance \n",
      "\u001b[90mDEBUG\u001b[39m [11:56:30.608] Starting node deviance. \n",
      "\u001b[90mDEBUG\u001b[39m [11:56:30.617] First iteration. Initializing variables. \n",
      "\u001b[90mDEBUG\u001b[39m [11:56:30.619] Updating the variables for node deviance.  \n",
      "\u001b[90mDEBUG\u001b[39m [11:56:30.630]   - [DONE] \n",
      "INFO  [11:56:30.632] 0.4 - Master deviance \n",
      "\u001b[90mDEBUG\u001b[39m [11:56:30.635] Starting master deviance. \n",
      "\u001b[90mDEBUG\u001b[39m [11:56:30.637]   - [DONE] \n",
      "INFO  [11:56:30.640] 0.5 - Termination conditions \n",
      "\u001b[90mDEBUG\u001b[39m [11:56:30.643]   - [DONE] \n",
      "INFO  [11:56:30.646]  \n",
      "INFO  [11:56:30.648] ############################################### \n",
      "INFO  [11:56:30.653] # Starting iteration 1 \n",
      "INFO  [11:56:30.655] ############################################### \n",
      "INFO  [11:56:30.658]  \n",
      "INFO  [11:56:30.660] 1.1 - RPC Node Beta \n",
      "\u001b[90mDEBUG\u001b[39m [11:56:30.663] ** Mocking call to \"node_beta\" ** \n",
      "\u001b[90mDEBUG\u001b[39m [11:56:30.666] Regular call \n",
      "\u001b[90mDEBUG\u001b[39m [11:56:30.668] there are 3 datasets ..  \n"
     ]
    },
    {
     "name": "stderr",
     "output_type": "stream",
     "text": [
      "Warning message in if (family == \"rs.poi\") eval(as.name(dstar), data) else dstar:\n",
      "\"the condition has length > 1 and only the first element will be used\"\n"
     ]
    },
    {
     "name": "stdout",
     "output_type": "stream",
     "text": [
      "\u001b[90mDEBUG\u001b[39m [11:56:30.683] Log for site 1: \n",
      "\u001b[90mDEBUG\u001b[39m [11:56:30.685] Running a (mere) regular container. \n",
      "Calling RPC_node_beta \n",
      "\u001b[90mDEBUG\u001b[39m [11:56:30.671] Initializing node beta... \n",
      "\u001b[90mDEBUG\u001b[39m [11:56:30.679] Calculating the Betas.  \n"
     ]
    },
    {
     "name": "stderr",
     "output_type": "stream",
     "text": [
      "Warning message in if (family == \"rs.poi\") eval(as.name(dstar), data) else dstar:\n",
      "\"the condition has length > 1 and only the first element will be used\"\n"
     ]
    },
    {
     "name": "stdout",
     "output_type": "stream",
     "text": [
      "\u001b[90mDEBUG\u001b[39m [11:56:30.696] Log for site 2: \n",
      "\u001b[90mDEBUG\u001b[39m [11:56:30.699] Running a (mere) regular container. \n",
      "Calling RPC_node_beta \n",
      "\u001b[90mDEBUG\u001b[39m [11:56:30.688] Initializing node beta... \n",
      "\u001b[90mDEBUG\u001b[39m [11:56:30.693] Calculating the Betas.  \n"
     ]
    },
    {
     "name": "stderr",
     "output_type": "stream",
     "text": [
      "Warning message in if (family == \"rs.poi\") eval(as.name(dstar), data) else dstar:\n",
      "\"the condition has length > 1 and only the first element will be used\"\n"
     ]
    },
    {
     "name": "stdout",
     "output_type": "stream",
     "text": [
      "\u001b[90mDEBUG\u001b[39m [11:56:30.711] Log for site 3: \n",
      "\u001b[90mDEBUG\u001b[39m [11:56:30.716] Running a (mere) regular container. \n",
      "Calling RPC_node_beta \n",
      "\u001b[90mDEBUG\u001b[39m [11:56:30.701] Initializing node beta... \n",
      "\u001b[90mDEBUG\u001b[39m [11:56:30.708] Calculating the Betas.  \n",
      "\u001b[90mDEBUG\u001b[39m [11:56:30.718]   - [DONE] \n",
      "INFO  [11:56:30.720] 1.2 - Master beta \n",
      "\u001b[90mDEBUG\u001b[39m [11:56:30.723] Initializing master Beta... \n",
      "\u001b[90mDEBUG\u001b[39m [11:56:30.725] Merging node calculation to update new Betas. \n",
      "\u001b[90mDEBUG\u001b[39m [11:56:30.728] Updating the Betas. \n",
      "\u001b[90mDEBUG\u001b[39m [11:56:30.732]   - [DONE] \n",
      "INFO  [11:56:30.735] 1.3 - RPC Node Deviance \n",
      "\u001b[90mDEBUG\u001b[39m [11:56:30.738] ** Mocking call to \"node_deviance\" ** \n",
      "\u001b[90mDEBUG\u001b[39m [11:56:30.741] Regular call \n",
      "\u001b[90mDEBUG\u001b[39m [11:56:30.744] there are 3 datasets ..  \n"
     ]
    },
    {
     "name": "stderr",
     "output_type": "stream",
     "text": [
      "Warning message in if (family == \"rs.poi\") eval(as.name(dstar), data) else dstar:\n",
      "\"the condition has length > 1 and only the first element will be used\"\n"
     ]
    },
    {
     "name": "stdout",
     "output_type": "stream",
     "text": [
      "\u001b[90mDEBUG\u001b[39m [11:56:30.755] Log for site 1: \n",
      "\u001b[90mDEBUG\u001b[39m [11:56:30.757] Running a (mere) regular container. \n",
      "Calling RPC_node_deviance \n",
      "\u001b[90mDEBUG\u001b[39m [11:56:30.747] Starting node deviance. \n",
      "\u001b[90mDEBUG\u001b[39m [11:56:30.752] Updating the variables for node deviance.  \n"
     ]
    },
    {
     "name": "stderr",
     "output_type": "stream",
     "text": [
      "Warning message in if (family == \"rs.poi\") eval(as.name(dstar), data) else dstar:\n",
      "\"the condition has length > 1 and only the first element will be used\"\n"
     ]
    },
    {
     "name": "stdout",
     "output_type": "stream",
     "text": [
      "\u001b[90mDEBUG\u001b[39m [11:56:30.773] Log for site 2: \n",
      "\u001b[90mDEBUG\u001b[39m [11:56:30.775] Running a (mere) regular container. \n",
      "Calling RPC_node_deviance \n",
      "\u001b[90mDEBUG\u001b[39m [11:56:30.760] Starting node deviance. \n",
      "\u001b[90mDEBUG\u001b[39m [11:56:30.770] Updating the variables for node deviance.  \n"
     ]
    },
    {
     "name": "stderr",
     "output_type": "stream",
     "text": [
      "Warning message in if (family == \"rs.poi\") eval(as.name(dstar), data) else dstar:\n",
      "\"the condition has length > 1 and only the first element will be used\"\n"
     ]
    },
    {
     "name": "stdout",
     "output_type": "stream",
     "text": [
      "\u001b[90mDEBUG\u001b[39m [11:56:30.786] Log for site 3: \n",
      "\u001b[90mDEBUG\u001b[39m [11:56:30.789] Running a (mere) regular container. \n",
      "Calling RPC_node_deviance \n",
      "\u001b[90mDEBUG\u001b[39m [11:56:30.778] Starting node deviance. \n",
      "\u001b[90mDEBUG\u001b[39m [11:56:30.784] Updating the variables for node deviance.  \n",
      "\u001b[90mDEBUG\u001b[39m [11:56:30.791]   - [DONE] \n",
      "INFO  [11:56:30.794] 1.4 - Master deviance \n",
      "\u001b[90mDEBUG\u001b[39m [11:56:30.796] Starting master deviance. \n",
      "\u001b[90mDEBUG\u001b[39m [11:56:30.799]   - [DONE] \n",
      "INFO  [11:56:30.801] 1.5 - Termination conditions \n",
      "\u001b[90mDEBUG\u001b[39m [11:56:30.804]   - [CONVERGED] \n",
      "\u001b[90mDEBUG\u001b[39m [11:56:30.806] Preparing output \n"
     ]
    }
   ],
   "source": [
    "client <- vtg::MockClient$new(datasets, 'vtg.glm')\n",
    "results_federated_plain <- vtg.glm::dglm(client, formula = y ~ x1 + x2, family=gaussian(link = 'identity'), tol=1e-08, maxit=25)"
   ]
  },
  {
   "cell_type": "markdown",
   "id": "cc419ba5",
   "metadata": {},
   "source": [
    "#### Comparison"
   ]
  },
  {
   "cell_type": "code",
   "execution_count": 5,
   "id": "0db84e0f",
   "metadata": {
    "scrolled": false
   },
   "outputs": [
    {
     "name": "stdout",
     "output_type": "stream",
     "text": [
      "[1] \"LaTeX\"\n",
      "\n",
      "% Table created by stargazer v.5.2.3 by Marek Hlavac, Social Policy Institute. E-mail: marek.hlavac at gmail.com\n",
      "% Date and time: Thu, May 05, 2022 - 11:56:30\n",
      "\\begin{table}[!htbp] \\centering \n",
      "  \\caption{} \n",
      "  \\label{} \n",
      "\\begin{tabular}{@{\\extracolsep{5pt}} ccccccccc} \n",
      "\\\\[-1.8ex]\\hline \n",
      "\\hline \\\\[-1.8ex] \n",
      " & coeff\\_c & coeff\\_f & stderr\\_c & stderr\\_f & pvalues\\_c & pvalues\\_f & zvalues\\_c & zvalues\\_f \\\\ \n",
      "\\hline \\\\[-1.8ex] \n",
      "(Intercept) & $0.069$ & $0.069$ & $0.045$ & $0.045$ & $0.129$ & $0.129$ & $1.520$ & $1.520$ \\\\ \n",
      "x1 & $0.221$ & $0.221$ & $0.017$ & $0.017$ & $0$ & $0$ & $12.763$ & $12.763$ \\\\ \n",
      "x2 & $0.499$ & $0.499$ & $0.018$ & $0.018$ & $0$ & $0$ & $27.212$ & $27.212$ \\\\ \n",
      "\\hline \\\\[-1.8ex] \n",
      "\\end{tabular} \n",
      "\\end{table} \n",
      "[1] \"Text\"\n",
      "\n",
      "=====================================================================================\n",
      "            coeff_c coeff_f stderr_c stderr_f pvalues_c pvalues_f zvalues_c zvalues_f\n",
      "-------------------------------------------------------------------------------------\n",
      "(Intercept)  0.069   0.069   0.045    0.045     0.129     0.129     1.520     1.520  \n",
      "x1           0.221   0.221   0.017    0.017       0         0      12.763    12.763  \n",
      "x2           0.499   0.499   0.018    0.018       0         0      27.212    27.212  \n",
      "-------------------------------------------------------------------------------------\n",
      "$converged\n",
      "[1] TRUE\n",
      "\n",
      "$converged\n",
      "[1] TRUE\n",
      "\n",
      "$dispersion\n",
      "[1] TRUE\n",
      "\n",
      "$formula\n",
      "[1] TRUE\n",
      "\n",
      "$family\n",
      "[1] TRUE\n",
      "\n",
      "$null.deviance\n",
      "[1] TRUE\n",
      "\n",
      "$df.residual\n",
      "[1] TRUE\n",
      "\n",
      "$df.null\n",
      "[1] TRUE\n",
      "\n"
     ]
    }
   ],
   "source": [
    "val_linear_res = validate(results_centralized, results_federated_plain)\n",
    "print(val_linear_res)"
   ]
  },
  {
   "cell_type": "markdown",
   "id": "2f0c0bc1",
   "metadata": {},
   "source": [
    "### Poisson\n",
    "#### Centralized"
   ]
  },
  {
   "cell_type": "code",
   "execution_count": 9,
   "id": "e1d28882",
   "metadata": {},
   "outputs": [],
   "source": [
    "# Housekeeping\n",
    "if(exists('results_centralized')){\n",
    "    rm(results_centralized)\n",
    "}\n",
    "if(exists('results_federated_plain')){\n",
    "    rm(results_federated_plain)\n",
    "}\n",
    "\n",
    "datasets <- list(\n",
    "  read.csv('../data/poisson_party1.csv'),\n",
    "  read.csv('../data/poisson_party2.csv'),\n",
    "  read.csv('../data/poisson_party3.csv')\n",
    ")\n",
    "datasets_combined <- do.call(rbind.data.frame, datasets)\n",
    "\n",
    "results_centralized <- glm(data=datasets_combined, formula = y ~ x1 + x2, family=poisson(link = \"log\"))"
   ]
  },
  {
   "cell_type": "markdown",
   "id": "06a56f81",
   "metadata": {},
   "source": [
    "#### Federated"
   ]
  },
  {
   "cell_type": "code",
   "execution_count": 10,
   "id": "a3960653",
   "metadata": {},
   "outputs": [
    {
     "name": "stdout",
     "output_type": "stream",
     "text": [
      "\u001b[90mDEBUG\u001b[39m [11:56:32.462] Initializing... \n",
      "INFO  [11:56:32.465]  \n",
      "INFO  [11:56:32.467] ############################################### \n",
      "INFO  [11:56:32.470] # Starting iteration 0 \n",
      "INFO  [11:56:32.472] ############################################### \n",
      "INFO  [11:56:32.475]  \n",
      "INFO  [11:56:32.478] 0.1 - RPC Node Beta \n",
      "\u001b[90mDEBUG\u001b[39m [11:56:32.480] ** Mocking call to \"node_beta\" ** \n",
      "\u001b[90mDEBUG\u001b[39m [11:56:32.483] Regular call \n",
      "\u001b[90mDEBUG\u001b[39m [11:56:32.487] there are 3 datasets ..  \n"
     ]
    },
    {
     "name": "stderr",
     "output_type": "stream",
     "text": [
      "Warning message in if (family == \"rs.poi\") eval(as.name(dstar), data) else dstar:\n",
      "\"the condition has length > 1 and only the first element will be used\"\n"
     ]
    },
    {
     "name": "stdout",
     "output_type": "stream",
     "text": [
      "\u001b[90mDEBUG\u001b[39m [11:56:32.502] Log for site 1: \n",
      "\u001b[90mDEBUG\u001b[39m [11:56:32.505] Running a (mere) regular container. \n",
      "Calling RPC_node_beta \n",
      "\u001b[90mDEBUG\u001b[39m [11:56:32.490] Initializing node beta... \n",
      "\u001b[90mDEBUG\u001b[39m [11:56:32.497] First iteration. Initializing variables. \n",
      "\u001b[90mDEBUG\u001b[39m [11:56:32.500] Calculating the Betas.  \n"
     ]
    },
    {
     "name": "stderr",
     "output_type": "stream",
     "text": [
      "Warning message in if (family == \"rs.poi\") eval(as.name(dstar), data) else dstar:\n",
      "\"the condition has length > 1 and only the first element will be used\"\n"
     ]
    },
    {
     "name": "stdout",
     "output_type": "stream",
     "text": [
      "\u001b[90mDEBUG\u001b[39m [11:56:32.522] Log for site 2: \n",
      "\u001b[90mDEBUG\u001b[39m [11:56:32.525] Running a (mere) regular container. \n",
      "Calling RPC_node_beta \n",
      "\u001b[90mDEBUG\u001b[39m [11:56:32.507] Initializing node beta... \n",
      "\u001b[90mDEBUG\u001b[39m [11:56:32.513] First iteration. Initializing variables. \n",
      "\u001b[90mDEBUG\u001b[39m [11:56:32.515] Calculating the Betas.  \n"
     ]
    },
    {
     "name": "stderr",
     "output_type": "stream",
     "text": [
      "Warning message in if (family == \"rs.poi\") eval(as.name(dstar), data) else dstar:\n",
      "\"the condition has length > 1 and only the first element will be used\"\n"
     ]
    },
    {
     "name": "stdout",
     "output_type": "stream",
     "text": [
      "\u001b[90mDEBUG\u001b[39m [11:56:32.539] Log for site 3: \n",
      "\u001b[90mDEBUG\u001b[39m [11:56:32.542] Running a (mere) regular container. \n",
      "Calling RPC_node_beta \n",
      "\u001b[90mDEBUG\u001b[39m [11:56:32.528] Initializing node beta... \n",
      "\u001b[90mDEBUG\u001b[39m [11:56:32.534] First iteration. Initializing variables. \n",
      "\u001b[90mDEBUG\u001b[39m [11:56:32.536] Calculating the Betas.  \n",
      "\u001b[90mDEBUG\u001b[39m [11:56:32.544]   - [DONE] \n",
      "INFO  [11:56:32.546] 0.2 - Master beta \n",
      "\u001b[90mDEBUG\u001b[39m [11:56:32.549] Initializing master Beta... \n",
      "\u001b[90mDEBUG\u001b[39m [11:56:32.552] Merging node calculation to update new Betas. \n",
      "\u001b[90mDEBUG\u001b[39m [11:56:32.555] Updating the Betas. \n",
      "\u001b[90mDEBUG\u001b[39m [11:56:32.558]   - [DONE] \n",
      "INFO  [11:56:32.560] 0.3 - RPC Node Deviance \n",
      "\u001b[90mDEBUG\u001b[39m [11:56:32.563] ** Mocking call to \"node_deviance\" ** \n",
      "\u001b[90mDEBUG\u001b[39m [11:56:32.566] Regular call \n",
      "\u001b[90mDEBUG\u001b[39m [11:56:32.569] there are 3 datasets ..  \n"
     ]
    },
    {
     "name": "stderr",
     "output_type": "stream",
     "text": [
      "Warning message in if (family == \"rs.poi\") eval(as.name(dstar), data) else dstar:\n",
      "\"the condition has length > 1 and only the first element will be used\"\n"
     ]
    },
    {
     "name": "stdout",
     "output_type": "stream",
     "text": [
      "\u001b[90mDEBUG\u001b[39m [11:56:32.583] Log for site 1: \n",
      "\u001b[90mDEBUG\u001b[39m [11:56:32.585] Running a (mere) regular container. \n",
      "Calling RPC_node_deviance \n",
      "\u001b[90mDEBUG\u001b[39m [11:56:32.571] Starting node deviance. \n",
      "\u001b[90mDEBUG\u001b[39m [11:56:32.577] First iteration. Initializing variables. \n",
      "\u001b[90mDEBUG\u001b[39m [11:56:32.580] Updating the variables for node deviance.  \n"
     ]
    },
    {
     "name": "stderr",
     "output_type": "stream",
     "text": [
      "Warning message in if (family == \"rs.poi\") eval(as.name(dstar), data) else dstar:\n",
      "\"the condition has length > 1 and only the first element will be used\"\n"
     ]
    },
    {
     "name": "stdout",
     "output_type": "stream",
     "text": [
      "\u001b[90mDEBUG\u001b[39m [11:56:32.601] Log for site 2: \n",
      "\u001b[90mDEBUG\u001b[39m [11:56:32.603] Running a (mere) regular container. \n",
      "Calling RPC_node_deviance \n",
      "\u001b[90mDEBUG\u001b[39m [11:56:32.588] Starting node deviance. \n",
      "\u001b[90mDEBUG\u001b[39m [11:56:32.595] First iteration. Initializing variables. \n",
      "\u001b[90mDEBUG\u001b[39m [11:56:32.598] Updating the variables for node deviance.  \n"
     ]
    },
    {
     "name": "stderr",
     "output_type": "stream",
     "text": [
      "Warning message in if (family == \"rs.poi\") eval(as.name(dstar), data) else dstar:\n",
      "\"the condition has length > 1 and only the first element will be used\"\n"
     ]
    },
    {
     "name": "stdout",
     "output_type": "stream",
     "text": [
      "\u001b[90mDEBUG\u001b[39m [11:56:32.621] Log for site 3: \n",
      "\u001b[90mDEBUG\u001b[39m [11:56:32.623] Running a (mere) regular container. \n",
      "Calling RPC_node_deviance \n",
      "\u001b[90mDEBUG\u001b[39m [11:56:32.608] Starting node deviance. \n",
      "\u001b[90mDEBUG\u001b[39m [11:56:32.615] First iteration. Initializing variables. \n",
      "\u001b[90mDEBUG\u001b[39m [11:56:32.618] Updating the variables for node deviance.  \n",
      "\u001b[90mDEBUG\u001b[39m [11:56:32.625]   - [DONE] \n",
      "INFO  [11:56:32.628] 0.4 - Master deviance \n",
      "\u001b[90mDEBUG\u001b[39m [11:56:32.631] Starting master deviance. \n",
      "\u001b[90mDEBUG\u001b[39m [11:56:32.633]   - [DONE] \n",
      "INFO  [11:56:32.636] 0.5 - Termination conditions \n",
      "\u001b[90mDEBUG\u001b[39m [11:56:32.638]   - [DONE] \n",
      "INFO  [11:56:32.641]  \n",
      "INFO  [11:56:32.643] ############################################### \n",
      "INFO  [11:56:32.646] # Starting iteration 1 \n",
      "INFO  [11:56:32.649] ############################################### \n",
      "INFO  [11:56:32.651]  \n",
      "INFO  [11:56:32.654] 1.1 - RPC Node Beta \n",
      "\u001b[90mDEBUG\u001b[39m [11:56:32.656] ** Mocking call to \"node_beta\" ** \n",
      "\u001b[90mDEBUG\u001b[39m [11:56:32.659] Regular call \n",
      "\u001b[90mDEBUG\u001b[39m [11:56:32.662] there are 3 datasets ..  \n"
     ]
    },
    {
     "name": "stderr",
     "output_type": "stream",
     "text": [
      "Warning message in if (family == \"rs.poi\") eval(as.name(dstar), data) else dstar:\n",
      "\"the condition has length > 1 and only the first element will be used\"\n"
     ]
    },
    {
     "name": "stdout",
     "output_type": "stream",
     "text": [
      "\u001b[90mDEBUG\u001b[39m [11:56:32.674] Log for site 1: \n",
      "\u001b[90mDEBUG\u001b[39m [11:56:32.677] Running a (mere) regular container. \n",
      "Calling RPC_node_beta \n",
      "\u001b[90mDEBUG\u001b[39m [11:56:32.665] Initializing node beta... \n",
      "\u001b[90mDEBUG\u001b[39m [11:56:32.671] Calculating the Betas.  \n"
     ]
    },
    {
     "name": "stderr",
     "output_type": "stream",
     "text": [
      "Warning message in if (family == \"rs.poi\") eval(as.name(dstar), data) else dstar:\n",
      "\"the condition has length > 1 and only the first element will be used\"\n"
     ]
    },
    {
     "name": "stdout",
     "output_type": "stream",
     "text": [
      "\u001b[90mDEBUG\u001b[39m [11:56:32.690] Log for site 2: \n",
      "\u001b[90mDEBUG\u001b[39m [11:56:32.693] Running a (mere) regular container. \n",
      "Calling RPC_node_beta \n",
      "\u001b[90mDEBUG\u001b[39m [11:56:32.680] Initializing node beta... \n",
      "\u001b[90mDEBUG\u001b[39m [11:56:32.686] Calculating the Betas.  \n"
     ]
    },
    {
     "name": "stderr",
     "output_type": "stream",
     "text": [
      "Warning message in if (family == \"rs.poi\") eval(as.name(dstar), data) else dstar:\n",
      "\"the condition has length > 1 and only the first element will be used\"\n"
     ]
    },
    {
     "name": "stdout",
     "output_type": "stream",
     "text": [
      "\u001b[90mDEBUG\u001b[39m [11:56:32.709] Log for site 3: \n",
      "\u001b[90mDEBUG\u001b[39m [11:56:32.712] Running a (mere) regular container. \n",
      "Calling RPC_node_beta \n",
      "\u001b[90mDEBUG\u001b[39m [11:56:32.699] Initializing node beta... \n",
      "\u001b[90mDEBUG\u001b[39m [11:56:32.705] Calculating the Betas.  \n",
      "\u001b[90mDEBUG\u001b[39m [11:56:32.715]   - [DONE] \n",
      "INFO  [11:56:32.717] 1.2 - Master beta \n",
      "\u001b[90mDEBUG\u001b[39m [11:56:32.720] Initializing master Beta... \n",
      "\u001b[90mDEBUG\u001b[39m [11:56:32.722] Merging node calculation to update new Betas. \n",
      "\u001b[90mDEBUG\u001b[39m [11:56:32.725] Updating the Betas. \n",
      "\u001b[90mDEBUG\u001b[39m [11:56:32.728]   - [DONE] \n",
      "INFO  [11:56:32.730] 1.3 - RPC Node Deviance \n",
      "\u001b[90mDEBUG\u001b[39m [11:56:32.733] ** Mocking call to \"node_deviance\" ** \n",
      "\u001b[90mDEBUG\u001b[39m [11:56:32.736] Regular call \n",
      "\u001b[90mDEBUG\u001b[39m [11:56:32.738] there are 3 datasets ..  \n"
     ]
    },
    {
     "name": "stderr",
     "output_type": "stream",
     "text": [
      "Warning message in if (family == \"rs.poi\") eval(as.name(dstar), data) else dstar:\n",
      "\"the condition has length > 1 and only the first element will be used\"\n"
     ]
    },
    {
     "name": "stdout",
     "output_type": "stream",
     "text": [
      "\u001b[90mDEBUG\u001b[39m [11:56:32.751] Log for site 1: \n",
      "\u001b[90mDEBUG\u001b[39m [11:56:32.753] Running a (mere) regular container. \n",
      "Calling RPC_node_deviance \n",
      "\u001b[90mDEBUG\u001b[39m [11:56:32.741] Starting node deviance. \n",
      "\u001b[90mDEBUG\u001b[39m [11:56:32.748] Updating the variables for node deviance.  \n"
     ]
    },
    {
     "name": "stderr",
     "output_type": "stream",
     "text": [
      "Warning message in if (family == \"rs.poi\") eval(as.name(dstar), data) else dstar:\n",
      "\"the condition has length > 1 and only the first element will be used\"\n"
     ]
    },
    {
     "name": "stdout",
     "output_type": "stream",
     "text": [
      "\u001b[90mDEBUG\u001b[39m [11:56:32.766] Log for site 2: \n",
      "\u001b[90mDEBUG\u001b[39m [11:56:32.769] Running a (mere) regular container. \n",
      "Calling RPC_node_deviance \n",
      "\u001b[90mDEBUG\u001b[39m [11:56:32.755] Starting node deviance. \n",
      "\u001b[90mDEBUG\u001b[39m [11:56:32.762] Updating the variables for node deviance.  \n"
     ]
    },
    {
     "name": "stderr",
     "output_type": "stream",
     "text": [
      "Warning message in if (family == \"rs.poi\") eval(as.name(dstar), data) else dstar:\n",
      "\"the condition has length > 1 and only the first element will be used\"\n"
     ]
    },
    {
     "name": "stdout",
     "output_type": "stream",
     "text": [
      "\u001b[90mDEBUG\u001b[39m [11:56:32.782] Log for site 3: \n",
      "\u001b[90mDEBUG\u001b[39m [11:56:32.784] Running a (mere) regular container. \n",
      "Calling RPC_node_deviance \n",
      "\u001b[90mDEBUG\u001b[39m [11:56:32.772] Starting node deviance. \n",
      "\u001b[90mDEBUG\u001b[39m [11:56:32.779] Updating the variables for node deviance.  \n",
      "\u001b[90mDEBUG\u001b[39m [11:56:32.789]   - [DONE] \n",
      "INFO  [11:56:32.792] 1.4 - Master deviance \n",
      "\u001b[90mDEBUG\u001b[39m [11:56:32.795] Starting master deviance. \n",
      "\u001b[90mDEBUG\u001b[39m [11:56:32.798]   - [DONE] \n",
      "INFO  [11:56:32.800] 1.5 - Termination conditions \n",
      "\u001b[90mDEBUG\u001b[39m [11:56:32.803]   - [DONE] \n",
      "INFO  [11:56:32.806]  \n",
      "INFO  [11:56:32.810] ############################################### \n",
      "INFO  [11:56:32.812] # Starting iteration 2 \n",
      "INFO  [11:56:32.814] ############################################### \n",
      "INFO  [11:56:32.817]  \n",
      "INFO  [11:56:32.819] 2.1 - RPC Node Beta \n",
      "\u001b[90mDEBUG\u001b[39m [11:56:32.821] ** Mocking call to \"node_beta\" ** \n",
      "\u001b[90mDEBUG\u001b[39m [11:56:32.823] Regular call \n",
      "\u001b[90mDEBUG\u001b[39m [11:56:32.827] there are 3 datasets ..  \n"
     ]
    },
    {
     "name": "stderr",
     "output_type": "stream",
     "text": [
      "Warning message in if (family == \"rs.poi\") eval(as.name(dstar), data) else dstar:\n",
      "\"the condition has length > 1 and only the first element will be used\"\n"
     ]
    },
    {
     "name": "stdout",
     "output_type": "stream",
     "text": [
      "\u001b[90mDEBUG\u001b[39m [11:56:32.842] Log for site 1: \n",
      "\u001b[90mDEBUG\u001b[39m [11:56:32.845] Running a (mere) regular container. \n",
      "Calling RPC_node_beta \n",
      "\u001b[90mDEBUG\u001b[39m [11:56:32.830] Initializing node beta... \n",
      "\u001b[90mDEBUG\u001b[39m [11:56:32.839] Calculating the Betas.  \n"
     ]
    },
    {
     "name": "stderr",
     "output_type": "stream",
     "text": [
      "Warning message in if (family == \"rs.poi\") eval(as.name(dstar), data) else dstar:\n",
      "\"the condition has length > 1 and only the first element will be used\"\n"
     ]
    },
    {
     "name": "stdout",
     "output_type": "stream",
     "text": [
      "\u001b[90mDEBUG\u001b[39m [11:56:32.857] Log for site 2: \n",
      "\u001b[90mDEBUG\u001b[39m [11:56:32.860] Running a (mere) regular container. \n",
      "Calling RPC_node_beta \n",
      "\u001b[90mDEBUG\u001b[39m [11:56:32.848] Initializing node beta... \n",
      "\u001b[90mDEBUG\u001b[39m [11:56:32.854] Calculating the Betas.  \n"
     ]
    },
    {
     "name": "stderr",
     "output_type": "stream",
     "text": [
      "Warning message in if (family == \"rs.poi\") eval(as.name(dstar), data) else dstar:\n",
      "\"the condition has length > 1 and only the first element will be used\"\n"
     ]
    },
    {
     "name": "stdout",
     "output_type": "stream",
     "text": [
      "\u001b[90mDEBUG\u001b[39m [11:56:32.872] Log for site 3: \n",
      "\u001b[90mDEBUG\u001b[39m [11:56:32.875] Running a (mere) regular container. \n",
      "Calling RPC_node_beta \n",
      "\u001b[90mDEBUG\u001b[39m [11:56:32.862] Initializing node beta... \n",
      "\u001b[90mDEBUG\u001b[39m [11:56:32.869] Calculating the Betas.  \n",
      "\u001b[90mDEBUG\u001b[39m [11:56:32.881]   - [DONE] \n",
      "INFO  [11:56:32.884] 2.2 - Master beta \n",
      "\u001b[90mDEBUG\u001b[39m [11:56:32.886] Initializing master Beta... \n",
      "\u001b[90mDEBUG\u001b[39m [11:56:32.888] Merging node calculation to update new Betas. \n",
      "\u001b[90mDEBUG\u001b[39m [11:56:32.891] Updating the Betas. \n",
      "\u001b[90mDEBUG\u001b[39m [11:56:32.894]   - [DONE] \n",
      "INFO  [11:56:32.897] 2.3 - RPC Node Deviance \n",
      "\u001b[90mDEBUG\u001b[39m [11:56:32.900] ** Mocking call to \"node_deviance\" ** \n",
      "\u001b[90mDEBUG\u001b[39m [11:56:32.902] Regular call \n",
      "\u001b[90mDEBUG\u001b[39m [11:56:32.905] there are 3 datasets ..  \n"
     ]
    },
    {
     "name": "stderr",
     "output_type": "stream",
     "text": [
      "Warning message in if (family == \"rs.poi\") eval(as.name(dstar), data) else dstar:\n",
      "\"the condition has length > 1 and only the first element will be used\"\n"
     ]
    },
    {
     "name": "stdout",
     "output_type": "stream",
     "text": [
      "\u001b[90mDEBUG\u001b[39m [11:56:32.917] Log for site 1: \n",
      "\u001b[90mDEBUG\u001b[39m [11:56:32.920] Running a (mere) regular container. \n",
      "Calling RPC_node_deviance \n",
      "\u001b[90mDEBUG\u001b[39m [11:56:32.907] Starting node deviance. \n",
      "\u001b[90mDEBUG\u001b[39m [11:56:32.914] Updating the variables for node deviance.  \n"
     ]
    },
    {
     "name": "stderr",
     "output_type": "stream",
     "text": [
      "Warning message in if (family == \"rs.poi\") eval(as.name(dstar), data) else dstar:\n",
      "\"the condition has length > 1 and only the first element will be used\"\n"
     ]
    },
    {
     "name": "stdout",
     "output_type": "stream",
     "text": [
      "\u001b[90mDEBUG\u001b[39m [11:56:32.931] Log for site 2: \n",
      "\u001b[90mDEBUG\u001b[39m [11:56:32.933] Running a (mere) regular container. \n",
      "Calling RPC_node_deviance \n",
      "\u001b[90mDEBUG\u001b[39m [11:56:32.922] Starting node deviance. \n",
      "\u001b[90mDEBUG\u001b[39m [11:56:32.928] Updating the variables for node deviance.  \n"
     ]
    },
    {
     "name": "stderr",
     "output_type": "stream",
     "text": [
      "Warning message in if (family == \"rs.poi\") eval(as.name(dstar), data) else dstar:\n",
      "\"the condition has length > 1 and only the first element will be used\"\n"
     ]
    },
    {
     "name": "stdout",
     "output_type": "stream",
     "text": [
      "\u001b[90mDEBUG\u001b[39m [11:56:32.945] Log for site 3: \n",
      "\u001b[90mDEBUG\u001b[39m [11:56:32.948] Running a (mere) regular container. \n",
      "Calling RPC_node_deviance \n",
      "\u001b[90mDEBUG\u001b[39m [11:56:32.936] Starting node deviance. \n",
      "\u001b[90mDEBUG\u001b[39m [11:56:32.942] Updating the variables for node deviance.  \n",
      "\u001b[90mDEBUG\u001b[39m [11:56:32.950]   - [DONE] \n",
      "INFO  [11:56:32.952] 2.4 - Master deviance \n",
      "\u001b[90mDEBUG\u001b[39m [11:56:32.955] Starting master deviance. \n",
      "\u001b[90mDEBUG\u001b[39m [11:56:32.957]   - [DONE] \n",
      "INFO  [11:56:32.960] 2.5 - Termination conditions \n",
      "\u001b[90mDEBUG\u001b[39m [11:56:32.962]   - [DONE] \n",
      "INFO  [11:56:32.967]  \n",
      "INFO  [11:56:32.970] ############################################### \n",
      "INFO  [11:56:32.973] # Starting iteration 3 \n",
      "INFO  [11:56:32.975] ############################################### \n",
      "INFO  [11:56:32.978]  \n",
      "INFO  [11:56:32.980] 3.1 - RPC Node Beta \n",
      "\u001b[90mDEBUG\u001b[39m [11:56:32.982] ** Mocking call to \"node_beta\" ** \n",
      "\u001b[90mDEBUG\u001b[39m [11:56:32.985] Regular call \n",
      "\u001b[90mDEBUG\u001b[39m [11:56:32.988] there are 3 datasets ..  \n"
     ]
    },
    {
     "name": "stderr",
     "output_type": "stream",
     "text": [
      "Warning message in if (family == \"rs.poi\") eval(as.name(dstar), data) else dstar:\n",
      "\"the condition has length > 1 and only the first element will be used\"\n"
     ]
    },
    {
     "name": "stdout",
     "output_type": "stream",
     "text": [
      "\u001b[90mDEBUG\u001b[39m [11:56:32.999] Log for site 1: \n",
      "\u001b[90mDEBUG\u001b[39m [11:56:33.002] Running a (mere) regular container. \n",
      "Calling RPC_node_beta \n",
      "\u001b[90mDEBUG\u001b[39m [11:56:32.990] Initializing node beta... \n",
      "\u001b[90mDEBUG\u001b[39m [11:56:32.996] Calculating the Betas.  \n"
     ]
    },
    {
     "name": "stderr",
     "output_type": "stream",
     "text": [
      "Warning message in if (family == \"rs.poi\") eval(as.name(dstar), data) else dstar:\n",
      "\"the condition has length > 1 and only the first element will be used\"\n"
     ]
    },
    {
     "name": "stdout",
     "output_type": "stream",
     "text": [
      "\u001b[90mDEBUG\u001b[39m [11:56:33.013] Log for site 2: \n",
      "\u001b[90mDEBUG\u001b[39m [11:56:33.016] Running a (mere) regular container. \n",
      "Calling RPC_node_beta \n",
      "\u001b[90mDEBUG\u001b[39m [11:56:33.004] Initializing node beta... \n",
      "\u001b[90mDEBUG\u001b[39m [11:56:33.011] Calculating the Betas.  \n"
     ]
    },
    {
     "name": "stderr",
     "output_type": "stream",
     "text": [
      "Warning message in if (family == \"rs.poi\") eval(as.name(dstar), data) else dstar:\n",
      "\"the condition has length > 1 and only the first element will be used\"\n"
     ]
    },
    {
     "name": "stdout",
     "output_type": "stream",
     "text": [
      "\u001b[90mDEBUG\u001b[39m [11:56:33.029] Log for site 3: \n",
      "\u001b[90mDEBUG\u001b[39m [11:56:33.031] Running a (mere) regular container. \n",
      "Calling RPC_node_beta \n",
      "\u001b[90mDEBUG\u001b[39m [11:56:33.019] Initializing node beta... \n",
      "\u001b[90mDEBUG\u001b[39m [11:56:33.026] Calculating the Betas.  \n",
      "\u001b[90mDEBUG\u001b[39m [11:56:33.033]   - [DONE] \n",
      "INFO  [11:56:33.036] 3.2 - Master beta \n",
      "\u001b[90mDEBUG\u001b[39m [11:56:33.038] Initializing master Beta... \n",
      "\u001b[90mDEBUG\u001b[39m [11:56:33.041] Merging node calculation to update new Betas. \n",
      "\u001b[90mDEBUG\u001b[39m [11:56:33.043] Updating the Betas. \n",
      "\u001b[90mDEBUG\u001b[39m [11:56:33.046]   - [DONE] \n",
      "INFO  [11:56:33.052] 3.3 - RPC Node Deviance \n",
      "\u001b[90mDEBUG\u001b[39m [11:56:33.055] ** Mocking call to \"node_deviance\" ** \n",
      "\u001b[90mDEBUG\u001b[39m [11:56:33.059] Regular call \n",
      "\u001b[90mDEBUG\u001b[39m [11:56:33.065] there are 3 datasets ..  \n"
     ]
    },
    {
     "name": "stderr",
     "output_type": "stream",
     "text": [
      "Warning message in if (family == \"rs.poi\") eval(as.name(dstar), data) else dstar:\n",
      "\"the condition has length > 1 and only the first element will be used\"\n"
     ]
    },
    {
     "name": "stdout",
     "output_type": "stream",
     "text": [
      "\u001b[90mDEBUG\u001b[39m [11:56:33.079] Log for site 1: \n",
      "\u001b[90mDEBUG\u001b[39m [11:56:33.084] Running a (mere) regular container. \n",
      "Calling RPC_node_deviance \n",
      "\u001b[90mDEBUG\u001b[39m [11:56:33.068] Starting node deviance. \n",
      "\u001b[90mDEBUG\u001b[39m [11:56:33.076] Updating the variables for node deviance.  \n"
     ]
    },
    {
     "name": "stderr",
     "output_type": "stream",
     "text": [
      "Warning message in if (family == \"rs.poi\") eval(as.name(dstar), data) else dstar:\n",
      "\"the condition has length > 1 and only the first element will be used\"\n"
     ]
    },
    {
     "name": "stdout",
     "output_type": "stream",
     "text": [
      "\u001b[90mDEBUG\u001b[39m [11:56:33.104] Log for site 2: \n",
      "\u001b[90mDEBUG\u001b[39m [11:56:33.109] Running a (mere) regular container. \n",
      "Calling RPC_node_deviance \n",
      "\u001b[90mDEBUG\u001b[39m [11:56:33.087] Starting node deviance. \n",
      "\u001b[90mDEBUG\u001b[39m [11:56:33.097] Updating the variables for node deviance.  \n"
     ]
    },
    {
     "name": "stderr",
     "output_type": "stream",
     "text": [
      "Warning message in if (family == \"rs.poi\") eval(as.name(dstar), data) else dstar:\n",
      "\"the condition has length > 1 and only the first element will be used\"\n"
     ]
    },
    {
     "name": "stdout",
     "output_type": "stream",
     "text": [
      "\u001b[90mDEBUG\u001b[39m [11:56:33.123] Log for site 3: \n",
      "\u001b[90mDEBUG\u001b[39m [11:56:33.127] Running a (mere) regular container. \n",
      "Calling RPC_node_deviance \n",
      "\u001b[90mDEBUG\u001b[39m [11:56:33.113] Starting node deviance. \n",
      "\u001b[90mDEBUG\u001b[39m [11:56:33.120] Updating the variables for node deviance.  \n",
      "\u001b[90mDEBUG\u001b[39m [11:56:33.130]   - [DONE] \n",
      "INFO  [11:56:33.133] 3.4 - Master deviance \n",
      "\u001b[90mDEBUG\u001b[39m [11:56:33.137] Starting master deviance. \n",
      "\u001b[90mDEBUG\u001b[39m [11:56:33.139]   - [DONE] \n",
      "INFO  [11:56:33.143] 3.5 - Termination conditions \n",
      "\u001b[90mDEBUG\u001b[39m [11:56:33.150]   - [DONE] \n",
      "INFO  [11:56:33.156]  \n",
      "INFO  [11:56:33.161] ############################################### \n",
      "INFO  [11:56:33.164] # Starting iteration 4 \n",
      "INFO  [11:56:33.166] ############################################### \n",
      "INFO  [11:56:33.169]  \n",
      "INFO  [11:56:33.172] 4.1 - RPC Node Beta \n",
      "\u001b[90mDEBUG\u001b[39m [11:56:33.179] ** Mocking call to \"node_beta\" ** \n",
      "\u001b[90mDEBUG\u001b[39m [11:56:33.182] Regular call \n",
      "\u001b[90mDEBUG\u001b[39m [11:56:33.187] there are 3 datasets ..  \n"
     ]
    },
    {
     "name": "stderr",
     "output_type": "stream",
     "text": [
      "Warning message in if (family == \"rs.poi\") eval(as.name(dstar), data) else dstar:\n",
      "\"the condition has length > 1 and only the first element will be used\"\n"
     ]
    },
    {
     "name": "stdout",
     "output_type": "stream",
     "text": [
      "\u001b[90mDEBUG\u001b[39m [11:56:33.204] Log for site 1: \n",
      "\u001b[90mDEBUG\u001b[39m [11:56:33.207] Running a (mere) regular container. \n",
      "Calling RPC_node_beta \n",
      "\u001b[90mDEBUG\u001b[39m [11:56:33.191] Initializing node beta... \n",
      "\u001b[90mDEBUG\u001b[39m [11:56:33.199] Calculating the Betas.  \n"
     ]
    },
    {
     "name": "stderr",
     "output_type": "stream",
     "text": [
      "Warning message in if (family == \"rs.poi\") eval(as.name(dstar), data) else dstar:\n",
      "\"the condition has length > 1 and only the first element will be used\"\n"
     ]
    },
    {
     "name": "stdout",
     "output_type": "stream",
     "text": [
      "\u001b[90mDEBUG\u001b[39m [11:56:33.220] Log for site 2: \n",
      "\u001b[90mDEBUG\u001b[39m [11:56:33.222] Running a (mere) regular container. \n",
      "Calling RPC_node_beta \n",
      "\u001b[90mDEBUG\u001b[39m [11:56:33.210] Initializing node beta... \n",
      "\u001b[90mDEBUG\u001b[39m [11:56:33.217] Calculating the Betas.  \n"
     ]
    },
    {
     "name": "stderr",
     "output_type": "stream",
     "text": [
      "Warning message in if (family == \"rs.poi\") eval(as.name(dstar), data) else dstar:\n",
      "\"the condition has length > 1 and only the first element will be used\"\n"
     ]
    },
    {
     "name": "stdout",
     "output_type": "stream",
     "text": [
      "\u001b[90mDEBUG\u001b[39m [11:56:33.235] Log for site 3: \n",
      "\u001b[90mDEBUG\u001b[39m [11:56:33.238] Running a (mere) regular container. \n",
      "Calling RPC_node_beta \n",
      "\u001b[90mDEBUG\u001b[39m [11:56:33.224] Initializing node beta... \n",
      "\u001b[90mDEBUG\u001b[39m [11:56:33.231] Calculating the Betas.  \n",
      "\u001b[90mDEBUG\u001b[39m [11:56:33.240]   - [DONE] \n",
      "INFO  [11:56:33.243] 4.2 - Master beta \n",
      "\u001b[90mDEBUG\u001b[39m [11:56:33.246] Initializing master Beta... \n",
      "\u001b[90mDEBUG\u001b[39m [11:56:33.248] Merging node calculation to update new Betas. \n",
      "\u001b[90mDEBUG\u001b[39m [11:56:33.250] Updating the Betas. \n",
      "\u001b[90mDEBUG\u001b[39m [11:56:33.253]   - [DONE] \n",
      "INFO  [11:56:33.255] 4.3 - RPC Node Deviance \n",
      "\u001b[90mDEBUG\u001b[39m [11:56:33.258] ** Mocking call to \"node_deviance\" ** \n",
      "\u001b[90mDEBUG\u001b[39m [11:56:33.261] Regular call \n",
      "\u001b[90mDEBUG\u001b[39m [11:56:33.264] there are 3 datasets ..  \n"
     ]
    },
    {
     "name": "stderr",
     "output_type": "stream",
     "text": [
      "Warning message in if (family == \"rs.poi\") eval(as.name(dstar), data) else dstar:\n",
      "\"the condition has length > 1 and only the first element will be used\"\n"
     ]
    },
    {
     "name": "stdout",
     "output_type": "stream",
     "text": [
      "\u001b[90mDEBUG\u001b[39m [11:56:33.281] Log for site 1: \n",
      "\u001b[90mDEBUG\u001b[39m [11:56:33.284] Running a (mere) regular container. \n",
      "Calling RPC_node_deviance \n",
      "\u001b[90mDEBUG\u001b[39m [11:56:33.267] Starting node deviance. \n",
      "\u001b[90mDEBUG\u001b[39m [11:56:33.279] Updating the variables for node deviance.  \n"
     ]
    },
    {
     "name": "stderr",
     "output_type": "stream",
     "text": [
      "Warning message in if (family == \"rs.poi\") eval(as.name(dstar), data) else dstar:\n",
      "\"the condition has length > 1 and only the first element will be used\"\n"
     ]
    },
    {
     "name": "stdout",
     "output_type": "stream",
     "text": [
      "\u001b[90mDEBUG\u001b[39m [11:56:33.295] Log for site 2: \n",
      "\u001b[90mDEBUG\u001b[39m [11:56:33.298] Running a (mere) regular container. \n",
      "Calling RPC_node_deviance \n",
      "\u001b[90mDEBUG\u001b[39m [11:56:33.286] Starting node deviance. \n",
      "\u001b[90mDEBUG\u001b[39m [11:56:33.292] Updating the variables for node deviance.  \n"
     ]
    },
    {
     "name": "stderr",
     "output_type": "stream",
     "text": [
      "Warning message in if (family == \"rs.poi\") eval(as.name(dstar), data) else dstar:\n",
      "\"the condition has length > 1 and only the first element will be used\"\n"
     ]
    },
    {
     "name": "stdout",
     "output_type": "stream",
     "text": [
      "\u001b[90mDEBUG\u001b[39m [11:56:33.311] Log for site 3: \n",
      "\u001b[90mDEBUG\u001b[39m [11:56:33.314] Running a (mere) regular container. \n",
      "Calling RPC_node_deviance \n",
      "\u001b[90mDEBUG\u001b[39m [11:56:33.301] Starting node deviance. \n",
      "\u001b[90mDEBUG\u001b[39m [11:56:33.308] Updating the variables for node deviance.  \n",
      "\u001b[90mDEBUG\u001b[39m [11:56:33.316]   - [DONE] \n",
      "INFO  [11:56:33.319] 4.4 - Master deviance \n",
      "\u001b[90mDEBUG\u001b[39m [11:56:33.321] Starting master deviance. \n",
      "\u001b[90mDEBUG\u001b[39m [11:56:33.323]   - [DONE] \n",
      "INFO  [11:56:33.327] 4.5 - Termination conditions \n",
      "\u001b[90mDEBUG\u001b[39m [11:56:33.330]   - [CONVERGED] \n",
      "\u001b[90mDEBUG\u001b[39m [11:56:33.333] Preparing output \n"
     ]
    }
   ],
   "source": [
    "client <- vtg::MockClient$new(datasets, \"vtg.glm\")\n",
    "results_federated_plain <- vtg.glm::dglm(client, formula = y ~ x1 + x2, family=poisson(link = \"log\"), tol=1e-08, maxit=25)"
   ]
  },
  {
   "cell_type": "markdown",
   "id": "0e93dd6e",
   "metadata": {},
   "source": [
    "#### Comparison"
   ]
  },
  {
   "cell_type": "code",
   "execution_count": 11,
   "id": "fa3ccef3",
   "metadata": {
    "scrolled": false
   },
   "outputs": [
    {
     "name": "stdout",
     "output_type": "stream",
     "text": [
      "[1] \"LaTeX\"\n",
      "\n",
      "% Table created by stargazer v.5.2.3 by Marek Hlavac, Social Policy Institute. E-mail: marek.hlavac at gmail.com\n",
      "% Date and time: Thu, May 05, 2022 - 11:56:33\n",
      "\\begin{table}[!htbp] \\centering \n",
      "  \\caption{} \n",
      "  \\label{} \n",
      "\\begin{tabular}{@{\\extracolsep{5pt}} ccccccccc} \n",
      "\\\\[-1.8ex]\\hline \n",
      "\\hline \\\\[-1.8ex] \n",
      " & coeff\\_c & coeff\\_f & stderr\\_c & stderr\\_f & pvalues\\_c & pvalues\\_f & zvalues\\_c & zvalues\\_f \\\\ \n",
      "\\hline \\\\[-1.8ex] \n",
      "(Intercept) & $0.595$ & $0.595$ & $0.021$ & $0.021$ & $0$ & $0$ & $28.465$ & $28.465$ \\\\ \n",
      "x1 & $0.269$ & $0.269$ & $0.007$ & $0.007$ & $0$ & $0$ & $37.220$ & $37.220$ \\\\ \n",
      "x2 & $0.446$ & $0.446$ & $0.007$ & $0.007$ & $0$ & $0$ & $62.566$ & $62.566$ \\\\ \n",
      "\\hline \\\\[-1.8ex] \n",
      "\\end{tabular} \n",
      "\\end{table} \n",
      "[1] \"Text\"\n",
      "\n",
      "=====================================================================================\n",
      "            coeff_c coeff_f stderr_c stderr_f pvalues_c pvalues_f zvalues_c zvalues_f\n",
      "-------------------------------------------------------------------------------------\n",
      "(Intercept)  0.595   0.595   0.021    0.021       0         0      28.465    28.465  \n",
      "x1           0.269   0.269   0.007    0.007       0         0      37.220    37.220  \n",
      "x2           0.446   0.446   0.007    0.007       0         0      62.566    62.566  \n",
      "-------------------------------------------------------------------------------------\n",
      "$converged\n",
      "[1] TRUE\n",
      "\n",
      "$converged\n",
      "[1] TRUE\n",
      "\n",
      "$dispersion\n",
      "[1] TRUE\n",
      "\n",
      "$formula\n",
      "[1] TRUE\n",
      "\n",
      "$family\n",
      "[1] TRUE\n",
      "\n",
      "$null.deviance\n",
      "[1] TRUE\n",
      "\n",
      "$df.residual\n",
      "[1] TRUE\n",
      "\n",
      "$df.null\n",
      "[1] TRUE\n",
      "\n"
     ]
    }
   ],
   "source": [
    "val_poisson_res = validate(results_centralized, results_federated_plain)\n",
    "print(val_poisson_res)"
   ]
  },
  {
   "cell_type": "markdown",
   "id": "fa33f77f",
   "metadata": {},
   "source": [
    "### Logistic\n",
    "\n",
    "#### Centralized"
   ]
  },
  {
   "cell_type": "code",
   "execution_count": 6,
   "id": "c54b091e",
   "metadata": {},
   "outputs": [],
   "source": [
    "# Housekeeping\n",
    "if(exists('results_centralized')){\n",
    "    rm(results_centralized)\n",
    "}\n",
    "if(exists('results_federated_plain')){\n",
    "    rm(results_federated_plain)\n",
    "}\n",
    "\n",
    "datasets <- list(\n",
    "  read.csv('../data/logistic_party1.csv'),\n",
    "  read.csv('../data/logistic_party2.csv'),\n",
    "  read.csv('../data/logistic_party3.csv')\n",
    ")\n",
    "datasets_combined <- do.call(rbind.data.frame, datasets)\n",
    "results_centralized <- glm(data=datasets_combined, formula = y ~ x1 + x2, family=binomial(link = \"logit\"))"
   ]
  },
  {
   "cell_type": "markdown",
   "id": "c222f9f8",
   "metadata": {},
   "source": [
    "#### Federated"
   ]
  },
  {
   "cell_type": "code",
   "execution_count": 7,
   "id": "065f1f9f",
   "metadata": {},
   "outputs": [
    {
     "name": "stdout",
     "output_type": "stream",
     "text": [
      "\u001b[90mDEBUG\u001b[39m [11:56:31.097] Initializing... \n",
      "INFO  [11:56:31.100]  \n",
      "INFO  [11:56:31.102] ############################################### \n",
      "INFO  [11:56:31.104] # Starting iteration 0 \n",
      "INFO  [11:56:31.107] ############################################### \n",
      "INFO  [11:56:31.110]  \n",
      "INFO  [11:56:31.112] 0.1 - RPC Node Beta \n",
      "\u001b[90mDEBUG\u001b[39m [11:56:31.115] ** Mocking call to \"node_beta\" ** \n",
      "\u001b[90mDEBUG\u001b[39m [11:56:31.117] Regular call \n",
      "\u001b[90mDEBUG\u001b[39m [11:56:31.120] there are 3 datasets ..  \n"
     ]
    },
    {
     "name": "stderr",
     "output_type": "stream",
     "text": [
      "Warning message in if (family == \"rs.poi\") eval(as.name(dstar), data) else dstar:\n",
      "\"the condition has length > 1 and only the first element will be used\"\n"
     ]
    },
    {
     "name": "stdout",
     "output_type": "stream",
     "text": [
      "\u001b[90mDEBUG\u001b[39m [11:56:31.138] Log for site 1: \n",
      "\u001b[90mDEBUG\u001b[39m [11:56:31.141] Running a (mere) regular container. \n",
      "Calling RPC_node_beta \n",
      "\u001b[90mDEBUG\u001b[39m [11:56:31.126] Initializing node beta... \n",
      "\u001b[90mDEBUG\u001b[39m [11:56:31.133] First iteration. Initializing variables. \n",
      "\u001b[90mDEBUG\u001b[39m [11:56:31.135] Calculating the Betas.  \n"
     ]
    },
    {
     "name": "stderr",
     "output_type": "stream",
     "text": [
      "Warning message in if (family == \"rs.poi\") eval(as.name(dstar), data) else dstar:\n",
      "\"the condition has length > 1 and only the first element will be used\"\n"
     ]
    },
    {
     "name": "stdout",
     "output_type": "stream",
     "text": [
      "\u001b[90mDEBUG\u001b[39m [11:56:31.156] Log for site 2: \n",
      "\u001b[90mDEBUG\u001b[39m [11:56:31.158] Running a (mere) regular container. \n",
      "Calling RPC_node_beta \n",
      "\u001b[90mDEBUG\u001b[39m [11:56:31.144] Initializing node beta... \n",
      "\u001b[90mDEBUG\u001b[39m [11:56:31.150] First iteration. Initializing variables. \n",
      "\u001b[90mDEBUG\u001b[39m [11:56:31.153] Calculating the Betas.  \n"
     ]
    },
    {
     "name": "stderr",
     "output_type": "stream",
     "text": [
      "Warning message in if (family == \"rs.poi\") eval(as.name(dstar), data) else dstar:\n",
      "\"the condition has length > 1 and only the first element will be used\"\n"
     ]
    },
    {
     "name": "stdout",
     "output_type": "stream",
     "text": [
      "\u001b[90mDEBUG\u001b[39m [11:56:31.183] Log for site 3: \n",
      "\u001b[90mDEBUG\u001b[39m [11:56:31.188] Running a (mere) regular container. \n",
      "Calling RPC_node_beta \n",
      "\u001b[90mDEBUG\u001b[39m [11:56:31.161] Initializing node beta... \n",
      "\u001b[90mDEBUG\u001b[39m [11:56:31.168] First iteration. Initializing variables. \n",
      "\u001b[90mDEBUG\u001b[39m [11:56:31.170] Calculating the Betas.  \n",
      "\u001b[90mDEBUG\u001b[39m [11:56:31.192]   - [DONE] \n",
      "INFO  [11:56:31.195] 0.2 - Master beta \n",
      "\u001b[90mDEBUG\u001b[39m [11:56:31.199] Initializing master Beta... \n",
      "\u001b[90mDEBUG\u001b[39m [11:56:31.202] Merging node calculation to update new Betas. \n",
      "\u001b[90mDEBUG\u001b[39m [11:56:31.205] Updating the Betas. \n",
      "\u001b[90mDEBUG\u001b[39m [11:56:31.208]   - [DONE] \n",
      "INFO  [11:56:31.211] 0.3 - RPC Node Deviance \n",
      "\u001b[90mDEBUG\u001b[39m [11:56:31.213] ** Mocking call to \"node_deviance\" ** \n",
      "\u001b[90mDEBUG\u001b[39m [11:56:31.216] Regular call \n",
      "\u001b[90mDEBUG\u001b[39m [11:56:31.218] there are 3 datasets ..  \n"
     ]
    },
    {
     "name": "stderr",
     "output_type": "stream",
     "text": [
      "Warning message in if (family == \"rs.poi\") eval(as.name(dstar), data) else dstar:\n",
      "\"the condition has length > 1 and only the first element will be used\"\n"
     ]
    },
    {
     "name": "stdout",
     "output_type": "stream",
     "text": [
      "\u001b[90mDEBUG\u001b[39m [11:56:31.237] Log for site 1: \n",
      "\u001b[90mDEBUG\u001b[39m [11:56:31.240] Running a (mere) regular container. \n",
      "Calling RPC_node_deviance \n",
      "\u001b[90mDEBUG\u001b[39m [11:56:31.221] Starting node deviance. \n",
      "\u001b[90mDEBUG\u001b[39m [11:56:31.232] First iteration. Initializing variables. \n",
      "\u001b[90mDEBUG\u001b[39m [11:56:31.235] Updating the variables for node deviance.  \n"
     ]
    },
    {
     "name": "stderr",
     "output_type": "stream",
     "text": [
      "Warning message in if (family == \"rs.poi\") eval(as.name(dstar), data) else dstar:\n",
      "\"the condition has length > 1 and only the first element will be used\"\n"
     ]
    },
    {
     "name": "stdout",
     "output_type": "stream",
     "text": [
      "\u001b[90mDEBUG\u001b[39m [11:56:31.253] Log for site 2: \n",
      "\u001b[90mDEBUG\u001b[39m [11:56:31.256] Running a (mere) regular container. \n",
      "Calling RPC_node_deviance \n",
      "\u001b[90mDEBUG\u001b[39m [11:56:31.242] Starting node deviance. \n",
      "\u001b[90mDEBUG\u001b[39m [11:56:31.248] First iteration. Initializing variables. \n",
      "\u001b[90mDEBUG\u001b[39m [11:56:31.251] Updating the variables for node deviance.  \n"
     ]
    },
    {
     "name": "stderr",
     "output_type": "stream",
     "text": [
      "Warning message in if (family == \"rs.poi\") eval(as.name(dstar), data) else dstar:\n",
      "\"the condition has length > 1 and only the first element will be used\"\n"
     ]
    },
    {
     "name": "stdout",
     "output_type": "stream",
     "text": [
      "\u001b[90mDEBUG\u001b[39m [11:56:31.271] Log for site 3: \n",
      "\u001b[90mDEBUG\u001b[39m [11:56:31.274] Running a (mere) regular container. \n",
      "Calling RPC_node_deviance \n",
      "\u001b[90mDEBUG\u001b[39m [11:56:31.258] Starting node deviance. \n",
      "\u001b[90mDEBUG\u001b[39m [11:56:31.265] First iteration. Initializing variables. \n",
      "\u001b[90mDEBUG\u001b[39m [11:56:31.268] Updating the variables for node deviance.  \n",
      "\u001b[90mDEBUG\u001b[39m [11:56:31.277]   - [DONE] \n",
      "INFO  [11:56:31.279] 0.4 - Master deviance \n",
      "\u001b[90mDEBUG\u001b[39m [11:56:31.282] Starting master deviance. \n",
      "\u001b[90mDEBUG\u001b[39m [11:56:31.284]   - [DONE] \n",
      "INFO  [11:56:31.287] 0.5 - Termination conditions \n",
      "\u001b[90mDEBUG\u001b[39m [11:56:31.289]   - [DONE] \n",
      "INFO  [11:56:31.291]  \n",
      "INFO  [11:56:31.294] ############################################### \n",
      "INFO  [11:56:31.297] # Starting iteration 1 \n",
      "INFO  [11:56:31.299] ############################################### \n",
      "INFO  [11:56:31.302]  \n",
      "INFO  [11:56:31.304] 1.1 - RPC Node Beta \n",
      "\u001b[90mDEBUG\u001b[39m [11:56:31.307] ** Mocking call to \"node_beta\" ** \n",
      "\u001b[90mDEBUG\u001b[39m [11:56:31.310] Regular call \n",
      "\u001b[90mDEBUG\u001b[39m [11:56:31.313] there are 3 datasets ..  \n"
     ]
    },
    {
     "name": "stderr",
     "output_type": "stream",
     "text": [
      "Warning message in if (family == \"rs.poi\") eval(as.name(dstar), data) else dstar:\n",
      "\"the condition has length > 1 and only the first element will be used\"\n"
     ]
    },
    {
     "name": "stdout",
     "output_type": "stream",
     "text": [
      "\u001b[90mDEBUG\u001b[39m [11:56:31.329] Log for site 1: \n",
      "\u001b[90mDEBUG\u001b[39m [11:56:31.332] Running a (mere) regular container. \n",
      "Calling RPC_node_beta \n",
      "\u001b[90mDEBUG\u001b[39m [11:56:31.316] Initializing node beta... \n",
      "\u001b[90mDEBUG\u001b[39m [11:56:31.325] Calculating the Betas.  \n"
     ]
    },
    {
     "name": "stderr",
     "output_type": "stream",
     "text": [
      "Warning message in if (family == \"rs.poi\") eval(as.name(dstar), data) else dstar:\n",
      "\"the condition has length > 1 and only the first element will be used\"\n"
     ]
    },
    {
     "name": "stdout",
     "output_type": "stream",
     "text": [
      "\u001b[90mDEBUG\u001b[39m [11:56:31.344] Log for site 2: \n",
      "\u001b[90mDEBUG\u001b[39m [11:56:31.347] Running a (mere) regular container. \n",
      "Calling RPC_node_beta \n",
      "\u001b[90mDEBUG\u001b[39m [11:56:31.334] Initializing node beta... \n",
      "\u001b[90mDEBUG\u001b[39m [11:56:31.340] Calculating the Betas.  \n"
     ]
    },
    {
     "name": "stderr",
     "output_type": "stream",
     "text": [
      "Warning message in if (family == \"rs.poi\") eval(as.name(dstar), data) else dstar:\n",
      "\"the condition has length > 1 and only the first element will be used\"\n"
     ]
    },
    {
     "name": "stdout",
     "output_type": "stream",
     "text": [
      "\u001b[90mDEBUG\u001b[39m [11:56:31.360] Log for site 3: \n",
      "\u001b[90mDEBUG\u001b[39m [11:56:31.363] Running a (mere) regular container. \n",
      "Calling RPC_node_beta \n",
      "\u001b[90mDEBUG\u001b[39m [11:56:31.350] Initializing node beta... \n",
      "\u001b[90mDEBUG\u001b[39m [11:56:31.356] Calculating the Betas.  \n",
      "\u001b[90mDEBUG\u001b[39m [11:56:31.366]   - [DONE] \n",
      "INFO  [11:56:31.367] 1.2 - Master beta \n",
      "\u001b[90mDEBUG\u001b[39m [11:56:31.370] Initializing master Beta... \n",
      "\u001b[90mDEBUG\u001b[39m [11:56:31.372] Merging node calculation to update new Betas. \n",
      "\u001b[90mDEBUG\u001b[39m [11:56:31.374] Updating the Betas. \n",
      "\u001b[90mDEBUG\u001b[39m [11:56:31.377]   - [DONE] \n",
      "INFO  [11:56:31.380] 1.3 - RPC Node Deviance \n",
      "\u001b[90mDEBUG\u001b[39m [11:56:31.383] ** Mocking call to \"node_deviance\" ** \n",
      "\u001b[90mDEBUG\u001b[39m [11:56:31.386] Regular call \n",
      "\u001b[90mDEBUG\u001b[39m [11:56:31.391] there are 3 datasets ..  \n"
     ]
    },
    {
     "name": "stderr",
     "output_type": "stream",
     "text": [
      "Warning message in if (family == \"rs.poi\") eval(as.name(dstar), data) else dstar:\n",
      "\"the condition has length > 1 and only the first element will be used\"\n"
     ]
    },
    {
     "name": "stdout",
     "output_type": "stream",
     "text": [
      "\u001b[90mDEBUG\u001b[39m [11:56:31.406] Log for site 1: \n",
      "\u001b[90mDEBUG\u001b[39m [11:56:31.409] Running a (mere) regular container. \n",
      "Calling RPC_node_deviance \n",
      "\u001b[90mDEBUG\u001b[39m [11:56:31.395] Starting node deviance. \n",
      "\u001b[90mDEBUG\u001b[39m [11:56:31.403] Updating the variables for node deviance.  \n"
     ]
    },
    {
     "name": "stderr",
     "output_type": "stream",
     "text": [
      "Warning message in if (family == \"rs.poi\") eval(as.name(dstar), data) else dstar:\n",
      "\"the condition has length > 1 and only the first element will be used\"\n"
     ]
    },
    {
     "name": "stdout",
     "output_type": "stream",
     "text": [
      "\u001b[90mDEBUG\u001b[39m [11:56:31.426] Log for site 2: \n",
      "\u001b[90mDEBUG\u001b[39m [11:56:31.428] Running a (mere) regular container. \n",
      "Calling RPC_node_deviance \n",
      "\u001b[90mDEBUG\u001b[39m [11:56:31.414] Starting node deviance. \n",
      "\u001b[90mDEBUG\u001b[39m [11:56:31.422] Updating the variables for node deviance.  \n"
     ]
    },
    {
     "name": "stderr",
     "output_type": "stream",
     "text": [
      "Warning message in if (family == \"rs.poi\") eval(as.name(dstar), data) else dstar:\n",
      "\"the condition has length > 1 and only the first element will be used\"\n"
     ]
    },
    {
     "name": "stdout",
     "output_type": "stream",
     "text": [
      "\u001b[90mDEBUG\u001b[39m [11:56:31.439] Log for site 3: \n",
      "\u001b[90mDEBUG\u001b[39m [11:56:31.441] Running a (mere) regular container. \n",
      "Calling RPC_node_deviance \n",
      "\u001b[90mDEBUG\u001b[39m [11:56:31.430] Starting node deviance. \n",
      "\u001b[90mDEBUG\u001b[39m [11:56:31.436] Updating the variables for node deviance.  \n",
      "\u001b[90mDEBUG\u001b[39m [11:56:31.444]   - [DONE] \n",
      "INFO  [11:56:31.446] 1.4 - Master deviance \n",
      "\u001b[90mDEBUG\u001b[39m [11:56:31.449] Starting master deviance. \n",
      "\u001b[90mDEBUG\u001b[39m [11:56:31.452]   - [DONE] \n",
      "INFO  [11:56:31.454] 1.5 - Termination conditions \n",
      "\u001b[90mDEBUG\u001b[39m [11:56:31.456]   - [DONE] \n",
      "INFO  [11:56:31.459]  \n",
      "INFO  [11:56:31.462] ############################################### \n",
      "INFO  [11:56:31.464] # Starting iteration 2 \n",
      "INFO  [11:56:31.468] ############################################### \n",
      "INFO  [11:56:31.472]  \n",
      "INFO  [11:56:31.478] 2.1 - RPC Node Beta \n",
      "\u001b[90mDEBUG\u001b[39m [11:56:31.483] ** Mocking call to \"node_beta\" ** \n",
      "\u001b[90mDEBUG\u001b[39m [11:56:31.488] Regular call \n",
      "\u001b[90mDEBUG\u001b[39m [11:56:31.492] there are 3 datasets ..  \n"
     ]
    },
    {
     "name": "stderr",
     "output_type": "stream",
     "text": [
      "Warning message in if (family == \"rs.poi\") eval(as.name(dstar), data) else dstar:\n",
      "\"the condition has length > 1 and only the first element will be used\"\n"
     ]
    },
    {
     "name": "stdout",
     "output_type": "stream",
     "text": [
      "\u001b[90mDEBUG\u001b[39m [11:56:31.509] Log for site 1: \n",
      "\u001b[90mDEBUG\u001b[39m [11:56:31.513] Running a (mere) regular container. \n",
      "Calling RPC_node_beta \n",
      "\u001b[90mDEBUG\u001b[39m [11:56:31.498] Initializing node beta... \n",
      "\u001b[90mDEBUG\u001b[39m [11:56:31.505] Calculating the Betas.  \n"
     ]
    },
    {
     "name": "stderr",
     "output_type": "stream",
     "text": [
      "Warning message in if (family == \"rs.poi\") eval(as.name(dstar), data) else dstar:\n",
      "\"the condition has length > 1 and only the first element will be used\"\n"
     ]
    },
    {
     "name": "stdout",
     "output_type": "stream",
     "text": [
      "\u001b[90mDEBUG\u001b[39m [11:56:31.545] Log for site 2: \n",
      "\u001b[90mDEBUG\u001b[39m [11:56:31.550] Running a (mere) regular container. \n",
      "Calling RPC_node_beta \n",
      "\u001b[90mDEBUG\u001b[39m [11:56:31.516] Initializing node beta... \n",
      "\u001b[90mDEBUG\u001b[39m [11:56:31.541] Calculating the Betas.  \n"
     ]
    },
    {
     "name": "stderr",
     "output_type": "stream",
     "text": [
      "Warning message in if (family == \"rs.poi\") eval(as.name(dstar), data) else dstar:\n",
      "\"the condition has length > 1 and only the first element will be used\"\n"
     ]
    },
    {
     "name": "stdout",
     "output_type": "stream",
     "text": [
      "\u001b[90mDEBUG\u001b[39m [11:56:31.566] Log for site 3: \n",
      "\u001b[90mDEBUG\u001b[39m [11:56:31.569] Running a (mere) regular container. \n",
      "Calling RPC_node_beta \n",
      "\u001b[90mDEBUG\u001b[39m [11:56:31.553] Initializing node beta... \n",
      "\u001b[90mDEBUG\u001b[39m [11:56:31.562] Calculating the Betas.  \n",
      "\u001b[90mDEBUG\u001b[39m [11:56:31.571]   - [DONE] \n",
      "INFO  [11:56:31.575] 2.2 - Master beta \n",
      "\u001b[90mDEBUG\u001b[39m [11:56:31.578] Initializing master Beta... \n",
      "\u001b[90mDEBUG\u001b[39m [11:56:31.585] Merging node calculation to update new Betas. \n",
      "\u001b[90mDEBUG\u001b[39m [11:56:31.591] Updating the Betas. \n",
      "\u001b[90mDEBUG\u001b[39m [11:56:31.595]   - [DONE] \n",
      "INFO  [11:56:31.601] 2.3 - RPC Node Deviance \n",
      "\u001b[90mDEBUG\u001b[39m [11:56:31.606] ** Mocking call to \"node_deviance\" ** \n",
      "\u001b[90mDEBUG\u001b[39m [11:56:31.613] Regular call \n",
      "\u001b[90mDEBUG\u001b[39m [11:56:31.620] there are 3 datasets ..  \n"
     ]
    },
    {
     "name": "stderr",
     "output_type": "stream",
     "text": [
      "Warning message in if (family == \"rs.poi\") eval(as.name(dstar), data) else dstar:\n",
      "\"the condition has length > 1 and only the first element will be used\"\n"
     ]
    },
    {
     "name": "stdout",
     "output_type": "stream",
     "text": [
      "\u001b[90mDEBUG\u001b[39m [11:56:31.636] Log for site 1: \n",
      "\u001b[90mDEBUG\u001b[39m [11:56:31.639] Running a (mere) regular container. \n",
      "Calling RPC_node_deviance \n",
      "\u001b[90mDEBUG\u001b[39m [11:56:31.625] Starting node deviance. \n",
      "\u001b[90mDEBUG\u001b[39m [11:56:31.632] Updating the variables for node deviance.  \n"
     ]
    },
    {
     "name": "stderr",
     "output_type": "stream",
     "text": [
      "Warning message in if (family == \"rs.poi\") eval(as.name(dstar), data) else dstar:\n",
      "\"the condition has length > 1 and only the first element will be used\"\n"
     ]
    },
    {
     "name": "stdout",
     "output_type": "stream",
     "text": [
      "\u001b[90mDEBUG\u001b[39m [11:56:31.652] Log for site 2: \n",
      "\u001b[90mDEBUG\u001b[39m [11:56:31.654] Running a (mere) regular container. \n",
      "Calling RPC_node_deviance \n",
      "\u001b[90mDEBUG\u001b[39m [11:56:31.642] Starting node deviance. \n",
      "\u001b[90mDEBUG\u001b[39m [11:56:31.649] Updating the variables for node deviance.  \n"
     ]
    },
    {
     "name": "stderr",
     "output_type": "stream",
     "text": [
      "Warning message in if (family == \"rs.poi\") eval(as.name(dstar), data) else dstar:\n",
      "\"the condition has length > 1 and only the first element will be used\"\n"
     ]
    },
    {
     "name": "stdout",
     "output_type": "stream",
     "text": [
      "\u001b[90mDEBUG\u001b[39m [11:56:31.670] Log for site 3: \n",
      "\u001b[90mDEBUG\u001b[39m [11:56:31.672] Running a (mere) regular container. \n",
      "Calling RPC_node_deviance \n",
      "\u001b[90mDEBUG\u001b[39m [11:56:31.658] Starting node deviance. \n",
      "\u001b[90mDEBUG\u001b[39m [11:56:31.667] Updating the variables for node deviance.  \n",
      "\u001b[90mDEBUG\u001b[39m [11:56:31.675]   - [DONE] \n",
      "INFO  [11:56:31.678] 2.4 - Master deviance \n",
      "\u001b[90mDEBUG\u001b[39m [11:56:31.681] Starting master deviance. \n",
      "\u001b[90mDEBUG\u001b[39m [11:56:31.683]   - [DONE] \n",
      "INFO  [11:56:31.686] 2.5 - Termination conditions \n",
      "\u001b[90mDEBUG\u001b[39m [11:56:31.688]   - [DONE] \n",
      "INFO  [11:56:31.691]  \n",
      "INFO  [11:56:31.693] ############################################### \n",
      "INFO  [11:56:31.696] # Starting iteration 3 \n",
      "INFO  [11:56:31.699] ############################################### \n",
      "INFO  [11:56:31.701]  \n",
      "INFO  [11:56:31.703] 3.1 - RPC Node Beta \n",
      "\u001b[90mDEBUG\u001b[39m [11:56:31.707] ** Mocking call to \"node_beta\" ** \n",
      "\u001b[90mDEBUG\u001b[39m [11:56:31.710] Regular call \n",
      "\u001b[90mDEBUG\u001b[39m [11:56:31.713] there are 3 datasets ..  \n"
     ]
    },
    {
     "name": "stderr",
     "output_type": "stream",
     "text": [
      "Warning message in if (family == \"rs.poi\") eval(as.name(dstar), data) else dstar:\n",
      "\"the condition has length > 1 and only the first element will be used\"\n"
     ]
    },
    {
     "name": "stdout",
     "output_type": "stream",
     "text": [
      "\u001b[90mDEBUG\u001b[39m [11:56:31.723] Log for site 1: \n",
      "\u001b[90mDEBUG\u001b[39m [11:56:31.726] Running a (mere) regular container. \n",
      "Calling RPC_node_beta \n",
      "\u001b[90mDEBUG\u001b[39m [11:56:31.715] Initializing node beta... \n",
      "\u001b[90mDEBUG\u001b[39m [11:56:31.720] Calculating the Betas.  \n"
     ]
    },
    {
     "name": "stderr",
     "output_type": "stream",
     "text": [
      "Warning message in if (family == \"rs.poi\") eval(as.name(dstar), data) else dstar:\n",
      "\"the condition has length > 1 and only the first element will be used\"\n"
     ]
    },
    {
     "name": "stdout",
     "output_type": "stream",
     "text": [
      "\u001b[90mDEBUG\u001b[39m [11:56:31.742] Log for site 2: \n",
      "\u001b[90mDEBUG\u001b[39m [11:56:31.744] Running a (mere) regular container. \n",
      "Calling RPC_node_beta \n",
      "\u001b[90mDEBUG\u001b[39m [11:56:31.730] Initializing node beta... \n",
      "\u001b[90mDEBUG\u001b[39m [11:56:31.738] Calculating the Betas.  \n"
     ]
    },
    {
     "name": "stderr",
     "output_type": "stream",
     "text": [
      "Warning message in if (family == \"rs.poi\") eval(as.name(dstar), data) else dstar:\n",
      "\"the condition has length > 1 and only the first element will be used\"\n"
     ]
    },
    {
     "name": "stdout",
     "output_type": "stream",
     "text": [
      "\u001b[90mDEBUG\u001b[39m [11:56:31.761] Log for site 3: \n",
      "\u001b[90mDEBUG\u001b[39m [11:56:31.764] Running a (mere) regular container. \n",
      "Calling RPC_node_beta \n",
      "\u001b[90mDEBUG\u001b[39m [11:56:31.747] Initializing node beta... \n",
      "\u001b[90mDEBUG\u001b[39m [11:56:31.757] Calculating the Betas.  \n",
      "\u001b[90mDEBUG\u001b[39m [11:56:31.767]   - [DONE] \n",
      "INFO  [11:56:31.770] 3.2 - Master beta \n",
      "\u001b[90mDEBUG\u001b[39m [11:56:31.772] Initializing master Beta... \n",
      "\u001b[90mDEBUG\u001b[39m [11:56:31.775] Merging node calculation to update new Betas. \n",
      "\u001b[90mDEBUG\u001b[39m [11:56:31.778] Updating the Betas. \n",
      "\u001b[90mDEBUG\u001b[39m [11:56:31.780]   - [DONE] \n",
      "INFO  [11:56:31.783] 3.3 - RPC Node Deviance \n",
      "\u001b[90mDEBUG\u001b[39m [11:56:31.785] ** Mocking call to \"node_deviance\" ** \n",
      "\u001b[90mDEBUG\u001b[39m [11:56:31.788] Regular call \n",
      "\u001b[90mDEBUG\u001b[39m [11:56:31.791] there are 3 datasets ..  \n"
     ]
    },
    {
     "name": "stderr",
     "output_type": "stream",
     "text": [
      "Warning message in if (family == \"rs.poi\") eval(as.name(dstar), data) else dstar:\n",
      "\"the condition has length > 1 and only the first element will be used\"\n"
     ]
    },
    {
     "name": "stdout",
     "output_type": "stream",
     "text": [
      "\u001b[90mDEBUG\u001b[39m [11:56:31.807] Log for site 1: \n",
      "\u001b[90mDEBUG\u001b[39m [11:56:31.809] Running a (mere) regular container. \n",
      "Calling RPC_node_deviance \n",
      "\u001b[90mDEBUG\u001b[39m [11:56:31.794] Starting node deviance. \n",
      "\u001b[90mDEBUG\u001b[39m [11:56:31.803] Updating the variables for node deviance.  \n"
     ]
    },
    {
     "name": "stderr",
     "output_type": "stream",
     "text": [
      "Warning message in if (family == \"rs.poi\") eval(as.name(dstar), data) else dstar:\n",
      "\"the condition has length > 1 and only the first element will be used\"\n"
     ]
    },
    {
     "name": "stdout",
     "output_type": "stream",
     "text": [
      "\u001b[90mDEBUG\u001b[39m [11:56:31.822] Log for site 2: \n",
      "\u001b[90mDEBUG\u001b[39m [11:56:31.824] Running a (mere) regular container. \n",
      "Calling RPC_node_deviance \n",
      "\u001b[90mDEBUG\u001b[39m [11:56:31.812] Starting node deviance. \n",
      "\u001b[90mDEBUG\u001b[39m [11:56:31.819] Updating the variables for node deviance.  \n"
     ]
    },
    {
     "name": "stderr",
     "output_type": "stream",
     "text": [
      "Warning message in if (family == \"rs.poi\") eval(as.name(dstar), data) else dstar:\n",
      "\"the condition has length > 1 and only the first element will be used\"\n"
     ]
    },
    {
     "name": "stdout",
     "output_type": "stream",
     "text": [
      "\u001b[90mDEBUG\u001b[39m [11:56:31.837] Log for site 3: \n",
      "\u001b[90mDEBUG\u001b[39m [11:56:31.840] Running a (mere) regular container. \n",
      "Calling RPC_node_deviance \n",
      "\u001b[90mDEBUG\u001b[39m [11:56:31.827] Starting node deviance. \n",
      "\u001b[90mDEBUG\u001b[39m [11:56:31.835] Updating the variables for node deviance.  \n",
      "\u001b[90mDEBUG\u001b[39m [11:56:31.842]   - [DONE] \n",
      "INFO  [11:56:31.845] 3.4 - Master deviance \n",
      "\u001b[90mDEBUG\u001b[39m [11:56:31.848] Starting master deviance. \n",
      "\u001b[90mDEBUG\u001b[39m [11:56:31.851]   - [DONE] \n",
      "INFO  [11:56:31.857] 3.5 - Termination conditions \n",
      "\u001b[90mDEBUG\u001b[39m [11:56:31.860]   - [DONE] \n",
      "INFO  [11:56:31.863]  \n",
      "INFO  [11:56:31.866] ############################################### \n",
      "INFO  [11:56:31.868] # Starting iteration 4 \n",
      "INFO  [11:56:31.870] ############################################### \n",
      "INFO  [11:56:31.873]  \n",
      "INFO  [11:56:31.875] 4.1 - RPC Node Beta \n",
      "\u001b[90mDEBUG\u001b[39m [11:56:31.879] ** Mocking call to \"node_beta\" ** \n",
      "\u001b[90mDEBUG\u001b[39m [11:56:31.883] Regular call \n",
      "\u001b[90mDEBUG\u001b[39m [11:56:31.885] there are 3 datasets ..  \n"
     ]
    },
    {
     "name": "stderr",
     "output_type": "stream",
     "text": [
      "Warning message in if (family == \"rs.poi\") eval(as.name(dstar), data) else dstar:\n",
      "\"the condition has length > 1 and only the first element will be used\"\n"
     ]
    },
    {
     "name": "stdout",
     "output_type": "stream",
     "text": [
      "\u001b[90mDEBUG\u001b[39m [11:56:31.900] Log for site 1: \n",
      "\u001b[90mDEBUG\u001b[39m [11:56:31.903] Running a (mere) regular container. \n",
      "Calling RPC_node_beta \n",
      "\u001b[90mDEBUG\u001b[39m [11:56:31.888] Initializing node beta... \n",
      "\u001b[90mDEBUG\u001b[39m [11:56:31.897] Calculating the Betas.  \n"
     ]
    },
    {
     "name": "stderr",
     "output_type": "stream",
     "text": [
      "Warning message in if (family == \"rs.poi\") eval(as.name(dstar), data) else dstar:\n",
      "\"the condition has length > 1 and only the first element will be used\"\n"
     ]
    },
    {
     "name": "stdout",
     "output_type": "stream",
     "text": [
      "\u001b[90mDEBUG\u001b[39m [11:56:31.915] Log for site 2: \n",
      "\u001b[90mDEBUG\u001b[39m [11:56:31.918] Running a (mere) regular container. \n",
      "Calling RPC_node_beta \n",
      "\u001b[90mDEBUG\u001b[39m [11:56:31.905] Initializing node beta... \n",
      "\u001b[90mDEBUG\u001b[39m [11:56:31.912] Calculating the Betas.  \n"
     ]
    },
    {
     "name": "stderr",
     "output_type": "stream",
     "text": [
      "Warning message in if (family == \"rs.poi\") eval(as.name(dstar), data) else dstar:\n",
      "\"the condition has length > 1 and only the first element will be used\"\n"
     ]
    },
    {
     "name": "stdout",
     "output_type": "stream",
     "text": [
      "\u001b[90mDEBUG\u001b[39m [11:56:31.932] Log for site 3: \n",
      "\u001b[90mDEBUG\u001b[39m [11:56:31.934] Running a (mere) regular container. \n",
      "Calling RPC_node_beta \n",
      "\u001b[90mDEBUG\u001b[39m [11:56:31.921] Initializing node beta... \n",
      "\u001b[90mDEBUG\u001b[39m [11:56:31.929] Calculating the Betas.  \n",
      "\u001b[90mDEBUG\u001b[39m [11:56:31.937]   - [DONE] \n",
      "INFO  [11:56:31.939] 4.2 - Master beta \n",
      "\u001b[90mDEBUG\u001b[39m [11:56:31.941] Initializing master Beta... \n",
      "\u001b[90mDEBUG\u001b[39m [11:56:31.945] Merging node calculation to update new Betas. \n",
      "\u001b[90mDEBUG\u001b[39m [11:56:31.949] Updating the Betas. \n",
      "\u001b[90mDEBUG\u001b[39m [11:56:31.955]   - [DONE] \n",
      "INFO  [11:56:31.958] 4.3 - RPC Node Deviance \n",
      "\u001b[90mDEBUG\u001b[39m [11:56:31.961] ** Mocking call to \"node_deviance\" ** \n",
      "\u001b[90mDEBUG\u001b[39m [11:56:31.964] Regular call \n",
      "\u001b[90mDEBUG\u001b[39m [11:56:31.966] there are 3 datasets ..  \n"
     ]
    },
    {
     "name": "stderr",
     "output_type": "stream",
     "text": [
      "Warning message in if (family == \"rs.poi\") eval(as.name(dstar), data) else dstar:\n",
      "\"the condition has length > 1 and only the first element will be used\"\n"
     ]
    },
    {
     "name": "stdout",
     "output_type": "stream",
     "text": [
      "\u001b[90mDEBUG\u001b[39m [11:56:31.978] Log for site 1: \n",
      "\u001b[90mDEBUG\u001b[39m [11:56:31.982] Running a (mere) regular container. \n",
      "Calling RPC_node_deviance \n",
      "\u001b[90mDEBUG\u001b[39m [11:56:31.969] Starting node deviance. \n",
      "\u001b[90mDEBUG\u001b[39m [11:56:31.975] Updating the variables for node deviance.  \n"
     ]
    },
    {
     "name": "stderr",
     "output_type": "stream",
     "text": [
      "Warning message in if (family == \"rs.poi\") eval(as.name(dstar), data) else dstar:\n",
      "\"the condition has length > 1 and only the first element will be used\"\n"
     ]
    },
    {
     "name": "stdout",
     "output_type": "stream",
     "text": [
      "\u001b[90mDEBUG\u001b[39m [11:56:31.996] Log for site 2: \n",
      "\u001b[90mDEBUG\u001b[39m [11:56:31.998] Running a (mere) regular container. \n",
      "Calling RPC_node_deviance \n",
      "\u001b[90mDEBUG\u001b[39m [11:56:31.985] Starting node deviance. \n",
      "\u001b[90mDEBUG\u001b[39m [11:56:31.993] Updating the variables for node deviance.  \n"
     ]
    },
    {
     "name": "stderr",
     "output_type": "stream",
     "text": [
      "Warning message in if (family == \"rs.poi\") eval(as.name(dstar), data) else dstar:\n",
      "\"the condition has length > 1 and only the first element will be used\"\n"
     ]
    },
    {
     "name": "stdout",
     "output_type": "stream",
     "text": [
      "\u001b[90mDEBUG\u001b[39m [11:56:32.010] Log for site 3: \n",
      "\u001b[90mDEBUG\u001b[39m [11:56:32.013] Running a (mere) regular container. \n",
      "Calling RPC_node_deviance \n",
      "\u001b[90mDEBUG\u001b[39m [11:56:32.001] Starting node deviance. \n",
      "\u001b[90mDEBUG\u001b[39m [11:56:32.006] Updating the variables for node deviance.  \n",
      "\u001b[90mDEBUG\u001b[39m [11:56:32.017]   - [DONE] \n",
      "INFO  [11:56:32.020] 4.4 - Master deviance \n",
      "\u001b[90mDEBUG\u001b[39m [11:56:32.023] Starting master deviance. \n",
      "\u001b[90mDEBUG\u001b[39m [11:56:32.027]   - [DONE] \n",
      "INFO  [11:56:32.029] 4.5 - Termination conditions \n",
      "\u001b[90mDEBUG\u001b[39m [11:56:32.032]   - [DONE] \n",
      "INFO  [11:56:32.035]  \n",
      "INFO  [11:56:32.037] ############################################### \n",
      "INFO  [11:56:32.039] # Starting iteration 5 \n",
      "INFO  [11:56:32.042] ############################################### \n",
      "INFO  [11:56:32.045]  \n",
      "INFO  [11:56:32.050] 5.1 - RPC Node Beta \n",
      "\u001b[90mDEBUG\u001b[39m [11:56:32.053] ** Mocking call to \"node_beta\" ** \n",
      "\u001b[90mDEBUG\u001b[39m [11:56:32.056] Regular call \n",
      "\u001b[90mDEBUG\u001b[39m [11:56:32.059] there are 3 datasets ..  \n"
     ]
    },
    {
     "name": "stderr",
     "output_type": "stream",
     "text": [
      "Warning message in if (family == \"rs.poi\") eval(as.name(dstar), data) else dstar:\n",
      "\"the condition has length > 1 and only the first element will be used\"\n"
     ]
    },
    {
     "name": "stdout",
     "output_type": "stream",
     "text": [
      "\u001b[90mDEBUG\u001b[39m [11:56:32.072] Log for site 1: \n",
      "\u001b[90mDEBUG\u001b[39m [11:56:32.075] Running a (mere) regular container. \n",
      "Calling RPC_node_beta \n",
      "\u001b[90mDEBUG\u001b[39m [11:56:32.062] Initializing node beta... \n",
      "\u001b[90mDEBUG\u001b[39m [11:56:32.069] Calculating the Betas.  \n"
     ]
    },
    {
     "name": "stderr",
     "output_type": "stream",
     "text": [
      "Warning message in if (family == \"rs.poi\") eval(as.name(dstar), data) else dstar:\n",
      "\"the condition has length > 1 and only the first element will be used\"\n"
     ]
    },
    {
     "name": "stdout",
     "output_type": "stream",
     "text": [
      "\u001b[90mDEBUG\u001b[39m [11:56:32.088] Log for site 2: \n",
      "\u001b[90mDEBUG\u001b[39m [11:56:32.090] Running a (mere) regular container. \n",
      "Calling RPC_node_beta \n",
      "\u001b[90mDEBUG\u001b[39m [11:56:32.078] Initializing node beta... \n",
      "\u001b[90mDEBUG\u001b[39m [11:56:32.084] Calculating the Betas.  \n"
     ]
    },
    {
     "name": "stderr",
     "output_type": "stream",
     "text": [
      "Warning message in if (family == \"rs.poi\") eval(as.name(dstar), data) else dstar:\n",
      "\"the condition has length > 1 and only the first element will be used\"\n"
     ]
    },
    {
     "name": "stdout",
     "output_type": "stream",
     "text": [
      "\u001b[90mDEBUG\u001b[39m [11:56:32.114] Log for site 3: \n",
      "\u001b[90mDEBUG\u001b[39m [11:56:32.117] Running a (mere) regular container. \n",
      "Calling RPC_node_beta \n",
      "\u001b[90mDEBUG\u001b[39m [11:56:32.096] Initializing node beta... \n",
      "\u001b[90mDEBUG\u001b[39m [11:56:32.109] Calculating the Betas.  \n",
      "\u001b[90mDEBUG\u001b[39m [11:56:32.120]   - [DONE] \n",
      "INFO  [11:56:32.123] 5.2 - Master beta \n",
      "\u001b[90mDEBUG\u001b[39m [11:56:32.125] Initializing master Beta... \n",
      "\u001b[90mDEBUG\u001b[39m [11:56:32.128] Merging node calculation to update new Betas. \n",
      "\u001b[90mDEBUG\u001b[39m [11:56:32.131] Updating the Betas. \n",
      "\u001b[90mDEBUG\u001b[39m [11:56:32.133]   - [DONE] \n",
      "INFO  [11:56:32.136] 5.3 - RPC Node Deviance \n",
      "\u001b[90mDEBUG\u001b[39m [11:56:32.139] ** Mocking call to \"node_deviance\" ** \n",
      "\u001b[90mDEBUG\u001b[39m [11:56:32.143] Regular call \n",
      "\u001b[90mDEBUG\u001b[39m [11:56:32.147] there are 3 datasets ..  \n"
     ]
    },
    {
     "name": "stderr",
     "output_type": "stream",
     "text": [
      "Warning message in if (family == \"rs.poi\") eval(as.name(dstar), data) else dstar:\n",
      "\"the condition has length > 1 and only the first element will be used\"\n"
     ]
    },
    {
     "name": "stdout",
     "output_type": "stream",
     "text": [
      "\u001b[90mDEBUG\u001b[39m [11:56:32.161] Log for site 1: \n",
      "\u001b[90mDEBUG\u001b[39m [11:56:32.164] Running a (mere) regular container. \n",
      "Calling RPC_node_deviance \n",
      "\u001b[90mDEBUG\u001b[39m [11:56:32.149] Starting node deviance. \n",
      "\u001b[90mDEBUG\u001b[39m [11:56:32.158] Updating the variables for node deviance.  \n"
     ]
    },
    {
     "name": "stderr",
     "output_type": "stream",
     "text": [
      "Warning message in if (family == \"rs.poi\") eval(as.name(dstar), data) else dstar:\n",
      "\"the condition has length > 1 and only the first element will be used\"\n"
     ]
    },
    {
     "name": "stdout",
     "output_type": "stream",
     "text": [
      "\u001b[90mDEBUG\u001b[39m [11:56:32.182] Log for site 2: \n",
      "\u001b[90mDEBUG\u001b[39m [11:56:32.184] Running a (mere) regular container. \n",
      "Calling RPC_node_deviance \n",
      "\u001b[90mDEBUG\u001b[39m [11:56:32.167] Starting node deviance. \n",
      "\u001b[90mDEBUG\u001b[39m [11:56:32.178] Updating the variables for node deviance.  \n"
     ]
    },
    {
     "name": "stderr",
     "output_type": "stream",
     "text": [
      "Warning message in if (family == \"rs.poi\") eval(as.name(dstar), data) else dstar:\n",
      "\"the condition has length > 1 and only the first element will be used\"\n"
     ]
    },
    {
     "name": "stdout",
     "output_type": "stream",
     "text": [
      "\u001b[90mDEBUG\u001b[39m [11:56:32.198] Log for site 3: \n",
      "\u001b[90mDEBUG\u001b[39m [11:56:32.201] Running a (mere) regular container. \n",
      "Calling RPC_node_deviance \n",
      "\u001b[90mDEBUG\u001b[39m [11:56:32.187] Starting node deviance. \n",
      "\u001b[90mDEBUG\u001b[39m [11:56:32.194] Updating the variables for node deviance.  \n",
      "\u001b[90mDEBUG\u001b[39m [11:56:32.203]   - [DONE] \n",
      "INFO  [11:56:32.206] 5.4 - Master deviance \n",
      "\u001b[90mDEBUG\u001b[39m [11:56:32.210] Starting master deviance. \n",
      "\u001b[90mDEBUG\u001b[39m [11:56:32.213]   - [DONE] \n",
      "INFO  [11:56:32.215] 5.5 - Termination conditions \n",
      "\u001b[90mDEBUG\u001b[39m [11:56:32.218]   - [CONVERGED] \n",
      "\u001b[90mDEBUG\u001b[39m [11:56:32.221] Preparing output \n"
     ]
    }
   ],
   "source": [
    "client <- vtg::MockClient$new(datasets, \"vtg.glm\")\n",
    "results_federated_plain <- vtg.glm::dglm(client, formula = y ~ x1 + x2, family=binomial(link = \"logit\"), tol=1e-08, maxit=25)"
   ]
  },
  {
   "cell_type": "markdown",
   "id": "3644c015",
   "metadata": {},
   "source": [
    "#### Comparison"
   ]
  },
  {
   "cell_type": "code",
   "execution_count": 8,
   "id": "73bb87fa",
   "metadata": {
    "scrolled": false
   },
   "outputs": [
    {
     "name": "stdout",
     "output_type": "stream",
     "text": [
      "[1] \"LaTeX\"\n",
      "\n",
      "% Table created by stargazer v.5.2.3 by Marek Hlavac, Social Policy Institute. E-mail: marek.hlavac at gmail.com\n",
      "% Date and time: Thu, May 05, 2022 - 11:56:32\n",
      "\\begin{table}[!htbp] \\centering \n",
      "  \\caption{} \n",
      "  \\label{} \n",
      "\\begin{tabular}{@{\\extracolsep{5pt}} ccccccccc} \n",
      "\\\\[-1.8ex]\\hline \n",
      "\\hline \\\\[-1.8ex] \n",
      " & coeff\\_c & coeff\\_f & stderr\\_c & stderr\\_f & pvalues\\_c & pvalues\\_f & zvalues\\_c & zvalues\\_f \\\\ \n",
      "\\hline \\\\[-1.8ex] \n",
      "(Intercept) & $0.104$ & $0.104$ & $0.064$ & $0.064$ & $0.106$ & $0.106$ & $1.617$ & $1.617$ \\\\ \n",
      "x1 & $2.593$ & $2.593$ & $0.093$ & $0.093$ & $0$ & $0$ & $27.802$ & $27.802$ \\\\ \n",
      "x2 & $$-$0.054$ & $$-$0.054$ & $0.051$ & $0.051$ & $0.291$ & $0.291$ & $$-$1.055$ & $$-$1.055$ \\\\ \n",
      "\\hline \\\\[-1.8ex] \n",
      "\\end{tabular} \n",
      "\\end{table} \n",
      "[1] \"Text\"\n",
      "\n",
      "=====================================================================================\n",
      "            coeff_c coeff_f stderr_c stderr_f pvalues_c pvalues_f zvalues_c zvalues_f\n",
      "-------------------------------------------------------------------------------------\n",
      "(Intercept)  0.104   0.104   0.064    0.064     0.106     0.106     1.617     1.617  \n",
      "x1           2.593   2.593   0.093    0.093       0         0      27.802    27.802  \n",
      "x2          -0.054  -0.054   0.051    0.051     0.291     0.291    -1.055    -1.055  \n",
      "-------------------------------------------------------------------------------------\n",
      "$converged\n",
      "[1] TRUE\n",
      "\n",
      "$converged\n",
      "[1] TRUE\n",
      "\n",
      "$dispersion\n",
      "[1] TRUE\n",
      "\n",
      "$formula\n",
      "[1] TRUE\n",
      "\n",
      "$family\n",
      "[1] TRUE\n",
      "\n",
      "$null.deviance\n",
      "[1] TRUE\n",
      "\n",
      "$df.residual\n",
      "[1] TRUE\n",
      "\n",
      "$df.null\n",
      "[1] TRUE\n",
      "\n"
     ]
    }
   ],
   "source": [
    "val_binomial_res = validate(results_centralized, results_federated_plain)\n",
    "print(val_binomial_res)"
   ]
  },
  {
   "cell_type": "markdown",
   "id": "18412637",
   "metadata": {},
   "source": [
    "### Custom relative survival (with Poisson error)"
   ]
  },
  {
   "cell_type": "code",
   "execution_count": 12,
   "id": "b668be2a",
   "metadata": {
    "scrolled": false
   },
   "outputs": [
    {
     "ename": "ERROR",
     "evalue": "Error in eval(predvars, data, env): object 'x3' not found\n",
     "output_type": "error",
     "traceback": [
      "Error in eval(predvars, data, env): object 'x3' not found\nTraceback:\n",
      "1. glm(data = data, formula = y ~ x1 + x2 + x3, family = poisson(link = modperiod.link(data$y)), \n .     mustart = mustart)",
      "2. eval(mf, parent.frame())",
      "3. eval(mf, parent.frame())",
      "4. stats::model.frame(formula = y ~ x1 + x2 + x3, data = data, mustart = mustart, \n .     drop.unused.levels = TRUE)",
      "5. model.frame.default(formula = y ~ x1 + x2 + x3, data = data, \n .     mustart = mustart, drop.unused.levels = TRUE)",
      "6. eval(predvars, data, env)",
      "7. eval(predvars, data, env)"
     ]
    }
   ],
   "source": [
    "# Housekeeping\n",
    "if(exists('results_centralized')){\n",
    "    rm(results_centralized)\n",
    "}\n",
    "if(exists('results_federated_plain')){\n",
    "    rm(results_federated_plain)\n",
    "}\n",
    "\n",
    "modperiod.link <- function(dstar) {\n",
    "  structure(\n",
    "    list(\n",
    "      # Link\n",
    "      linkfun = function(mu) {log(mu - dstar)} ,\n",
    "        \n",
    "      # Inverse link\n",
    "      linkinv = function(eta) {exp(eta) + dstar} ,\n",
    "        \n",
    "      # Derivative of the inverse link (d_mu/d_eta)\n",
    "      mu.eta = function(eta) {exp(eta)},\n",
    "        \n",
    "      # Functions for domain checking\n",
    "      valideta = function(eta) TRUE,\n",
    "      validmu = function(mu) mu > dstar ,\n",
    "        \n",
    "      #validmu = function(mu) all(is.finite(mu)) && all(mu > 0),\n",
    "      name = \"modperiod.link\"\n",
    "    ),\n",
    "    class = \"link-glm\"\n",
    "  )\n",
    "}\n",
    "format_data <- function(data, types) {\n",
    "  \n",
    "  column_names = names(types)\n",
    "  for(i in 1:length(types)) {\n",
    "    column_name = column_names[i]\n",
    "    specs = types[[i]]\n",
    "    type_ = specs$type\n",
    "    if (type_ == \"numeric\"){\n",
    "      data[[column_name]] = as.numeric(data[[column_name]])\n",
    "    }\n",
    "    if (type_ == \"factor\"){\n",
    "      data = data[data[[column_name]] %in% specs$levels,]\n",
    "      data[[column_name]] = factor(data[[column_name]], levels=specs$levels)\n",
    "      if(! is.null(specs$ref)) data[[column_name]] = relevel(data[[column_name]], ref=specs$ref)\n",
    "    }\n",
    "  }\n",
    "  data\n",
    "}\n",
    "types=list(prog=list(type='factor', levels=c('Vocational', 'General', 'Academic'), ref=NULL))\n",
    "data <- format_data(datasets_combined, types)\n",
    "mustart = pmax(data$y, data$y) + 0.1\n",
    "\n",
    "results_centralized <- glm(data=data, formula=y ~ x1 + x2 + x3, family = poisson(link = modperiod.link(data$y)), mustart=mustart)\n",
    "\n",
    "client <- vtg::MockClient$new(datasets, \"vtg.glm\")\n",
    "results_federated_plain <- vtg.glm::dglm(client, formula=y ~ x1 + x2 + x3, types=types, family='rs.poi', dstar=\"x2\", tol=1e-08, maxit=25)\n",
    "\n",
    "val_customglm_res = validate(results_centralized, results_federated_plain)\n",
    "print(val_customglm_res)\n",
    "rm(results_centralized)\n",
    "rm(results_federated_plain)"
   ]
  },
  {
   "cell_type": "markdown",
   "id": "7de66e09",
   "metadata": {},
   "source": [
    "## References\n",
    "For more information, please refer to our paper:\n",
    "\n",
    "> M. Cellamare, A.J. van Gestel, H. Alradhi, F. Martin, A. Moncada-Torres. \"A Federated Generalized Linear Model for Privacy-Preserving Analysis\". Under review"
   ]
  }
 ],
 "metadata": {
  "kernelspec": {
   "display_name": "R",
   "language": "R",
   "name": "ir"
  },
  "language_info": {
   "codemirror_mode": "r",
   "file_extension": ".r",
   "mimetype": "text/x-r-source",
   "name": "R",
   "pygments_lexer": "r",
   "version": "4.1.3"
  }
 },
 "nbformat": 4,
 "nbformat_minor": 5
}
