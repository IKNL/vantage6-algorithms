{
 "cells": [
  {
   "cell_type": "markdown",
   "metadata": {},
   "source": [
    "# dsummary\n",
    "Algorithm that mimics `summary` in R on distributed datasets. Which includes:\n",
    "* Check header labels\n",
    "* Count the number of rows\n",
    "* `Min`, `Max`, `Q1`, `Q2`, `Q3` and Average of `Int64` and `float64` columns\n",
    "* Categories of `category` columns\n",
    "\n",
    "Limits of the algorithm:\n",
    "* The entire dataset needs at least 10 records. Else no statistical analysis should be performed\n",
    "* `category` columns needs at least 2 different values\n",
    "* Column names (from the input) need to match the dataset column names"
   ]
  },
  {
   "cell_type": "markdown",
   "metadata": {},
   "source": [
    "## Summary"
   ]
  },
  {
   "cell_type": "code",
   "execution_count": 184,
   "metadata": {},
   "outputs": [],
   "source": [
    "import pandas\n",
    "import json"
   ]
  },
  {
   "cell_type": "markdown",
   "metadata": {},
   "source": [
    "### input.txt\n",
    "The input.txt is mounted by the docker-container, and contains input to the algorithm.\n",
    "\n",
    "The input for this algorithm include the method name that is called in the docker-container `summarize` and a `dict` containing column names and dtypes. The allowed types are: `object`, `int64`, `float64`, `bool`, `datetime64`, `category`"
   ]
  },
  {
   "cell_type": "code",
   "execution_count": 185,
   "metadata": {},
   "outputs": [],
   "source": [
    "input_ = {\n",
    "    \"method\":\"summarize\", \n",
    "    \"columns\":{\n",
    "        \"patient_id\": 'Int64',\n",
    "        \"age\": 'Int64',\n",
    "        \"weight\": 'float64', \n",
    "        \"stage\": 'category',\n",
    "        \"cat\": 'category',\n",
    "        \"hot_encoded\": 'Int64'\n",
    "    }\n",
    "}"
   ]
  },
  {
   "cell_type": "markdown",
   "metadata": {},
   "source": [
    "### database.csv\n",
    "The database csv-file is mounted in the docker-container."
   ]
  },
  {
   "cell_type": "code",
   "execution_count": 186,
   "metadata": {},
   "outputs": [
    {
     "data": {
      "text/plain": [
       "'C:\\\\Users\\\\FMa1805.36838\\\\Repositories\\\\dSummary'"
      ]
     },
     "execution_count": 186,
     "metadata": {},
     "output_type": "execute_result"
    }
   ],
   "source": [
    "%pwd"
   ]
  },
  {
   "cell_type": "code",
   "execution_count": 187,
   "metadata": {},
   "outputs": [
    {
     "data": {
      "text/html": [
       "<div>\n",
       "<style scoped>\n",
       "    .dataframe tbody tr th:only-of-type {\n",
       "        vertical-align: middle;\n",
       "    }\n",
       "\n",
       "    .dataframe tbody tr th {\n",
       "        vertical-align: top;\n",
       "    }\n",
       "\n",
       "    .dataframe thead th {\n",
       "        text-align: right;\n",
       "    }\n",
       "</style>\n",
       "<table border=\"1\" class=\"dataframe\">\n",
       "  <thead>\n",
       "    <tr style=\"text-align: right;\">\n",
       "      <th></th>\n",
       "      <th>patient_id</th>\n",
       "      <th>age</th>\n",
       "      <th>weight</th>\n",
       "      <th>stage</th>\n",
       "      <th>cat</th>\n",
       "      <th>hot_encoded</th>\n",
       "    </tr>\n",
       "  </thead>\n",
       "  <tbody>\n",
       "    <tr>\n",
       "      <th>0</th>\n",
       "      <td>1</td>\n",
       "      <td>41</td>\n",
       "      <td>73.2</td>\n",
       "      <td>IV</td>\n",
       "      <td>Q</td>\n",
       "      <td>1</td>\n",
       "    </tr>\n",
       "    <tr>\n",
       "      <th>1</th>\n",
       "      <td>2</td>\n",
       "      <td>37</td>\n",
       "      <td>65.9</td>\n",
       "      <td>I</td>\n",
       "      <td>Q</td>\n",
       "      <td>NaN</td>\n",
       "    </tr>\n",
       "    <tr>\n",
       "      <th>2</th>\n",
       "      <td>3</td>\n",
       "      <td>45</td>\n",
       "      <td>84.1</td>\n",
       "      <td>II</td>\n",
       "      <td>Q</td>\n",
       "      <td>0</td>\n",
       "    </tr>\n",
       "    <tr>\n",
       "      <th>3</th>\n",
       "      <td>4</td>\n",
       "      <td>47</td>\n",
       "      <td>83.1</td>\n",
       "      <td>II</td>\n",
       "      <td>Q</td>\n",
       "      <td>0</td>\n",
       "    </tr>\n",
       "    <tr>\n",
       "      <th>4</th>\n",
       "      <td>5</td>\n",
       "      <td>33</td>\n",
       "      <td>NaN</td>\n",
       "      <td>NaN</td>\n",
       "      <td>Q</td>\n",
       "      <td>1</td>\n",
       "    </tr>\n",
       "    <tr>\n",
       "      <th>5</th>\n",
       "      <td>6</td>\n",
       "      <td>34</td>\n",
       "      <td>NaN</td>\n",
       "      <td>NaN</td>\n",
       "      <td>Q</td>\n",
       "      <td>1</td>\n",
       "    </tr>\n",
       "    <tr>\n",
       "      <th>6</th>\n",
       "      <td>7</td>\n",
       "      <td>34</td>\n",
       "      <td>NaN</td>\n",
       "      <td>NaN</td>\n",
       "      <td>Q</td>\n",
       "      <td>1</td>\n",
       "    </tr>\n",
       "    <tr>\n",
       "      <th>7</th>\n",
       "      <td>8</td>\n",
       "      <td>34</td>\n",
       "      <td>NaN</td>\n",
       "      <td>NaN</td>\n",
       "      <td>Q</td>\n",
       "      <td>1</td>\n",
       "    </tr>\n",
       "    <tr>\n",
       "      <th>8</th>\n",
       "      <td>9</td>\n",
       "      <td>34</td>\n",
       "      <td>NaN</td>\n",
       "      <td>NaN</td>\n",
       "      <td>Q</td>\n",
       "      <td>1</td>\n",
       "    </tr>\n",
       "    <tr>\n",
       "      <th>9</th>\n",
       "      <td>10</td>\n",
       "      <td>34</td>\n",
       "      <td>NaN</td>\n",
       "      <td>NaN</td>\n",
       "      <td>Q</td>\n",
       "      <td>1</td>\n",
       "    </tr>\n",
       "  </tbody>\n",
       "</table>\n",
       "</div>"
      ],
      "text/plain": [
       "   patient_id  age  weight stage cat  hot_encoded\n",
       "0           1   41    73.2    IV   Q            1\n",
       "1           2   37    65.9     I   Q          NaN\n",
       "2           3   45    84.1    II   Q            0\n",
       "3           4   47    83.1    II   Q            0\n",
       "4           5   33     NaN   NaN   Q            1\n",
       "5           6   34     NaN   NaN   Q            1\n",
       "6           7   34     NaN   NaN   Q            1\n",
       "7           8   34     NaN   NaN   Q            1\n",
       "8           9   34     NaN   NaN   Q            1\n",
       "9          10   34     NaN   NaN   Q            1"
      ]
     },
     "execution_count": 187,
     "metadata": {},
     "output_type": "execute_result"
    }
   ],
   "source": [
    "dataframe = pandas.read_csv(\"./local/database.csv\", sep=\";\",decimal=\",\", dtype=input_.get(\"columns\"))\n",
    "dataframe"
   ]
  },
  {
   "cell_type": "code",
   "execution_count": 188,
   "metadata": {},
   "outputs": [
    {
     "data": {
      "text/plain": [
       "patient_id        Int64\n",
       "age               Int64\n",
       "weight          float64\n",
       "stage          category\n",
       "cat            category\n",
       "hot_encoded       Int64\n",
       "dtype: object"
      ]
     },
     "execution_count": 188,
     "metadata": {},
     "output_type": "execute_result"
    }
   ],
   "source": [
    "dataframe.dtypes"
   ]
  },
  {
   "cell_type": "markdown",
   "metadata": {},
   "source": [
    "### algorithm.py"
   ]
  },
  {
   "cell_type": "code",
   "execution_count": 189,
   "metadata": {},
   "outputs": [
    {
     "name": "stdout",
     "output_type": "stream",
     "text": [
      "column_names_correct=True\n"
     ]
    }
   ],
   "source": [
    "# retrieve column names from the dataset\n",
    "columns_series = pandas.Series(data=input_.get(\"columns\"))\n",
    "column_names = list(columns_series.keys())\n",
    "\n",
    "# compare column names from dataset to the input column names\n",
    "column_names_correct = column_names == list(input_.get(\"columns\").keys())\n",
    "print(f\"column_names_correct={column_names_correct}\")"
   ]
  },
  {
   "cell_type": "code",
   "execution_count": 190,
   "metadata": {},
   "outputs": [
    {
     "name": "stdout",
     "output_type": "stream",
     "text": [
      "number_of_rows=10\n"
     ]
    }
   ],
   "source": [
    "# count the number of rows in the dataset\n",
    "number_of_rows = len(dataframe)\n",
    "print(f\"number_of_rows={number_of_rows}\")"
   ]
  },
  {
   "cell_type": "code",
   "execution_count": 218,
   "metadata": {},
   "outputs": [
    {
     "data": {
      "text/html": [
       "<div>\n",
       "<style scoped>\n",
       "    .dataframe tbody tr th:only-of-type {\n",
       "        vertical-align: middle;\n",
       "    }\n",
       "\n",
       "    .dataframe tbody tr th {\n",
       "        vertical-align: top;\n",
       "    }\n",
       "\n",
       "    .dataframe thead th {\n",
       "        text-align: right;\n",
       "    }\n",
       "</style>\n",
       "<table border=\"1\" class=\"dataframe\">\n",
       "  <thead>\n",
       "    <tr style=\"text-align: right;\">\n",
       "      <th></th>\n",
       "      <th>min</th>\n",
       "      <th>q1</th>\n",
       "      <th>median</th>\n",
       "      <th>mean</th>\n",
       "      <th>q3</th>\n",
       "      <th>max</th>\n",
       "      <th>nan</th>\n",
       "      <th>sum</th>\n",
       "      <th>sq_dev_sum</th>\n",
       "      <th>std</th>\n",
       "    </tr>\n",
       "  </thead>\n",
       "  <tbody>\n",
       "    <tr>\n",
       "      <th>age</th>\n",
       "      <td>33.0</td>\n",
       "      <td>34.000</td>\n",
       "      <td>34.00</td>\n",
       "      <td>37.300000</td>\n",
       "      <td>40.00</td>\n",
       "      <td>47.0</td>\n",
       "      <td>0</td>\n",
       "      <td>373.0</td>\n",
       "      <td>240.100000</td>\n",
       "      <td>5.165054</td>\n",
       "    </tr>\n",
       "    <tr>\n",
       "      <th>hot_encoded</th>\n",
       "      <td>0.0</td>\n",
       "      <td>1.000</td>\n",
       "      <td>1.00</td>\n",
       "      <td>0.777778</td>\n",
       "      <td>1.00</td>\n",
       "      <td>1.0</td>\n",
       "      <td>1</td>\n",
       "      <td>7.0</td>\n",
       "      <td>1.555556</td>\n",
       "      <td>0.440959</td>\n",
       "    </tr>\n",
       "    <tr>\n",
       "      <th>patient_id</th>\n",
       "      <td>1.0</td>\n",
       "      <td>3.250</td>\n",
       "      <td>5.50</td>\n",
       "      <td>5.500000</td>\n",
       "      <td>7.75</td>\n",
       "      <td>10.0</td>\n",
       "      <td>0</td>\n",
       "      <td>55.0</td>\n",
       "      <td>82.500000</td>\n",
       "      <td>3.027650</td>\n",
       "    </tr>\n",
       "    <tr>\n",
       "      <th>weight</th>\n",
       "      <td>65.9</td>\n",
       "      <td>71.375</td>\n",
       "      <td>78.15</td>\n",
       "      <td>76.575000</td>\n",
       "      <td>83.35</td>\n",
       "      <td>84.1</td>\n",
       "      <td>6</td>\n",
       "      <td>306.3</td>\n",
       "      <td>224.547500</td>\n",
       "      <td>8.651541</td>\n",
       "    </tr>\n",
       "  </tbody>\n",
       "</table>\n",
       "</div>"
      ],
      "text/plain": [
       "              min      q1  median       mean     q3   max  nan    sum  \\\n",
       "age          33.0  34.000   34.00  37.300000  40.00  47.0    0  373.0   \n",
       "hot_encoded   0.0   1.000    1.00   0.777778   1.00   1.0    1    7.0   \n",
       "patient_id    1.0   3.250    5.50   5.500000   7.75  10.0    0   55.0   \n",
       "weight       65.9  71.375   78.15  76.575000  83.35  84.1    6  306.3   \n",
       "\n",
       "             sq_dev_sum       std  \n",
       "age          240.100000  5.165054  \n",
       "hot_encoded    1.555556  0.440959  \n",
       "patient_id    82.500000  3.027650  \n",
       "weight       224.547500  8.651541  "
      ]
     },
     "execution_count": 218,
     "metadata": {},
     "output_type": "execute_result"
    }
   ],
   "source": [
    "# compute the avarage of the numeric columns\n",
    "columns = {}\n",
    "numeric_colums = columns_series.loc[columns_series.isin(['Int64','float64'])]\n",
    "\n",
    "for column_name in numeric_colums.keys():\n",
    "    column_values = dataframe[column_name]\n",
    "    q1, median, q3 = column_values.quantile([0.25,0.5,0.75]).values\n",
    "    mean = column_values.mean()\n",
    "    minimum = column_values.min()\n",
    "    maximum = column_values.max()\n",
    "    nan = column_values.isna().sum()\n",
    "    total = column_values.sum()\n",
    "    std = column_values.std()\n",
    "    sq_dev_sum = (column_values-column_values.mean()).pow(2).sum()\n",
    "    columns[column_name] = {\n",
    "        \"min\": minimum,\n",
    "        \"q1\": q1,\n",
    "        \"median\": median,\n",
    "        \"mean\": mean,\n",
    "        \"q3\": q3,\n",
    "        \"max\": maximum,\n",
    "        \"nan\": int(nan),\n",
    "        \"sum\": total,\n",
    "        \"sq_dev_sum\": sq_dev_sum,\n",
    "        \"std\": std\n",
    "    }\n",
    "pandas.DataFrame.from_dict(columns,orient='index')"
   ]
  },
  {
   "cell_type": "code",
   "execution_count": 219,
   "metadata": {},
   "outputs": [
    {
     "data": {
      "text/plain": [
       "Index(['I', 'II', 'IV'], dtype='object')"
      ]
     },
     "execution_count": 219,
     "metadata": {},
     "output_type": "execute_result"
    }
   ],
   "source": [
    "dataframe[\"stage\"].cat.categories"
   ]
  },
  {
   "cell_type": "code",
   "execution_count": 220,
   "metadata": {},
   "outputs": [
    {
     "data": {
      "text/plain": [
       "{'II': 2, 'IV': 1, 'I': 1}"
      ]
     },
     "execution_count": 220,
     "metadata": {},
     "output_type": "execute_result"
    }
   ],
   "source": [
    "dataframe[\"stage\"].value_counts().to_dict()"
   ]
  },
  {
   "cell_type": "code",
   "execution_count": 221,
   "metadata": {},
   "outputs": [
    {
     "data": {
      "text/plain": [
       "II    2\n",
       "IV    1\n",
       "I     1\n",
       "dtype: int64"
      ]
     },
     "metadata": {},
     "output_type": "display_data"
    },
    {
     "data": {
      "text/plain": [
       "Q    10\n",
       "dtype: int64"
      ]
     },
     "metadata": {},
     "output_type": "display_data"
    }
   ],
   "source": [
    "# return the categories in categorial columns\n",
    "categoral_colums = columns_series.loc[columns_series.isin(['category'])]\n",
    "\n",
    "for column_name in categoral_colums.keys():\n",
    "    \n",
    "    columns[column_name] = dataframe[column_name].value_counts().to_dict()\n",
    "    \n",
    "    display(pandas.Series(columns[column_name]))"
   ]
  },
  {
   "cell_type": "code",
   "execution_count": 222,
   "metadata": {},
   "outputs": [
    {
     "data": {
      "text/plain": [
       "{'column_names_correct': True,\n",
       " 'number_of_rows': 10,\n",
       " 'statistics': {'patient_id': {'min': 1,\n",
       "   'q1': 3.25,\n",
       "   'median': 5.5,\n",
       "   'mean': 5.5,\n",
       "   'q3': 7.75,\n",
       "   'max': 10,\n",
       "   'nan': 0,\n",
       "   'sum': 55,\n",
       "   'sq_dev_sum': 82.5,\n",
       "   'std': 3.0276503540974917},\n",
       "  'age': {'min': 33,\n",
       "   'q1': 34.0,\n",
       "   'median': 34.0,\n",
       "   'mean': 37.3,\n",
       "   'q3': 40.0,\n",
       "   'max': 47,\n",
       "   'nan': 0,\n",
       "   'sum': 373,\n",
       "   'sq_dev_sum': 240.10000000000002,\n",
       "   'std': 5.165053511608353},\n",
       "  'weight': {'min': 65.9,\n",
       "   'q1': 71.375,\n",
       "   'median': 78.15,\n",
       "   'mean': 76.575,\n",
       "   'q3': 83.35,\n",
       "   'max': 84.1,\n",
       "   'nan': 6,\n",
       "   'sum': 306.3,\n",
       "   'sq_dev_sum': 224.5474999999997,\n",
       "   'std': 8.651541288502678},\n",
       "  'hot_encoded': {'min': 0,\n",
       "   'q1': 1.0,\n",
       "   'median': 1.0,\n",
       "   'mean': 0.7777777777777778,\n",
       "   'q3': 1.0,\n",
       "   'max': 1,\n",
       "   'nan': 1,\n",
       "   'sum': 7,\n",
       "   'sq_dev_sum': 1.5555555555555556,\n",
       "   'std': 0.44095855184409843},\n",
       "  'stage': {'II': 2, 'IV': 1, 'I': 1},\n",
       "  'cat': {'Q': 10}}}"
      ]
     },
     "execution_count": 222,
     "metadata": {},
     "output_type": "execute_result"
    }
   ],
   "source": [
    "output = {\n",
    "    \"column_names_correct\": column_names_correct,\n",
    "    \"number_of_rows\": number_of_rows,\n",
    "    \"statistics\": columns\n",
    "}\n",
    "output"
   ]
  },
  {
   "cell_type": "markdown",
   "metadata": {},
   "source": [
    "### output.txt"
   ]
  },
  {
   "cell_type": "code",
   "execution_count": 223,
   "metadata": {},
   "outputs": [],
   "source": [
    "with open(\"./local/output.txt\", \"w\") as fp:\n",
    "    json.dump(output,fp)"
   ]
  },
  {
   "cell_type": "markdown",
   "metadata": {},
   "source": [
    "## Master\n",
    "The master container computes the statistics at each site and computes the global statistics. The `Q1`, `Median` and `Q3` cannot be computed in a privacy preserving way. Therefore only the global `Min`, `Max`, `Mean` and number of `NaN`'s is reported. In computing the `Mean` the NaN values are ignored.\n",
    "\n",
    "Things to keep in mind:\n",
    "* if one or more of the sites has incorrect headers (column_names) then you will recieve `header_columns_correct:false` error\n",
    "* if one or more of the sites contain less then 10 records then you will recieve a warning message `warn > Dataset has less than 10 rows. Exiting.`"
   ]
  },
  {
   "cell_type": "code",
   "execution_count": 233,
   "metadata": {},
   "outputs": [],
   "source": [
    "results = [output]"
   ]
  },
  {
   "cell_type": "code",
   "execution_count": 234,
   "metadata": {},
   "outputs": [],
   "source": [
    "g_stats = {}\n",
    "\n",
    "# check that all dataset reported their headers are correct\n",
    "g_stats[\"column_names_correct\"] = all(x[\"column_names_correct\"] for x in results)\n",
    "\n",
    "# count the total number of rows of all datasets\n",
    "g_stats[\"number_of_rows\"] = sum(x[\"number_of_rows\"] for x in results)\n",
    "\n",
    "# compute global statics for numeric columns\n",
    "for header in numeric_colums.keys():\n",
    "\n",
    "    n = g_stats[\"number_of_rows\"]\n",
    "    \n",
    "    # extract the statistics for each column and all results\n",
    "    stats = [ result[\"statistics\"][header] for result in results ] \n",
    "    \n",
    "    # compute globals\n",
    "    g_min = min([x.get(\"min\") for x in stats])\n",
    "    g_max = max([x.get(\"max\") for x in stats])\n",
    "    g_nan = sum([x.get(\"nan\") for x in stats])\n",
    "    g_mean = sum([x.get(\"sum\") for x in stats]) / (n-g_nan)\n",
    "    g_std = (sum([x.get(\"sq_dev_sum\") for x in stats]) / (n-1-g_nan))**(0.5)\n",
    "    \n",
    "    # estimate the median\n",
    "    # see https://stats.stackexchange.com/questions/103919/estimate-median-from-mean-std-dev-and-or-range\n",
    "    u_std = (((n-1)/n)**(0.5)) * g_std \n",
    "    g_median = [\n",
    "        max([g_min, g_mean - u_std]),\n",
    "        min([g_max, g_mean + u_std])\n",
    "    ]\n",
    "    \n",
    "    g_stats[header] = {\n",
    "        \"min\": g_min,\n",
    "        \"max\": g_max,\n",
    "        \"nan\": g_nan,\n",
    "        \"mean\": g_mean,\n",
    "        \"std\": g_std,\n",
    "        \"median\": g_median\n",
    "    }"
   ]
  },
  {
   "cell_type": "code",
   "execution_count": 236,
   "metadata": {},
   "outputs": [
    {
     "data": {
      "text/plain": [
       "{'column_names_correct': True,\n",
       " 'number_of_rows': 10,\n",
       " 'patient_id': {'min': 1,\n",
       "  'max': 10,\n",
       "  'nan': 0,\n",
       "  'mean': 5.5,\n",
       "  'std': 3.0276503540974917,\n",
       "  'median': [2.6277186767309857, 8.372281323269014]},\n",
       " 'age': {'min': 33,\n",
       "  'max': 47,\n",
       "  'nan': 0,\n",
       "  'mean': 37.3,\n",
       "  'std': 5.165053511608353,\n",
       "  'median': [33, 42.199999999999996]},\n",
       " 'weight': {'min': 65.9,\n",
       "  'max': 84.1,\n",
       "  'nan': 6,\n",
       "  'mean': 76.575,\n",
       "  'std': 8.651541288502678,\n",
       "  'median': [68.36742727720309, 84.1]},\n",
       " 'hot_encoded': {'min': 0,\n",
       "  'max': 1,\n",
       "  'nan': 1,\n",
       "  'mean': 0.7777777777777778,\n",
       "  'std': 0.44095855184409843,\n",
       "  'median': [0.35944776451074, 1]}}"
      ]
     },
     "execution_count": 236,
     "metadata": {},
     "output_type": "execute_result"
    }
   ],
   "source": [
    "g_stats"
   ]
  }
 ],
 "metadata": {
  "kernelspec": {
   "display_name": "Python 3",
   "language": "python",
   "name": "python3"
  },
  "language_info": {
   "codemirror_mode": {
    "name": "ipython",
    "version": 3
   },
   "file_extension": ".py",
   "mimetype": "text/x-python",
   "name": "python",
   "nbconvert_exporter": "python",
   "pygments_lexer": "ipython3",
   "version": "3.7.0"
  }
 },
 "nbformat": 4,
 "nbformat_minor": 2
}
